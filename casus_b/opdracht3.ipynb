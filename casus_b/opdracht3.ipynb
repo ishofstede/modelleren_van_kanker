{
 "cells": [
  {
   "cell_type": "markdown",
   "metadata": {},
   "source": [
    "### Opdracht 3\n"
   ]
  },
  {
   "cell_type": "markdown",
   "metadata": {},
   "source": [
    "## load imports"
   ]
  },
  {
   "cell_type": "code",
   "execution_count": 22,
   "metadata": {},
   "outputs": [],
   "source": [
    "# preprocess de zinnen"
   ]
  },
  {
   "cell_type": "markdown",
   "metadata": {},
   "source": [
    "## load data"
   ]
  },
  {
   "cell_type": "code",
   "execution_count": 23,
   "metadata": {},
   "outputs": [
    {
     "name": "stdout",
     "output_type": "stream",
     "text": [
      "wiki_text len: 62\n"
     ]
    }
   ],
   "source": [
    "with open(\"wiki.txt\", \"r\") as file:\n",
    "    wiki_text = [line.strip() for line in file if len(line.strip().split()) >= 10]\n",
    "\n",
    "print(f\"wiki_text len: {len(wiki_text)}\")\n",
    "\n",
    "with open(\"stopwoorden.txt\", \"r\") as file:\n",
    "    stopwoorden = [line.strip() for line in file if line]"
   ]
  },
  {
   "cell_type": "markdown",
   "metadata": {},
   "source": [
    "## preprocess sentence"
   ]
  },
  {
   "cell_type": "code",
   "execution_count": 24,
   "metadata": {},
   "outputs": [],
   "source": [
    "def preprocess_sentence(sentence):\n",
    "    to_exclude = \"/.,'\\\":;()[]0123456789\"\n",
    "    # Verwijder ongewenste tekens\n",
    "    sentence = \"\".join([char if char not in to_exclude else \" \" for char in sentence])\n",
    "    # Verwijder stopwoorden\n",
    "    sentence = \" \".join([word for word in sentence.split() if word.lower() not in stopwoorden])\n",
    "    return sentence\n"
   ]
  },
  {
   "cell_type": "code",
   "execution_count": 25,
   "metadata": {},
   "outputs": [
    {
     "name": "stdout",
     "output_type": "stream",
     "text": [
      "vocab len: 733\n",
      "['Kanker medisch Latijn neoplasma malignum kwaadaardig nieuwgevormd weefsel ziekte', 'cellen onbeheerst vermenigvuldigen', 'woekerende cellen omliggend weefsel richten schade invasieve groei infiltratie', 'woekerende cellen verspreiden plaatsen lichaam metastasering uitzaaiing lymfevaten lymfogene metastasering bloed hematogene metastasering verschillende lichaamsholten bijvoorbeeld buikholte', 'Nagenoeg medische specialismen behandeling kanker medisch specialisten oncologie radiotherapie kanker doodsoorzaak', 'Lezing Erasmus kanker - Universiteit', 'kanker klassiek Latijnse cancer vanuit Romeinse encyclopedieschrijver Celsus', 'Kanker aandoening gekenmerkt onbeheerste groei abnormaal weefsel neoplasie aanhoudende ongecontroleerde celdeling Gezonde cellen lichaam prolifereren bepaalde organen vernieuwing herstel Tijdens celproliferatie cellen specifieke grootte afhankelijk functie proces celdifferentiatie deling differentiatie invloed extracellulaire cel afkomstige factoren hormonen chemische stoffen virussen inwendige intracellulaire signalen soorten factoren bevorderen aanmaak specifieke eiwitten invloed specifieke regel-genen cel stimulerende remmende invloed celdeling uitoefenen Inwendige intracellulaire signalen cellulaire signaalstoffen respectievelijk groeifactoren groeiremmers', 'één meerdere cellen ontsnappen regulerende mechanismen ongecontroleerde celdeling celwoekering lokaal gezwel tumor ontregeling complexe samenspel groeibevorderende groeiremmende factoren voordeel groeistimulatie delende cellen nieuwgroei neoplasie normale functie verloren kanker geval kwaadaardige maligne gezwellen tegenstelling goedaardige benigne gezwellen orgaan vernietigen beschadigen verspreiden invasie omgeving uitgroeien omringende weefsel Eventueel uitzaaien bloed- lymfestroom organen terechtkomen', 'Nederlandse kankerregistratie gevallen kanker vastgesteld stierven mensen kanker', 'mensen kanker mannen % vrouwen % risico overlijden kanker jaar jaar mensen kanker overleven langer', 'mannen volgende typen kanker prostaatkanker longkanker darmkanker', 'vrouwen meest borstkanker darmkanker longkanker', 'Kankersoorten kinderen jongeren meest frequent voorkomen leukemie lymfomen hersentumoren', 'Centraal pathogenese kanker defecten DNA genmutaties Genmutaties erfelijke aanleg verwerving milieu-invloeden', 'Erfelijke mutaties mutaties overgeërfd verhoogd risico kanker verband gesproken erfelijke kanker Voorbeelden BRCA -gen BRCA -gen Vrouwen dergelijke overgeërfde mutatie verhoogd risico borstkanker ovariumcarcinoom', 'Infecties Verschillende biologische ziekteverwekkers verband bepaalde typen kanker Enkele voorbeelden', 'Roken alcohol consumptie rood vlees vlees oorzakelijk verband verschillende kanker chemische bestrijdingsmiddelen verband', 'Fysische factoren Ultraviolette ioniserende straling mutaties kanker veroorzaken', 'Chemische stoffen verschillende chemische stoffen kanker veroorzaken zogeheten carcinogenen Voorbeelden stoffen gekoppelde verhoogde risico bepaalde kanker', 'daadwerkelijk kanker moeten mutaties genen betrokken reguleren celdeling volgende genen belang', 'Kanker treedt aantal bovengenoemde genen mutaties opgetreden mutatie kans nieuwe mutaties toeneemt Mutaties proto-oncogenen tumorsuppressorgenen mogelijk cellen ongebreideld deling gezonde cellen kans mutaties mutaties DNA-repairgenen kans nieuwe mutaties verhoogt onderdrukking apoptose cel vernietigd', 'ontwikkeling kanker mutaties bovengenoemde genen kankerproces voortschrijdt zullen mutaties', 'nieuwe bloedvaten aangelegd tumor ontwikkeling angiogenese', 'ontaarde cellen omliggende weefsel dringen invasie', 'ontaarde cellen omgeving terechtkomen plaatsen lichaam uitgroeien tumor metastasering', 'ontaarde cellen onsterfelijk normaal gesproken cel ongeveer Hayflick-limiet kankercellen limiet', 'Indien ontaarde cellen uiteindelijk voldoen kenmerken kanker ongebreideld infiltreren omgeving metastaseren kanker Kankercellen zullen nauwelijks oorspronkelijke functie bezighouden energie aanwenden', 'Allereerst puntmutatie tumorsuppressorgenen amplificatie één meerdere kopieën gen genomen teveel groeibevorderende genen evenwicht tumorsuppressorgenen balans brengen', 'mogelijkheid chromosoomtranslocatie reciproque wederzijdse translocatie proto-oncogen plaats eventueel chromosoom gen onttrokken invloed normaal regulerende genen gen bijvoorbeeld terechtkomen gebied regulerende DNA-sequenties expressie toenemen geval burkittlymfoom chronische myeloïde leukemie', 'samensmelting verschillende genen fusiegen Philadelphiachromosoom actief gevaarlijk oncogen gedragen', 'genen zorgen gewoonlijk cellen ongebreideld tumorsuppressorgenen mutatie regulering deling cel verdwijnen Zodoende cel ongestoord verdergaan mutaties tumorsuppressorgenen uitgeschakeld Sommige genen uitgeschakeld hyper-methylering promotor-regio gen', 'Proto-oncogenen gewoonlijk betrokken stimuleren normale celdelingen groeibevorderende genen zorgen groei deling cellen organen weefsel omvang toenemen stimuleren celdeling Indien mutatie proto-oncogen verwordt oncogen onco-gen cel overmatige zelfs onbeperkte deling', 'cel normale wijze functioneert treedt zelfvernietigingsmechanisme werking cel gronde kanker genen zorgen uitgeschakeld', 'Lichaamscellen beschikking DNA-herstelsysteem afwijkingen DNA hersteld mutatie DNA-herstelgen fouten DNA voldoende hersteld defecten DNA', 'Sommige chemicaliën betrokken – % kankergevallen mensen voorkomen chemicaliën mutageen zeggen nieuwe mutaties chromosomen genomen genen mutatiefrequentie opdrijven mutaties kanker factoren zekerheid kanker genereren noemen carcinogenen carcinogeen mutageen omgekeerd', 'grote betrokkenheid chemicaliën verbinding aangaan DNA Mutagene chemicaliën elektrofiele stoffen genoemd onderscheid actief mutagene stoffen promutagenen stoffen mutageen invloed bepaalde enzymen lichaam', 'carcinogenen opgespoord verbrand gefrituurd voedsel bacteriën schimmels medicamenten kankerverwekkende effecten laatste verklaren doordat voornamelijk hormonen kankerstimulerend bijvoorbeeld deshormoon di-ethylstilbestrol derivaat oestrogeen bleek vaginale kanker geslachtshormonen veroorzaken mutaties gedragen kankerpromotoren stimuleren bestaande kankercellen ontwikkeling kankerpromotoren co-mutagenen rechtstreekse mutageen bevordert Alcohol zo’n stof invloed bepaalde carcinogeen leverkanker hand', 'fysische factoren straling grote energie-inhoud kanker veroorzaken stralen golflengte ioniserende stralen moleculen elektrisch laden gevolg DNA beschadigd vervolgens mutaties voortbrengt Voorbeelden ioniserende stralen X-stralen röntgenfoto’s gammastralen atoombom kosmische stralen zelfs gelegen weefsel mutaties niveau lichaamscellen somamutatie erfelijke mutaties teweegbrengen straling rechtstreeks kans kanker toenemen doordat proto-oncogenen lichaam activeert effect n straling hangt intensiteit opnamesnelheid laag geconcentreerde gedoseerde straling lichaam beschadigde cellen herstellen intensieve blootstelling verhoogd risico kanker', 'zonlicht straling uv-stralen niet-ioniserend lichaamsdelen beschadigen brandwonden veroorzaken kans huidkanker aanzienlijk vergroten', 'genmutaties verantwoordelijk kankers uitwendige factoren groeiregeling cellen beïnvloeden Virussen planten rechtstreeks onrechtstreeks kanker RNA-retrovirussen virale oncogenen reverse transcriptie omgezet DNA-kopie oncogenen virus proto-oncogenen gestolen DNA cellen besmet virale enhancers kleine mutaties actiever geworden omgevormd oncogenen vervolgens DNA cel ingevoegd planten rechtstreeks kanker teweegbrengen', 'Virussen onrechtstreeks kanker veroorzaken humaan T-cel lymfotroop virus HTLV veroorzaakt leukemie oncogenen oefent groeibevorderende invloed gen genen productie groeifactoren activeren indirecter bijvoorbeeld war sturen productie normale regulerende eiwitten virus één schakel factoren', 'gezwellen tumoren tumor patiënten angstige bijklank minder zwelling tumor zowel goed- kwaadaardig goedaardige tumor benigne genoemd kwaadaardige maligne kanker maligne tumoren', 'Kankerweefsel geneest goed bloeden Bloedverlies bijvoorbeeld ontlasting urine tepel hoesten belangrijke vroege waarschuwingssymptomen', 'gezwellen drukken structuren belemmeren werking darm bijvoorbeeld passage voedsel onmogelijk vanuit - zwellingen geblokkeerde - zenuwbanen ruggenmerg verlammingen botten breuken zenuwen pijn hersentumoren neurologische problemen epilepsie beenmerg - bloedaanmaak plaatsvindt - tumorweefsel vervangen ernstige bloedarmoede stollingsstoornissen', 'Kanker veroorzaakt verandering stofwisseling regulatie paraneoplastische syndromen waaronder', 'oncologie beeldvormende onderzoeken prominente Belangrijke beeldvormende onderzoeken', 'beeldvormend onderzoek pathologisch onderzoek gekeken kankercellen cytologie verband kankercellen omgeving histologie materiaal verkregen middels puncties naald operatieve verwijdering operatief gekeken kankerproces uitgebreid lichaam lymfeklieren metastasen afstand', 'Uiteindelijk grond diagnostiek volgen behandelingstraject bepaald', 'palliatieve zorg verzachten pijn overige symptomen genezing mogelijk', 'mogelijkheid tumorweefsel operatief verwijderen', 'combinatie verschillende typen behandelingstechnieken verschillende methoden zowel curatie palliatie metastasen chirurgisch verwijderen tumor curatief volledige genezing Anderzijds gevorderde kanker palliatieve verzachtende chirurgie bijvoorbeeld pijn opgegeven patiënt verminderen', 'nieuwe therapieën ontwikkeld gentherapie immunotherapie experimentele behandelingen onderdeel wetenschappelijk geneeskundig onderzoek Immunotherapie inmiddels ingeburgerd oncologische praktijk voorbeeld behandeling borstkanker trastuzumab Herceptin', 'Voorbeelden succesvolle eiwitten geneesmiddelen Amerikaanse bedrijf Genentech bevacizumab Avastin darmkanker trastuzumab Herceptin borstkanker rituximab Mabthera non-hodgkinlymfoom Pfizer middel sunitinib Sutent nierkanker markt Bayer sorafenib Nexavar nierkanker Behalve kankergezwel symptomen ziekte bijwerkingen behandelingen bestreden', 'pijnstillers medicamenten effect pijnstilling versterken', 'medicamenten misselijkheid obstipatie mond remedie bijwerkingen opiaten pijnstillers', 'Recent klinische pathologie neoplasmata gezwellen communiceren groot netwerk wisselen stoffen overleven effecten bestraling chemotherapie vermijden Netwerkcommunicatie belangrijke uitzaaiingen Tumorcellen zelfs verbonden gezonde zenuwcellen ontvangen directe signalen – tumoren sneller groeien ontdekte mechanismen benaderingen nieuwe therapieën groei tumoren stoppen bestaande therapieën effectiever verstoring zelfs vernietiging ontdekte tumorcelnetwerken therapeutisch principe behandelmogelijkheid oncologie klinische onderzoeken behandelmethoden inmiddels ontwikkeld nieuwe inzichten', 'risico kanker belangrijk gereduceerd gezonde levensstijl roken overgewicht vermijden voldoende fruit groente regelmatig bewegen algemene aanbevelingen kans kanker hart- vaatziekten beperken kanker gezond leeft risico aanwezig externe invloeden luchtvervuiling zonlicht Genetische aanleg onafhankelijk externe factoren kanker leiden', 'preventie erfelijke kanker bepaalde erfelijke kanker familie voorkomt overgegaan preventief genetisch onderzoek familieleden principe wettelijk leeftijd achttien jaar uitgezonderd erfelijke kankervormen jonge leeftijd onderzoek zelfs preventieve behandeling voorbeeld -mutatie dragers mutatie vijfjarige leeftijd schildklier preventief verwijderd schildklierkanker voorkomen', 'mutaties BRCA -gen BRCA -gen Mutaties genen vrouwen verhoogd risico borstkanker eierstokkanker BRCA -gen mannen borstkanker veroorzaken Vrouwen draagster gemuteerde genen besluiten preventief borsten verwijderen zeer zorgvuldige overweging moeten vrouwen', 'Infectie humaan papillomavirus aanleiding voorstadium kanker cervix vulva cervixcarcinoom genitale wratten Vaccinatie humaan papilloma-virus voorkomt % aandoeningen middelen Gardasil Cervarix', 'Kanker scheldwoord sommigen schokkender beschouwd schelden godverdomme Kankeren negatieve kritiek bouw termen betonkanker muurkanker respectievelijk betonrot muurschimmel']\n"
     ]
    }
   ],
   "source": [
    "corpus  = [preprocess_sentence(sentence) for sentence in wiki_text]\n",
    "vocab = sorted(set(\" \".join(corpus).split()))\n",
    "print(f\"vocab len: {len(vocab)}\")\n",
    "print(corpus)\n"
   ]
  },
  {
   "cell_type": "markdown",
   "metadata": {},
   "source": [
    "## CBOW pairen maken"
   ]
  },
  {
   "cell_type": "code",
   "execution_count": 26,
   "metadata": {},
   "outputs": [
    {
     "name": "stdout",
     "output_type": "stream",
     "text": [
      "Voorbeeldzin: Kanker medisch Latijn neoplasma malignum kwaadaardig nieuwgevormd weefsel ziekte\n",
      "Context van eerste woord: ['Kanker', 'medisch', 'Latijn', 'malignum', 'kwaadaardig', 'nieuwgevormd']\n",
      "Doelwoord van eerste context: neoplasma\n"
     ]
    }
   ],
   "source": [
    "def create_pairs(corpus, w_size):\n",
    "    X = []\n",
    "    y = []\n",
    "    for sentence in corpus:\n",
    "        words = sentence.split()\n",
    "        for i in range(w_size, len(words) - w_size):\n",
    "            context = [words[j] for j in range(i - w_size, i + w_size + 1) if j != i]\n",
    "            X.append(context)\n",
    "            y.append(words[i])\n",
    "    return X, y\n",
    "\n",
    "            \n",
    "x, y = create_pairs(corpus, 3)\n",
    "\n",
    "print(\"Voorbeeldzin:\", corpus[0])\n",
    "print(\"Context van eerste woord:\", x[0])\n",
    "print(\"Doelwoord van eerste context:\", y[0])\n"
   ]
  }
 ],
 "metadata": {
  "kernelspec": {
   "display_name": "modelleren_van_kanker",
   "language": "python",
   "name": "python3"
  },
  "language_info": {
   "codemirror_mode": {
    "name": "ipython",
    "version": 3
   },
   "file_extension": ".py",
   "mimetype": "text/x-python",
   "name": "python",
   "nbconvert_exporter": "python",
   "pygments_lexer": "ipython3",
   "version": "3.12.7"
  }
 },
 "nbformat": 4,
 "nbformat_minor": 2
}
