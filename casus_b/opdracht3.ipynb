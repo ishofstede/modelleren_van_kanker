{
 "cells": [
  {
   "cell_type": "markdown",
   "metadata": {},
   "source": [
    "### Opdracht 3\n"
   ]
  },
  {
   "cell_type": "markdown",
   "metadata": {},
   "source": [
    "## load imports"
   ]
  },
  {
   "cell_type": "code",
   "execution_count": 134,
   "metadata": {},
   "outputs": [],
   "source": [
    "from sklearn.feature_extraction.text import CountVectorizer\n",
    "from sklearn.model_selection import train_test_split\n",
    "from sklearn.neural_network import MLPClassifier\n",
    "from sklearn.metrics import accuracy_score"
   ]
  },
  {
   "cell_type": "markdown",
   "metadata": {},
   "source": [
    "## load data"
   ]
  },
  {
   "cell_type": "code",
   "execution_count": 135,
   "metadata": {},
   "outputs": [
    {
     "name": "stdout",
     "output_type": "stream",
     "text": [
      "wiki_text len: 62\n"
     ]
    }
   ],
   "source": [
    "with open(\"wiki.txt\", \"r\") as file:\n",
    "    wiki_text = [line.strip() for line in file if len(line.strip().split()) >= 10]\n",
    "\n",
    "print(f\"wiki_text len: {len(wiki_text)}\")\n",
    "\n",
    "with open(\"stopwoorden.txt\", \"r\") as file:\n",
    "    stopwoorden = [line.strip() for line in file if line]"
   ]
  },
  {
   "cell_type": "markdown",
   "metadata": {},
   "source": [
    "## preprocess sentence"
   ]
  },
  {
   "cell_type": "code",
   "execution_count": 136,
   "metadata": {},
   "outputs": [],
   "source": [
    "def preprocess_sentence(sentence):\n",
    "    to_exclude = \"/.%-,'\\\":;()[]0123456789\"\n",
    "    # Verwijder ongewenste tekens\n",
    "    sentence = \"\".join([char if char not in to_exclude else \" \" for char in sentence])\n",
    "    # Verwijder stopwoorden\n",
    "    sentence = \" \".join([word for word in sentence.split() if word.lower() not in stopwoorden])\n",
    "    return sentence\n"
   ]
  },
  {
   "cell_type": "code",
   "execution_count": 137,
   "metadata": {},
   "outputs": [
    {
     "name": "stdout",
     "output_type": "stream",
     "text": [
      "vocab len: 732\n",
      "['Kanker medisch Latijn neoplasma malignum kwaadaardig nieuwgevormd weefsel ziekte', 'cellen onbeheerst vermenigvuldigen', 'woekerende cellen omliggend weefsel richten schade invasieve groei infiltratie', 'woekerende cellen verspreiden plaatsen lichaam metastasering uitzaaiing lymfevaten lymfogene metastasering bloed hematogene metastasering verschillende lichaamsholten bijvoorbeeld buikholte', 'Nagenoeg medische specialismen behandeling kanker medisch specialisten oncologie radiotherapie kanker doodsoorzaak', 'Lezing Erasmus kanker Universiteit', 'kanker klassiek Latijnse cancer vanuit Romeinse encyclopedieschrijver Celsus', 'Kanker aandoening gekenmerkt onbeheerste groei abnormaal weefsel neoplasie aanhoudende ongecontroleerde celdeling Gezonde cellen lichaam prolifereren bepaalde organen vernieuwing herstel Tijdens celproliferatie cellen specifieke grootte afhankelijk functie proces celdifferentiatie deling differentiatie invloed extracellulaire cel afkomstige factoren hormonen chemische stoffen virussen inwendige intracellulaire signalen soorten factoren bevorderen aanmaak specifieke eiwitten invloed specifieke regel genen cel stimulerende remmende invloed celdeling uitoefenen Inwendige intracellulaire signalen cellulaire signaalstoffen respectievelijk groeifactoren groeiremmers', 'één meerdere cellen ontsnappen regulerende mechanismen ongecontroleerde celdeling celwoekering lokaal gezwel tumor ontregeling complexe samenspel groeibevorderende groeiremmende factoren voordeel groeistimulatie delende cellen nieuwgroei neoplasie normale functie verloren kanker geval kwaadaardige maligne gezwellen tegenstelling goedaardige benigne gezwellen orgaan vernietigen beschadigen verspreiden invasie omgeving uitgroeien omringende weefsel Eventueel uitzaaien bloed lymfestroom organen terechtkomen', 'Nederlandse kankerregistratie gevallen kanker vastgesteld stierven mensen kanker', 'mensen kanker mannen vrouwen risico overlijden kanker jaar jaar mensen kanker overleven langer', 'mannen volgende typen kanker prostaatkanker longkanker darmkanker', 'vrouwen meest borstkanker darmkanker longkanker', 'Kankersoorten kinderen jongeren meest frequent voorkomen leukemie lymfomen hersentumoren', 'Centraal pathogenese kanker defecten DNA genmutaties Genmutaties erfelijke aanleg verwerving milieu invloeden', 'Erfelijke mutaties mutaties overgeërfd verhoogd risico kanker verband gesproken erfelijke kanker Voorbeelden BRCA gen BRCA gen Vrouwen dergelijke overgeërfde mutatie verhoogd risico borstkanker ovariumcarcinoom', 'Infecties Verschillende biologische ziekteverwekkers verband bepaalde typen kanker Enkele voorbeelden', 'Roken alcohol consumptie rood vlees vlees oorzakelijk verband verschillende kanker chemische bestrijdingsmiddelen verband', 'Fysische factoren Ultraviolette ioniserende straling mutaties kanker veroorzaken', 'Chemische stoffen verschillende chemische stoffen kanker veroorzaken zogeheten carcinogenen Voorbeelden stoffen gekoppelde verhoogde risico bepaalde kanker', 'daadwerkelijk kanker moeten mutaties genen betrokken reguleren celdeling volgende genen belang', 'Kanker treedt aantal bovengenoemde genen mutaties opgetreden mutatie kans nieuwe mutaties toeneemt Mutaties proto oncogenen tumorsuppressorgenen mogelijk cellen ongebreideld deling gezonde cellen kans mutaties mutaties DNA repairgenen kans nieuwe mutaties verhoogt onderdrukking apoptose cel vernietigd', 'ontwikkeling kanker mutaties bovengenoemde genen kankerproces voortschrijdt zullen mutaties', 'nieuwe bloedvaten aangelegd tumor ontwikkeling angiogenese', 'ontaarde cellen omliggende weefsel dringen invasie', 'ontaarde cellen omgeving terechtkomen plaatsen lichaam uitgroeien tumor metastasering', 'ontaarde cellen onsterfelijk normaal gesproken cel ongeveer Hayflick limiet kankercellen limiet', 'Indien ontaarde cellen uiteindelijk voldoen kenmerken kanker ongebreideld infiltreren omgeving metastaseren kanker Kankercellen zullen nauwelijks oorspronkelijke functie bezighouden energie aanwenden', 'Allereerst puntmutatie tumorsuppressorgenen amplificatie één meerdere kopieën gen genomen teveel groeibevorderende genen evenwicht tumorsuppressorgenen balans brengen', 'mogelijkheid chromosoomtranslocatie reciproque wederzijdse translocatie proto oncogen plaats eventueel chromosoom gen onttrokken invloed normaal regulerende genen gen bijvoorbeeld terechtkomen gebied regulerende DNA sequenties expressie toenemen geval burkittlymfoom chronische myeloïde leukemie', 'samensmelting verschillende genen fusiegen Philadelphiachromosoom actief gevaarlijk oncogen gedragen', 'genen zorgen gewoonlijk cellen ongebreideld tumorsuppressorgenen mutatie regulering deling cel verdwijnen Zodoende cel ongestoord verdergaan mutaties tumorsuppressorgenen uitgeschakeld Sommige genen uitgeschakeld hyper methylering promotor regio gen', 'Proto oncogenen gewoonlijk betrokken stimuleren normale celdelingen groeibevorderende genen zorgen groei deling cellen organen weefsel omvang toenemen stimuleren celdeling Indien mutatie proto oncogen verwordt oncogen onco gen cel overmatige zelfs onbeperkte deling', 'cel normale wijze functioneert treedt zelfvernietigingsmechanisme werking cel gronde kanker genen zorgen uitgeschakeld', 'Lichaamscellen beschikking DNA herstelsysteem afwijkingen DNA hersteld mutatie DNA herstelgen fouten DNA voldoende hersteld defecten DNA', 'Sommige chemicaliën betrokken – kankergevallen mensen voorkomen chemicaliën mutageen zeggen nieuwe mutaties chromosomen genomen genen mutatiefrequentie opdrijven mutaties kanker factoren zekerheid kanker genereren noemen carcinogenen carcinogeen mutageen omgekeerd', 'grote betrokkenheid chemicaliën verbinding aangaan DNA Mutagene chemicaliën elektrofiele stoffen genoemd onderscheid actief mutagene stoffen promutagenen stoffen mutageen invloed bepaalde enzymen lichaam', 'carcinogenen opgespoord verbrand gefrituurd voedsel bacteriën schimmels medicamenten kankerverwekkende effecten laatste verklaren doordat voornamelijk hormonen kankerstimulerend bijvoorbeeld deshormoon di ethylstilbestrol derivaat oestrogeen bleek vaginale kanker geslachtshormonen veroorzaken mutaties gedragen kankerpromotoren stimuleren bestaande kankercellen ontwikkeling kankerpromotoren co mutagenen rechtstreekse mutageen bevordert Alcohol zo’n stof invloed bepaalde carcinogeen leverkanker hand', 'fysische factoren straling grote energie inhoud kanker veroorzaken stralen golflengte ioniserende stralen moleculen elektrisch laden gevolg DNA beschadigd vervolgens mutaties voortbrengt Voorbeelden ioniserende stralen X stralen röntgenfoto’s gammastralen atoombom kosmische stralen zelfs gelegen weefsel mutaties niveau lichaamscellen somamutatie erfelijke mutaties teweegbrengen straling rechtstreeks kans kanker toenemen doordat proto oncogenen lichaam activeert effect n straling hangt intensiteit opnamesnelheid laag geconcentreerde gedoseerde straling lichaam beschadigde cellen herstellen intensieve blootstelling verhoogd risico kanker', 'zonlicht straling uv stralen ioniserend lichaamsdelen beschadigen brandwonden veroorzaken kans huidkanker aanzienlijk vergroten', 'genmutaties verantwoordelijk kankers uitwendige factoren groeiregeling cellen beïnvloeden Virussen planten rechtstreeks onrechtstreeks kanker RNA retrovirussen virale oncogenen reverse transcriptie omgezet DNA kopie oncogenen virus proto oncogenen gestolen DNA cellen besmet virale enhancers kleine mutaties actiever geworden omgevormd oncogenen vervolgens DNA cel ingevoegd planten rechtstreeks kanker teweegbrengen', 'Virussen onrechtstreeks kanker veroorzaken humaan T cel lymfotroop virus HTLV veroorzaakt leukemie oncogenen oefent groeibevorderende invloed gen genen productie groeifactoren activeren indirecter bijvoorbeeld war sturen productie normale regulerende eiwitten virus één schakel factoren', 'gezwellen tumoren tumor patiënten angstige bijklank minder zwelling tumor zowel goed kwaadaardig goedaardige tumor benigne genoemd kwaadaardige maligne kanker maligne tumoren', 'Kankerweefsel geneest goed bloeden Bloedverlies bijvoorbeeld ontlasting urine tepel hoesten belangrijke vroege waarschuwingssymptomen', 'gezwellen drukken structuren belemmeren werking darm bijvoorbeeld passage voedsel onmogelijk vanuit zwellingen geblokkeerde zenuwbanen ruggenmerg verlammingen botten breuken zenuwen pijn hersentumoren neurologische problemen epilepsie beenmerg bloedaanmaak plaatsvindt tumorweefsel vervangen ernstige bloedarmoede stollingsstoornissen', 'Kanker veroorzaakt verandering stofwisseling regulatie paraneoplastische syndromen waaronder', 'oncologie beeldvormende onderzoeken prominente Belangrijke beeldvormende onderzoeken', 'beeldvormend onderzoek pathologisch onderzoek gekeken kankercellen cytologie verband kankercellen omgeving histologie materiaal verkregen middels puncties naald operatieve verwijdering operatief gekeken kankerproces uitgebreid lichaam lymfeklieren metastasen afstand', 'Uiteindelijk grond diagnostiek volgen behandelingstraject bepaald', 'palliatieve zorg verzachten pijn overige symptomen genezing mogelijk', 'mogelijkheid tumorweefsel operatief verwijderen', 'combinatie verschillende typen behandelingstechnieken verschillende methoden zowel curatie palliatie metastasen chirurgisch verwijderen tumor curatief volledige genezing Anderzijds gevorderde kanker palliatieve verzachtende chirurgie bijvoorbeeld pijn opgegeven patiënt verminderen', 'nieuwe therapieën ontwikkeld gentherapie immunotherapie experimentele behandelingen onderdeel wetenschappelijk geneeskundig onderzoek Immunotherapie inmiddels ingeburgerd oncologische praktijk voorbeeld behandeling borstkanker trastuzumab Herceptin', 'Voorbeelden succesvolle eiwitten geneesmiddelen Amerikaanse bedrijf Genentech bevacizumab Avastin darmkanker trastuzumab Herceptin borstkanker rituximab Mabthera non hodgkinlymfoom Pfizer middel sunitinib Sutent nierkanker markt Bayer sorafenib Nexavar nierkanker Behalve kankergezwel symptomen ziekte bijwerkingen behandelingen bestreden', 'pijnstillers medicamenten effect pijnstilling versterken', 'medicamenten misselijkheid obstipatie mond remedie bijwerkingen opiaten pijnstillers', 'Recent klinische pathologie neoplasmata gezwellen communiceren groot netwerk wisselen stoffen overleven effecten bestraling chemotherapie vermijden Netwerkcommunicatie belangrijke uitzaaiingen Tumorcellen zelfs verbonden gezonde zenuwcellen ontvangen directe signalen – tumoren sneller groeien ontdekte mechanismen benaderingen nieuwe therapieën groei tumoren stoppen bestaande therapieën effectiever verstoring zelfs vernietiging ontdekte tumorcelnetwerken therapeutisch principe behandelmogelijkheid oncologie klinische onderzoeken behandelmethoden inmiddels ontwikkeld nieuwe inzichten', 'risico kanker belangrijk gereduceerd gezonde levensstijl roken overgewicht vermijden voldoende fruit groente regelmatig bewegen algemene aanbevelingen kans kanker hart vaatziekten beperken kanker gezond leeft risico aanwezig externe invloeden luchtvervuiling zonlicht Genetische aanleg onafhankelijk externe factoren kanker leiden', 'preventie erfelijke kanker bepaalde erfelijke kanker familie voorkomt overgegaan preventief genetisch onderzoek familieleden principe wettelijk leeftijd achttien jaar uitgezonderd erfelijke kankervormen jonge leeftijd onderzoek zelfs preventieve behandeling voorbeeld mutatie dragers mutatie vijfjarige leeftijd schildklier preventief verwijderd schildklierkanker voorkomen', 'mutaties BRCA gen BRCA gen Mutaties genen vrouwen verhoogd risico borstkanker eierstokkanker BRCA gen mannen borstkanker veroorzaken Vrouwen draagster gemuteerde genen besluiten preventief borsten verwijderen zeer zorgvuldige overweging moeten vrouwen', 'Infectie humaan papillomavirus aanleiding voorstadium kanker cervix vulva cervixcarcinoom genitale wratten Vaccinatie humaan papilloma virus voorkomt aandoeningen middelen Gardasil Cervarix', 'Kanker scheldwoord sommigen schokkender beschouwd schelden godverdomme Kankeren negatieve kritiek bouw termen betonkanker muurkanker respectievelijk betonrot muurschimmel']\n"
     ]
    }
   ],
   "source": [
    "corpus  = [preprocess_sentence(sentence) for sentence in wiki_text]\n",
    "vocab = sorted(set(\" \".join(corpus).split()))\n",
    "print(f\"vocab len: {len(vocab)}\")\n",
    "print(corpus)\n"
   ]
  },
  {
   "cell_type": "markdown",
   "metadata": {},
   "source": [
    "## CBOW pairen maken"
   ]
  },
  {
   "cell_type": "code",
   "execution_count": 138,
   "metadata": {},
   "outputs": [],
   "source": [
    "def create_pairs(corpus, w_size):\n",
    "    X = []  # Context_word (input)\n",
    "    y = []  # Target_word (output)\n",
    "    \n",
    "    for sentence in corpus:\n",
    "        words = sentence.split()  # Verdeel de zin in woorden\n",
    "        for index, target_word in enumerate(words):\n",
    "            # Bepaal de context range (links en rechts van target_word)\n",
    "            start = max(index - w_size, 0)\n",
    "            end = min(index + w_size + 1, len(words))\n",
    "            \n",
    "            # Maak een lijst met alle woorden in het window, behalve target_word zelf\n",
    "            context_words = [words[i] for i in range(start, end) if i != index]\n",
    "            \n",
    "            # Voeg de context en target toe aan de lijsten\n",
    "            X.append(\" \".join(context_words))  # Combineer contextwoorden tot een string\n",
    "            y.append(target_word)              # Doelwoord\n",
    "    \n",
    "    return X, y"
   ]
  },
  {
   "cell_type": "code",
   "execution_count": 139,
   "metadata": {},
   "outputs": [
    {
     "name": "stdout",
     "output_type": "stream",
     "text": [
      "Context: medisch Latijn -> Target: Kanker\n",
      "Context: Kanker Latijn neoplasma -> Target: medisch\n",
      "Context: Kanker medisch neoplasma malignum -> Target: Latijn\n",
      "Context: medisch Latijn malignum kwaadaardig -> Target: neoplasma\n",
      "Context: Latijn neoplasma kwaadaardig nieuwgevormd -> Target: malignum\n"
     ]
    }
   ],
   "source": [
    "# Roep de functie aan met window size 2\n",
    "X, y = create_pairs(corpus, w_size=2)\n",
    "\n",
    "# Resultaat tonen\n",
    "for context, target in zip(X[:5], y[:5]):\n",
    "    print(f\"Context: {context} -> Target: {target}\")\n"
   ]
  },
  {
   "cell_type": "code",
   "execution_count": 140,
   "metadata": {},
   "outputs": [
    {
     "name": "stderr",
     "output_type": "stream",
     "text": [
      "c:\\Users\\isabe\\anaconda3\\envs\\modelleren_van_kanker\\Lib\\site-packages\\sklearn\\feature_extraction\\text.py:521: UserWarning: The parameter 'token_pattern' will not be used since 'tokenizer' is not None'\n",
      "  warnings.warn(\n"
     ]
    }
   ],
   "source": [
    "# Assuming create_pairs function works and provides X (contexts) and y (targets)\n",
    "# For example, you get these contexts from your create_pairs function\n",
    "X, y = create_pairs(corpus, w_size=2)  # Run create_pairs function with your corpus\n",
    "\n",
    "# Initialize CountVectorizer\n",
    "vectorizer = CountVectorizer(max_features=len(vocab), tokenizer=lambda x: x.split())\n",
    "\n",
    "# Transform the context sentences (X) into vectors\n",
    "X_sentences = vectorizer.fit_transform(X).toarray()"
   ]
  },
  {
   "cell_type": "code",
   "execution_count": 141,
   "metadata": {},
   "outputs": [
    {
     "name": "stdout",
     "output_type": "stream",
     "text": [
      "Context 1: 'medisch Latijn'\n",
      "Vector: [0 0 0 0 0 0 0 0 0 0 0 0 0 0 0 0 0 0 0 0 0 0 0 0 0 0 0 0 0 0 0 0 0 0 0 0 0\n",
      " 0 0 0 0 0 0 0 0 0 0 0 0 0 0 0 0 0 0 0 0 0 0 0 0 0 0 0 0 0 0 0 0 0 0 0 0 0\n",
      " 0 0 0 0 0 0 0 0 0 0 0 0 0 0 0 0 0 0 0 0 0 0 0 0 0 0 0 0 0 0 0 0 0 0 0 0 0\n",
      " 0 0 0 0 0 0 0 0 0 0 0 0 0 0 0 0 0 0 0 0 0 0 0 0 0 0 0 0 0 0 0 0 0 0 0 0 0\n",
      " 0 0 0 0 0 0 0 0 0 0 0 0 0 0 0 0 0 0 0 0 0 0 0 0 0 0 0 0 0 0 0 0 0 0 0 0 0\n",
      " 0 0 0 0 0 0 0 0 0 0 0 0 0 0 0 0 0 0 0 0 0 0 0 0 0 0 0 0 0 0 0 0 0 0 0 0 0\n",
      " 0 0 0 0 0 0 0 0 0 0 0 0 0 0 0 0 0 0 0 0 0 0 0 0 0 0 0 0 0 0 0 0 0 0 0 0 0\n",
      " 0 0 0 0 0 0 0 0 0 0 0 0 0 0 0 0 0 0 0 0 0 0 0 0 0 0 0 0 0 0 0 0 0 0 0 0 0\n",
      " 0 0 0 0 0 0 0 0 0 0 0 0 0 0 0 0 0 0 0 0 0 0 0 0 0 0 0 1 0 0 0 0 0 0 0 0 0\n",
      " 0 0 0 0 0 0 0 0 0 0 0 0 0 0 0 0 0 0 0 0 0 1 0 0 0 0 0 0 0 0 0 0 0 0 0 0 0\n",
      " 0 0 0 0 0 0 0 0 0 0 0 0 0 0 0 0 0 0 0 0 0 0 0 0 0 0 0 0 0 0 0 0 0 0 0 0 0\n",
      " 0 0 0 0 0 0 0 0 0 0 0 0 0 0 0 0 0 0 0 0 0 0 0 0 0 0 0 0 0 0 0 0 0 0 0 0 0\n",
      " 0 0 0 0 0 0 0 0 0 0 0 0 0 0 0 0 0 0 0 0 0 0 0 0 0 0 0 0 0 0 0 0 0 0 0 0 0\n",
      " 0 0 0 0 0 0 0 0 0 0 0 0 0 0 0 0 0 0 0 0 0 0 0 0 0 0 0 0 0 0 0 0 0 0 0 0 0\n",
      " 0 0 0 0 0 0 0 0 0 0 0 0 0 0 0 0 0 0 0 0 0 0 0 0 0 0 0 0 0 0 0 0 0 0 0 0 0\n",
      " 0 0 0 0 0 0 0 0 0 0 0 0 0 0 0 0 0 0 0 0 0 0 0 0 0 0 0 0 0 0 0 0 0 0 0 0 0\n",
      " 0 0 0 0 0 0 0 0 0 0 0 0 0 0 0 0 0 0 0 0 0 0 0 0 0 0 0 0 0 0 0 0 0 0 0 0 0\n",
      " 0 0 0 0 0 0 0 0 0 0 0 0 0 0 0 0 0 0 0 0 0 0 0 0 0 0 0 0 0 0 0 0 0 0 0 0 0\n",
      " 0 0 0 0 0 0 0 0 0 0 0 0 0 0 0 0 0 0 0 0 0 0 0 0 0 0 0 0 0 0 0 0 0 0 0 0 0\n",
      " 0 0 0 0 0 0 0]\n",
      "\n",
      "Context 2: 'Kanker Latijn neoplasma'\n",
      "Vector: [0 0 0 0 0 0 0 0 0 0 0 0 0 0 0 0 0 0 0 0 0 0 0 0 0 0 0 0 0 0 0 0 0 0 0 0 0\n",
      " 0 0 0 0 0 0 0 0 0 0 0 0 0 0 0 0 0 0 0 0 0 0 0 0 0 0 0 0 0 0 0 0 0 0 0 0 0\n",
      " 0 0 0 0 0 0 0 0 0 0 0 0 0 0 0 0 0 0 0 0 0 0 0 0 0 0 0 0 0 0 0 0 0 0 0 0 0\n",
      " 0 0 0 0 0 0 0 0 0 0 0 0 0 0 0 0 0 0 0 0 0 0 0 0 0 0 0 0 0 0 0 0 0 0 0 0 0\n",
      " 0 0 0 0 0 0 0 0 0 0 0 0 0 0 0 0 0 0 0 0 0 0 0 0 0 0 0 0 0 0 0 0 0 0 0 0 0\n",
      " 0 0 0 0 0 0 0 0 0 0 0 0 0 0 0 0 0 0 0 0 0 0 0 0 0 0 0 0 0 0 0 0 0 0 0 0 0\n",
      " 0 0 0 0 0 0 0 0 0 0 0 0 0 0 0 0 0 0 0 0 0 0 0 0 0 0 0 0 0 0 0 0 0 0 0 0 0\n",
      " 0 0 0 0 0 0 0 0 0 0 0 0 0 0 0 0 0 0 0 0 0 0 0 0 0 0 0 0 0 0 0 0 0 0 1 0 0\n",
      " 0 0 0 0 0 0 0 0 0 0 0 0 0 0 0 0 0 0 0 0 0 0 0 0 0 0 0 1 0 0 0 0 0 0 0 0 0\n",
      " 0 0 0 0 0 0 0 0 0 0 0 0 0 0 0 0 0 0 0 0 0 0 0 0 0 0 0 0 0 0 0 0 0 0 0 0 0\n",
      " 0 0 0 0 0 0 0 0 0 0 0 0 0 0 0 0 0 0 0 0 0 1 0 0 0 0 0 0 0 0 0 0 0 0 0 0 0\n",
      " 0 0 0 0 0 0 0 0 0 0 0 0 0 0 0 0 0 0 0 0 0 0 0 0 0 0 0 0 0 0 0 0 0 0 0 0 0\n",
      " 0 0 0 0 0 0 0 0 0 0 0 0 0 0 0 0 0 0 0 0 0 0 0 0 0 0 0 0 0 0 0 0 0 0 0 0 0\n",
      " 0 0 0 0 0 0 0 0 0 0 0 0 0 0 0 0 0 0 0 0 0 0 0 0 0 0 0 0 0 0 0 0 0 0 0 0 0\n",
      " 0 0 0 0 0 0 0 0 0 0 0 0 0 0 0 0 0 0 0 0 0 0 0 0 0 0 0 0 0 0 0 0 0 0 0 0 0\n",
      " 0 0 0 0 0 0 0 0 0 0 0 0 0 0 0 0 0 0 0 0 0 0 0 0 0 0 0 0 0 0 0 0 0 0 0 0 0\n",
      " 0 0 0 0 0 0 0 0 0 0 0 0 0 0 0 0 0 0 0 0 0 0 0 0 0 0 0 0 0 0 0 0 0 0 0 0 0\n",
      " 0 0 0 0 0 0 0 0 0 0 0 0 0 0 0 0 0 0 0 0 0 0 0 0 0 0 0 0 0 0 0 0 0 0 0 0 0\n",
      " 0 0 0 0 0 0 0 0 0 0 0 0 0 0 0 0 0 0 0 0 0 0 0 0 0 0 0 0 0 0 0 0 0 0 0 0 0\n",
      " 0 0 0 0 0 0 0]\n",
      "\n",
      "Context 3: 'Kanker medisch neoplasma malignum'\n",
      "Vector: [0 0 0 0 0 0 0 0 0 0 0 0 0 0 0 0 0 0 0 0 0 0 0 0 0 0 0 0 0 0 0 0 0 0 0 0 0\n",
      " 0 0 0 0 0 0 0 0 0 0 0 0 0 0 0 0 0 0 0 0 0 0 0 0 0 0 0 0 0 0 0 0 0 0 0 0 0\n",
      " 0 0 0 0 0 0 0 0 0 0 0 0 0 0 0 0 0 0 0 0 0 0 0 0 0 0 0 0 0 0 0 0 0 0 0 0 0\n",
      " 0 0 0 0 0 0 0 0 0 0 0 0 0 0 0 0 0 0 0 0 0 0 0 0 0 0 0 0 0 0 0 0 0 0 0 0 0\n",
      " 0 0 0 0 0 0 0 0 0 0 0 0 0 0 0 0 0 0 0 0 0 0 0 0 0 0 0 0 0 0 0 0 0 0 0 0 0\n",
      " 0 0 0 0 0 0 0 0 0 0 0 0 0 0 0 0 0 0 0 0 0 0 0 0 0 0 0 0 0 0 0 0 0 0 0 0 0\n",
      " 0 0 0 0 0 0 0 0 0 0 0 0 0 0 0 0 0 0 0 0 0 0 0 0 0 0 0 0 0 0 0 0 0 0 0 0 0\n",
      " 0 0 0 0 0 0 0 0 0 0 0 0 0 0 0 0 0 0 0 0 0 0 0 0 0 0 0 0 0 0 0 0 0 0 1 0 0\n",
      " 0 0 0 0 0 0 0 0 0 0 0 0 0 0 0 0 0 0 0 0 0 0 0 0 0 0 0 0 0 0 0 0 0 0 0 0 0\n",
      " 0 0 0 0 0 0 0 0 0 0 0 0 0 0 0 1 0 0 0 0 0 1 0 0 0 0 0 0 0 0 0 0 0 0 0 0 0\n",
      " 0 0 0 0 0 0 0 0 0 0 0 0 0 0 0 0 0 0 0 0 0 1 0 0 0 0 0 0 0 0 0 0 0 0 0 0 0\n",
      " 0 0 0 0 0 0 0 0 0 0 0 0 0 0 0 0 0 0 0 0 0 0 0 0 0 0 0 0 0 0 0 0 0 0 0 0 0\n",
      " 0 0 0 0 0 0 0 0 0 0 0 0 0 0 0 0 0 0 0 0 0 0 0 0 0 0 0 0 0 0 0 0 0 0 0 0 0\n",
      " 0 0 0 0 0 0 0 0 0 0 0 0 0 0 0 0 0 0 0 0 0 0 0 0 0 0 0 0 0 0 0 0 0 0 0 0 0\n",
      " 0 0 0 0 0 0 0 0 0 0 0 0 0 0 0 0 0 0 0 0 0 0 0 0 0 0 0 0 0 0 0 0 0 0 0 0 0\n",
      " 0 0 0 0 0 0 0 0 0 0 0 0 0 0 0 0 0 0 0 0 0 0 0 0 0 0 0 0 0 0 0 0 0 0 0 0 0\n",
      " 0 0 0 0 0 0 0 0 0 0 0 0 0 0 0 0 0 0 0 0 0 0 0 0 0 0 0 0 0 0 0 0 0 0 0 0 0\n",
      " 0 0 0 0 0 0 0 0 0 0 0 0 0 0 0 0 0 0 0 0 0 0 0 0 0 0 0 0 0 0 0 0 0 0 0 0 0\n",
      " 0 0 0 0 0 0 0 0 0 0 0 0 0 0 0 0 0 0 0 0 0 0 0 0 0 0 0 0 0 0 0 0 0 0 0 0 0\n",
      " 0 0 0 0 0 0 0]\n",
      "\n",
      "Context 4: 'medisch Latijn malignum kwaadaardig'\n",
      "Vector: [0 0 0 0 0 0 0 0 0 0 0 0 0 0 0 0 0 0 0 0 0 0 0 0 0 0 0 0 0 0 0 0 0 0 0 0 0\n",
      " 0 0 0 0 0 0 0 0 0 0 0 0 0 0 0 0 0 0 0 0 0 0 0 0 0 0 0 0 0 0 0 0 0 0 0 0 0\n",
      " 0 0 0 0 0 0 0 0 0 0 0 0 0 0 0 0 0 0 0 0 0 0 0 0 0 0 0 0 0 0 0 0 0 0 0 0 0\n",
      " 0 0 0 0 0 0 0 0 0 0 0 0 0 0 0 0 0 0 0 0 0 0 0 0 0 0 0 0 0 0 0 0 0 0 0 0 0\n",
      " 0 0 0 0 0 0 0 0 0 0 0 0 0 0 0 0 0 0 0 0 0 0 0 0 0 0 0 0 0 0 0 0 0 0 0 0 0\n",
      " 0 0 0 0 0 0 0 0 0 0 0 0 0 0 0 0 0 0 0 0 0 0 0 0 0 0 0 0 0 0 0 0 0 0 0 0 0\n",
      " 0 0 0 0 0 0 0 0 0 0 0 0 0 0 0 0 0 0 0 0 0 0 0 0 0 0 0 0 0 0 0 0 0 0 0 0 0\n",
      " 0 0 0 0 0 0 0 0 0 0 0 0 0 0 0 0 0 0 0 0 0 0 0 0 0 0 0 0 0 0 0 0 0 0 0 0 0\n",
      " 0 0 0 0 0 0 0 0 0 0 0 0 0 0 0 0 0 0 0 0 0 1 0 0 0 0 0 1 0 0 0 0 0 0 0 0 0\n",
      " 0 0 0 0 0 0 0 0 0 0 0 0 0 0 0 1 0 0 0 0 0 1 0 0 0 0 0 0 0 0 0 0 0 0 0 0 0\n",
      " 0 0 0 0 0 0 0 0 0 0 0 0 0 0 0 0 0 0 0 0 0 0 0 0 0 0 0 0 0 0 0 0 0 0 0 0 0\n",
      " 0 0 0 0 0 0 0 0 0 0 0 0 0 0 0 0 0 0 0 0 0 0 0 0 0 0 0 0 0 0 0 0 0 0 0 0 0\n",
      " 0 0 0 0 0 0 0 0 0 0 0 0 0 0 0 0 0 0 0 0 0 0 0 0 0 0 0 0 0 0 0 0 0 0 0 0 0\n",
      " 0 0 0 0 0 0 0 0 0 0 0 0 0 0 0 0 0 0 0 0 0 0 0 0 0 0 0 0 0 0 0 0 0 0 0 0 0\n",
      " 0 0 0 0 0 0 0 0 0 0 0 0 0 0 0 0 0 0 0 0 0 0 0 0 0 0 0 0 0 0 0 0 0 0 0 0 0\n",
      " 0 0 0 0 0 0 0 0 0 0 0 0 0 0 0 0 0 0 0 0 0 0 0 0 0 0 0 0 0 0 0 0 0 0 0 0 0\n",
      " 0 0 0 0 0 0 0 0 0 0 0 0 0 0 0 0 0 0 0 0 0 0 0 0 0 0 0 0 0 0 0 0 0 0 0 0 0\n",
      " 0 0 0 0 0 0 0 0 0 0 0 0 0 0 0 0 0 0 0 0 0 0 0 0 0 0 0 0 0 0 0 0 0 0 0 0 0\n",
      " 0 0 0 0 0 0 0 0 0 0 0 0 0 0 0 0 0 0 0 0 0 0 0 0 0 0 0 0 0 0 0 0 0 0 0 0 0\n",
      " 0 0 0 0 0 0 0]\n",
      "\n",
      "Context 5: 'Latijn neoplasma kwaadaardig nieuwgevormd'\n",
      "Vector: [0 0 0 0 0 0 0 0 0 0 0 0 0 0 0 0 0 0 0 0 0 0 0 0 0 0 0 0 0 0 0 0 0 0 0 0 0\n",
      " 0 0 0 0 0 0 0 0 0 0 0 0 0 0 0 0 0 0 0 0 0 0 0 0 0 0 0 0 0 0 0 0 0 0 0 0 0\n",
      " 0 0 0 0 0 0 0 0 0 0 0 0 0 0 0 0 0 0 0 0 0 0 0 0 0 0 0 0 0 0 0 0 0 0 0 0 0\n",
      " 0 0 0 0 0 0 0 0 0 0 0 0 0 0 0 0 0 0 0 0 0 0 0 0 0 0 0 0 0 0 0 0 0 0 0 0 0\n",
      " 0 0 0 0 0 0 0 0 0 0 0 0 0 0 0 0 0 0 0 0 0 0 0 0 0 0 0 0 0 0 0 0 0 0 0 0 0\n",
      " 0 0 0 0 0 0 0 0 0 0 0 0 0 0 0 0 0 0 0 0 0 0 0 0 0 0 0 0 0 0 0 0 0 0 0 0 0\n",
      " 0 0 0 0 0 0 0 0 0 0 0 0 0 0 0 0 0 0 0 0 0 0 0 0 0 0 0 0 0 0 0 0 0 0 0 0 0\n",
      " 0 0 0 0 0 0 0 0 0 0 0 0 0 0 0 0 0 0 0 0 0 0 0 0 0 0 0 0 0 0 0 0 0 0 0 0 0\n",
      " 0 0 0 0 0 0 0 0 0 0 0 0 0 0 0 0 0 0 0 0 0 1 0 0 0 0 0 1 0 0 0 0 0 0 0 0 0\n",
      " 0 0 0 0 0 0 0 0 0 0 0 0 0 0 0 0 0 0 0 0 0 0 0 0 0 0 0 0 0 0 0 0 0 0 0 0 0\n",
      " 0 0 0 0 0 0 0 0 0 0 0 0 0 0 0 0 0 0 0 0 0 1 0 0 0 0 0 0 0 1 0 0 0 0 0 0 0\n",
      " 0 0 0 0 0 0 0 0 0 0 0 0 0 0 0 0 0 0 0 0 0 0 0 0 0 0 0 0 0 0 0 0 0 0 0 0 0\n",
      " 0 0 0 0 0 0 0 0 0 0 0 0 0 0 0 0 0 0 0 0 0 0 0 0 0 0 0 0 0 0 0 0 0 0 0 0 0\n",
      " 0 0 0 0 0 0 0 0 0 0 0 0 0 0 0 0 0 0 0 0 0 0 0 0 0 0 0 0 0 0 0 0 0 0 0 0 0\n",
      " 0 0 0 0 0 0 0 0 0 0 0 0 0 0 0 0 0 0 0 0 0 0 0 0 0 0 0 0 0 0 0 0 0 0 0 0 0\n",
      " 0 0 0 0 0 0 0 0 0 0 0 0 0 0 0 0 0 0 0 0 0 0 0 0 0 0 0 0 0 0 0 0 0 0 0 0 0\n",
      " 0 0 0 0 0 0 0 0 0 0 0 0 0 0 0 0 0 0 0 0 0 0 0 0 0 0 0 0 0 0 0 0 0 0 0 0 0\n",
      " 0 0 0 0 0 0 0 0 0 0 0 0 0 0 0 0 0 0 0 0 0 0 0 0 0 0 0 0 0 0 0 0 0 0 0 0 0\n",
      " 0 0 0 0 0 0 0 0 0 0 0 0 0 0 0 0 0 0 0 0 0 0 0 0 0 0 0 0 0 0 0 0 0 0 0 0 0\n",
      " 0 0 0 0 0 0 0]\n",
      "\n",
      "Word-to-index mapping: {'medisch': 354, 'latijn': 323, 'kanker': 293, 'neoplasma': 391, 'malignum': 348, 'kwaadaardig': 317, 'nieuwgevormd': 399, 'weefsel': 678, 'ziekte': 695, 'onbeheerst': 418, 'vermenigvuldigen': 629, 'cellen': 108, 'omliggend': 413, 'woekerende': 684, 'richten': 523, 'schade': 534, 'invasieve': 283, 'groei': 234, 'infiltratie': 273, 'verspreiden': 639, 'plaatsen': 486, 'lichaam': 332, 'metastasering': 361, 'uitzaaiing': 602, 'lymfevaten': 342, 'lymfogene': 343, 'bloed': 83, 'hematogene': 252, 'verschillende': 638, 'lichaamsholten': 335, 'bijvoorbeeld': 79, 'buikholte': 99, 'medische': 355, 'specialismen': 551, 'nagenoeg': 386, 'behandeling': 42, 'specialisten': 552, 'oncologie': 424, 'radiotherapie': 505, 'doodsoorzaak': 148, 'erasmus': 167, 'lezing': 331, 'universiteit': 605, 'klassiek': 310, 'latijnse': 324, 'cancer': 101, 'vanuit': 611, 'romeinse': 528, 'encyclopedieschrijver': 161, 'celsus': 111, 'aandoening': 1, 'gekenmerkt': 196, 'onbeheerste': 419, 'abnormaal': 13, 'neoplasie': 390, 'aanhoudende': 5, 'ongecontroleerde': 432, 'celdeling': 105, 'gezonde': 227, 'prolifereren': 497, 'bepaalde': 55, 'organen': 458, 'vernieuwing': 635, 'herstel': 255, 'tijdens': 580, 'celproliferatie': 110, 'specifieke': 553, 'grootte': 246, 'afhankelijk': 19, 'functie': 183, 'proces': 495, 'celdifferentiatie': 107, 'deling': 139, 'differentiatie': 145, 'invloed': 284, 'extracellulaire': 176, 'cel': 104, 'afkomstige': 20, 'factoren': 177, 'hormonen': 263, 'chemische': 118, 'stoffen': 558, 'virussen': 654, 'inwendige': 286, 'intracellulaire': 281, 'signalen': 544, 'soorten': 549, 'bevorderen': 73, 'aanmaak': 8, 'eiwitten': 158, 'regel': 510, 'genen': 204, 'stimulerende': 556, 'remmende': 518, 'uitoefenen': 599, 'cellulaire': 109, 'signaalstoffen': 543, 'respectievelijk': 520, 'groeifactoren': 237, 'groeiremmers': 240, 'meerdere': 356, 'één': 708, 'ontsnappen': 442, 'regulerende': 515, 'mechanismen': 352, 'celwoekering': 112, 'lokaal': 337, 'gezwel': 228, 'tumor': 587, 'ontregeling': 441, 'complexe': 129, 'samenspel': 533, 'groeibevorderende': 235, 'groeiremmende': 239, 'voordeel': 664, 'groeistimulatie': 241, 'delende': 138, 'nieuwgroei': 400, 'normale': 405, 'verloren': 628, 'geval': 220, 'kwaadaardige': 318, 'maligne': 347, 'gezwellen': 229, 'tegenstelling': 572, 'goedaardige': 232, 'benigne': 53, 'orgaan': 457, 'vernietigen': 633, 'beschadigen': 59, 'invasie': 282, 'omgeving': 410, 'uitgroeien': 598, 'omringende': 415, 'eventueel': 171, 'uitzaaien': 601, 'lymfestroom': 341, 'terechtkomen': 574, 'kankerregistratie': 300, 'gevallen': 221, 'nederlandse': 388, 'vastgesteld': 612, 'stierven': 554, 'mensen': 358, 'mannen': 349, 'vrouwen': 672, 'risico': 524, 'overlijden': 466, 'jaar': 290, 'overleven': 465, 'langer': 322, 'volgende': 660, 'typen': 593, 'prostaatkanker': 501, 'longkanker': 338, 'darmkanker': 136, 'meest': 357, 'borstkanker': 91, 'kinderen': 309, 'jongeren': 292, 'kankersoorten': 302, 'frequent': 181, 'voorkomen': 665, 'leukemie': 328, 'lymfomen': 344, 'hersentumoren': 254, 'pathogenese': 475, 'centraal': 113, 'defecten': 137, 'dna': 147, 'genmutaties': 211, 'erfelijke': 168, 'aanleg': 6, 'verwerving': 644, 'milieu': 367, 'invloeden': 285, 'mutaties': 380, 'overgeërfd': 462, 'verhoogd': 622, 'verband': 615, 'gesproken': 217, 'voorbeelden': 663, 'brca': 96, 'gen': 200, 'dergelijke': 140, 'overgeërfde': 463, 'mutatie': 378, 'ovariumcarcinoom': 459, 'biologische': 81, 'infecties': 272, 'ziekteverwekkers': 696, 'enkele': 164, 'alcohol': 23, 'consumptie': 130, 'roken': 527, 'rood': 529, 'vlees': 655, 'oorzakelijk': 448, 'bestrijdingsmiddelen': 67, 'ultraviolette': 604, 'fysische': 186, 'ioniserende': 289, 'straling': 563, 'veroorzaken': 637, 'zogeheten': 698, 'carcinogenen': 103, 'gekoppelde': 197, 'verhoogde': 623, 'moeten': 370, 'daadwerkelijk': 134, 'betrokken': 70, 'reguleren': 514, 'belang': 48, 'treedt': 586, 'aantal': 9, 'bovengenoemde': 94, 'opgetreden': 454, 'kans': 307, 'nieuwe': 398, 'toeneemt': 581, 'proto': 502, 'oncogenen': 423, 'tumorsuppressorgenen': 591, 'mogelijk': 371, 'ongebreideld': 431, 'repairgenen': 519, 'verhoogt': 624, 'onderdrukking': 427, 'apoptose': 31, 'vernietigd': 632, 'ontwikkeling': 446, 'kankerproces': 298, 'voortschrijdt': 670, 'zullen': 705, 'bloedvaten': 87, 'aangelegd': 4, 'angiogenese': 29, 'omliggende': 414, 'ontaarde': 438, 'dringen': 152, 'onsterfelijk': 437, 'normaal': 404, 'ongeveer': 434, 'hayflick': 251, 'limiet': 336, 'kankercellen': 294, 'indien': 269, 'uiteindelijk': 594, 'voldoen': 657, 'kenmerken': 308, 'infiltreren': 274, 'metastaseren': 360, 'nauwelijks': 387, 'oorspronkelijke': 447, 'bezighouden': 76, 'energie': 162, 'aanwenden': 10, 'puntmutatie': 504, 'allereerst': 25, 'amplificatie': 27, 'kopieën': 314, 'genomen': 213, 'teveel': 576, 'evenwicht': 172, 'balans': 35, 'brengen': 97, 'chromosoomtranslocatie': 124, 'reciproque': 509, 'mogelijkheid': 372, 'wederzijdse': 677, 'translocatie': 584, 'oncogen': 422, 'plaats': 485, 'chromosoom': 123, 'onttrokken': 443, 'gebied': 189, 'sequenties': 542, 'expressie': 174, 'toenemen': 582, 'burkittlymfoom': 100, 'chronische': 125, 'myeloïde': 383, 'samensmelting': 532, 'fusiegen': 185, 'philadelphiachromosoom': 481, 'actief': 15, 'gevaarlijk': 219, 'gedragen': 193, 'zorgen': 701, 'gewoonlijk': 224, 'regulering': 516, 'verdwijnen': 620, 'zodoende': 697, 'ongestoord': 433, 'verdergaan': 619, 'uitgeschakeld': 596, 'sommige': 547, 'hyper': 267, 'methylering': 363, 'promotor': 499, 'regio': 512, 'stimuleren': 555, 'celdelingen': 106, 'omvang': 416, 'verwordt': 648, 'onco': 421, 'overmatige': 467, 'zelfs': 690, 'onbeperkte': 420, 'wijze': 682, 'functioneert': 184, 'zelfvernietigingsmechanisme': 691, 'werking': 679, 'gronde': 244, 'beschikking': 60, 'lichaamscellen': 333, 'herstelsysteem': 259, 'afwijkingen': 22, 'hersteld': 256, 'herstelgen': 257, 'fouten': 180, 'voldoende': 658, 'chemicaliën': 117, '–': 709, 'kankergevallen': 296, 'mutageen': 375, 'zeggen': 688, 'chromosomen': 122, 'mutatiefrequentie': 379, 'opdrijven': 449, 'zekerheid': 689, 'genereren': 206, 'noemen': 402, 'carcinogeen': 102, 'omgekeerd': 409, 'betrokkenheid': 71, 'grote': 247, 'verbinding': 616, 'aangaan': 3, 'mutagene': 376, 'elektrofiele': 160, 'genoemd': 212, 'onderscheid': 428, 'promutagenen': 500, 'enzymen': 165, 'opgespoord': 453, 'verbrand': 618, 'gefrituurd': 194, 'voedsel': 656, 'bacteriën': 34, 'schimmels': 540, 'medicamenten': 353, 'kankerverwekkende': 304, 'effecten': 155, 'laatste': 320, 'verklaren': 625, 'doordat': 149, 'voornamelijk': 667, 'kankerstimulerend': 303, 'deshormoon': 142, 'di': 143, 'ethylstilbestrol': 170, 'derivaat': 141, 'oestrogeen': 408, 'bleek': 82, 'vaginale': 610, 'geslachtshormonen': 216, 'kankerpromotoren': 299, 'bestaande': 64, 'co': 126, 'mutagenen': 377, 'rechtstreekse': 508, 'bevordert': 74, 'zo’n': 704, 'stof': 557, 'leverkanker': 330, 'hand': 248, 'inhoud': 277, 'stralen': 562, 'golflengte': 233, 'moleculen': 373, 'elektrisch': 159, 'laden': 321, 'gevolg': 222, 'beschadigd': 57, 'vervolgens': 643, 'voortbrengt': 669, 'x': 686, 'röntgenfoto’s': 531, 'gammastralen': 187, 'atoombom': 32, 'kosmische': 315, 'gelegen': 198, 'niveau': 401, 'somamutatie': 546, 'teweegbrengen': 577, 'rechtstreeks': 507, 'activeert': 17, 'effect': 154, 'n': 384, 'hangt': 249, 'intensiteit': 280, 'opnamesnelheid': 456, 'laag': 319, 'geconcentreerde': 191, 'gedoseerde': 192, 'beschadigde': 58, 'herstellen': 258, 'intensieve': 279, 'blootstelling': 89, 'uv': 607, 'zonlicht': 699, 'ioniserend': 288, 'lichaamsdelen': 334, 'brandwonden': 95, 'huidkanker': 265, 'aanzienlijk': 12, 'vergroten': 621, 'verantwoordelijk': 614, 'kankers': 301, 'uitwendige': 600, 'groeiregeling': 238, 'beïnvloeden': 77, 'planten': 488, 'onrechtstreeks': 436, 'rna': 526, 'retrovirussen': 521, 'virale': 652, 'reverse': 522, 'transcriptie': 583, 'omgezet': 412, 'kopie': 313, 'virus': 653, 'gestolen': 218, 'besmet': 63, 'enhancers': 163, 'kleine': 311, 'actiever': 16, 'geworden': 225, 'omgevormd': 411, 'ingevoegd': 276, 'humaan': 266, 't': 571, 'lymfotroop': 345, 'htlv': 264, 'veroorzaakt': 636, 'oefent': 407, 'productie': 496, 'activeren': 18, 'indirecter': 270, 'war': 676, 'sturen': 565, 'schakel': 535, 'tumoren': 590, 'patiënten': 479, 'angstige': 30, 'bijklank': 78, 'minder': 368, 'zwelling': 706, 'zowel': 703, 'goed': 231, 'geneest': 203, 'kankerweefsel': 306, 'bloeden': 86, 'bloedverlies': 88, 'ontlasting': 440, 'urine': 606, 'tepel': 573, 'hoesten': 262, 'belangrijke': 50, 'vroege': 671, 'waarschuwingssymptomen': 675, 'drukken': 153, 'structuren': 564, 'belemmeren': 51, 'darm': 135, 'passage': 474, 'onmogelijk': 435, 'zwellingen': 707, 'geblokkeerde': 190, 'zenuwbanen': 692, 'ruggenmerg': 530, 'verlammingen': 627, 'botten': 92, 'breuken': 98, 'zenuwen': 694, 'pijn': 482, 'neurologische': 395, 'problemen': 494, 'epilepsie': 166, 'beenmerg': 40, 'bloedaanmaak': 84, 'plaatsvindt': 487, 'tumorweefsel': 592, 'vervangen': 642, 'ernstige': 169, 'bloedarmoede': 85, 'stollingsstoornissen': 560, 'verandering': 613, 'stofwisseling': 559, 'regulatie': 513, 'paraneoplastische': 473, 'syndromen': 570, 'waaronder': 674, 'beeldvormende': 39, 'onderzoeken': 430, 'prominente': 498, 'onderzoek': 429, 'pathologisch': 477, 'beeldvormend': 38, 'gekeken': 195, 'cytologie': 133, 'histologie': 260, 'materiaal': 351, 'verkregen': 626, 'middels': 366, 'puncties': 503, 'naald': 385, 'operatieve': 451, 'verwijdering': 647, 'operatief': 450, 'uitgebreid': 595, 'lymfeklieren': 340, 'metastasen': 359, 'afstand': 21, 'grond': 243, 'diagnostiek': 144, 'volgen': 659, 'behandelingstraject': 45, 'bepaald': 54, 'zorg': 700, 'verzachten': 649, 'palliatieve': 470, 'overige': 464, 'symptomen': 569, 'genezing': 209, 'verwijderen': 646, 'combinatie': 127, 'behandelingstechnieken': 44, 'methoden': 362, 'curatie': 131, 'palliatie': 469, 'chirurgisch': 121, 'curatief': 132, 'volledige': 661, 'anderzijds': 28, 'gevorderde': 223, 'verzachtende': 650, 'chirurgie': 120, 'opgegeven': 452, 'patiënt': 478, 'verminderen': 631, 'therapieën': 579, 'ontwikkeld': 445, 'gentherapie': 214, 'immunotherapie': 268, 'experimentele': 173, 'behandelingen': 43, 'onderdeel': 426, 'wetenschappelijk': 680, 'geneeskundig': 201, 'inmiddels': 278, 'ingeburgerd': 275, 'oncologische': 425, 'praktijk': 489, 'voorbeeld': 662, 'trastuzumab': 585, 'herceptin': 253, 'succesvolle': 566, 'geneesmiddelen': 202, 'amerikaanse': 26, 'bedrijf': 37, 'genentech': 205, 'bevacizumab': 72, 'avastin': 33, 'rituximab': 525, 'mabthera': 346, 'non': 403, 'hodgkinlymfoom': 261, 'pfizer': 480, 'middel': 364, 'sunitinib': 567, 'sutent': 568, 'nierkanker': 397, 'markt': 350, 'bayer': 36, 'sorafenib': 550, 'nexavar': 396, 'behalve': 41, 'kankergezwel': 297, 'bijwerkingen': 80, 'bestreden': 66, 'pijnstillers': 483, 'pijnstilling': 484, 'versterken': 640, 'misselijkheid': 369, 'obstipatie': 406, 'mond': 374, 'remedie': 517, 'opiaten': 455, 'klinische': 312, 'pathologie': 476, 'recent': 506, 'neoplasmata': 392, 'communiceren': 128, 'groot': 245, 'netwerk': 393, 'wisselen': 683, 'bestraling': 65, 'chemotherapie': 119, 'vermijden': 630, 'netwerkcommunicatie': 394, 'uitzaaiingen': 603, 'tumorcellen': 588, 'verbonden': 617, 'zenuwcellen': 693, 'ontvangen': 444, 'directe': 146, 'sneller': 545, 'groeien': 236, 'ontdekte': 439, 'benaderingen': 52, 'stoppen': 561, 'effectiever': 156, 'verstoring': 641, 'vernietiging': 634, 'tumorcelnetwerken': 589, 'therapeutisch': 578, 'principe': 493, 'behandelmogelijkheid': 47, 'behandelmethoden': 46, 'inzichten': 287, 'belangrijk': 49, 'gereduceerd': 215, 'levensstijl': 329, 'overgewicht': 461, 'fruit': 182, 'groente': 242, 'regelmatig': 511, 'bewegen': 75, 'algemene': 24, 'aanbevelingen': 0, 'hart': 250, 'vaatziekten': 608, 'beperken': 56, 'gezond': 226, 'leeft': 325, 'aanwezig': 11, 'externe': 175, 'luchtvervuiling': 339, 'genetische': 208, 'onafhankelijk': 417, 'leiden': 327, 'preventie': 490, 'familie': 178, 'voorkomt': 666, 'overgegaan': 460, 'preventief': 491, 'genetisch': 207, 'familieleden': 179, 'wettelijk': 681, 'leeftijd': 326, 'achttien': 14, 'uitgezonderd': 597, 'kankervormen': 305, 'jonge': 291, 'preventieve': 492, 'dragers': 151, 'vijfjarige': 651, 'schildklier': 538, 'verwijderd': 645, 'schildklierkanker': 539, 'eierstokkanker': 157, 'draagster': 150, 'gemuteerde': 199, 'besluiten': 62, 'borsten': 90, 'zeer': 687, 'zorgvuldige': 702, 'overweging': 468, 'papillomavirus': 472, 'infectie': 271, 'aanleiding': 7, 'voorstadium': 668, 'cervix': 115, 'vulva': 673, 'cervixcarcinoom': 116, 'genitale': 210, 'wratten': 685, 'vaccinatie': 609, 'papilloma': 471, 'aandoeningen': 2, 'middelen': 365, 'gardasil': 188, 'cervarix': 114, 'scheldwoord': 537, 'sommigen': 548, 'schokkender': 541, 'beschouwd': 61, 'schelden': 536, 'godverdomme': 230, 'kankeren': 295, 'negatieve': 389, 'kritiek': 316, 'bouw': 93, 'termen': 575, 'betonkanker': 68, 'muurkanker': 381, 'betonrot': 69, 'muurschimmel': 382}\n"
     ]
    }
   ],
   "source": [
    "# Now let's inspect the first 5 contexts\n",
    "example_contexts = X[:5]  # First 5 context sentences\n",
    "example_vectors = vectorizer.transform(example_contexts).toarray()\n",
    "\n",
    "# Display the vectors and corresponding contexts\n",
    "for i, (context, vector) in enumerate(zip(example_contexts, example_vectors)):\n",
    "    print(f\"Context {i+1}: '{context}'\")\n",
    "    print(f\"Vector: {vector}\")\n",
    "    print()\n",
    "\n",
    "# Display word-to-index mapping from the vectorizer\n",
    "vocab_dict = vectorizer.vocabulary_\n",
    "print(\"Word-to-index mapping:\", vocab_dict)\n"
   ]
  },
  {
   "cell_type": "markdown",
   "metadata": {},
   "source": [
    "### training \n"
   ]
  },
  {
   "cell_type": "code",
   "execution_count": 145,
   "metadata": {},
   "outputs": [],
   "source": [
    "# Split data into training and test sets\n",
    "X_train, X_test, y_train, y_test = train_test_split(X_sentences, y, test_size=0.3, random_state=42)\n",
    "\n",
    "# Create the MLPClassifier model with 100 hidden nodes in one hidden layer\n",
    "model = MLPClassifier(hidden_layer_sizes=(100,), max_iter=500, random_state=42)\n",
    "\n",
    "# Train the model\n",
    "model.fit(X_train, y_train)\n",
    "\n",
    "# Make predictions on the test set\n",
    "y_pred = model.predict(X_test)"
   ]
  },
  {
   "cell_type": "markdown",
   "metadata": {},
   "source": [
    "### model evaluation"
   ]
  },
  {
   "cell_type": "code",
   "execution_count": 146,
   "metadata": {},
   "outputs": [
    {
     "name": "stdout",
     "output_type": "stream",
     "text": [
      "Model Accuracy: 0.0351\n"
     ]
    }
   ],
   "source": [
    "# Evaluate the model (you can also use other metrics like precision, recall, etc.)\n",
    "accuracy = accuracy_score(y_test, y_pred)\n",
    "print(f\"Model Accuracy: {accuracy:.4f}\")"
   ]
  }
 ],
 "metadata": {
  "kernelspec": {
   "display_name": "modelleren_van_kanker",
   "language": "python",
   "name": "python3"
  },
  "language_info": {
   "codemirror_mode": {
    "name": "ipython",
    "version": 3
   },
   "file_extension": ".py",
   "mimetype": "text/x-python",
   "name": "python",
   "nbconvert_exporter": "python",
   "pygments_lexer": "ipython3",
   "version": "3.12.7"
  }
 },
 "nbformat": 4,
 "nbformat_minor": 2
}
