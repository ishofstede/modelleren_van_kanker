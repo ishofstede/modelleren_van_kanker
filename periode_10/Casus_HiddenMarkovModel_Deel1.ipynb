{
 "cells": [
  {
   "cell_type": "markdown",
   "id": "48d65ba9",
   "metadata": {},
   "source": [
    "# <span id=\"0\">Casus *Hidden Markov Model* - Deel I</span>\n",
    "\n",
    "Inhoud:\n",
    "\n",
    "* **<a href=\"#1\">CpG-islands (CGIs)</a>**\n",
    "\n",
    "* **<a href=\"#2\">Hidden Markov Models</a>**\n",
    "\n",
    "* **<a href=\"#3\">CpG-eiland en non-CpG-eiland sequenties</a>**\n",
    "\n",
    "* **<a href=\"#4\">Toy-data</a>**\n",
    "\n",
    "* **<a href=\"#5\">Je eigen `HiddenMarkovModel` class</a>**"
   ]
  },
  {
   "cell_type": "code",
   "execution_count": 19,
   "id": "a2f4078b",
   "metadata": {},
   "outputs": [],
   "source": [
    "%matplotlib inline\n",
    "%reload_ext autoreload\n",
    "%autoreload 2\n",
    "\n",
    "from matplotlib import pyplot as plt\n",
    "import numpy as np"
   ]
  },
  {
   "cell_type": "markdown",
   "id": "99fbf2f4",
   "metadata": {},
   "source": [
    "<a id=\"1\" href=\"#0\" style=\"text-align: right; display: block;\">Terug naar boven</a>\n",
    "\n",
    "### CpG-islands (CGIs)\n",
    "\n",
    "CpG-eilandjes zijn elementen in het genoom die een grote invloed uitoefenen op de regulatie van genexpressie door DNA-methylatie. Hun rol in kankerontwikkeling door abnormale methylatie van tumorsuppressorgenen en oncogenen maakt het een doelwit voor diagnostische en therapeutische benaderingen. Begrip van de dynamiek van CpG-eilandjes biedt inzicht in de moleculaire mechanismen van kanker en mogelijkheden voor innovatieve behandelingsstrategieën.\n",
    "\n",
    "CpG-eilandjes zijn gebieden in het DNA die een hoge dichtheid hebben aan CpG-dinucleotiden, waarbij \"CpG\" staat voor een cytosine nucleotide (C) gevolgd door een guanine nucleotide (G) verbonden door een fosfaatgroep (p). Deze eilanden zijn meestal ongewoon rijk aan de CG-combinatie en bevatten vaak geen gemethyleerde cytosines, wat hen onderscheidt van de rest van het genoom waar CpG dinucleotiden vaak gemethyleerd zijn en daardoor minder frequent voorkomen. CpG-eilandjes komen vaak voor in of nabij de promotorregio's van genen, die de expressie van de corresponderende genen reguleren. Ze zijn typisch een paar honderd tot een paar duizend basenparen lang en hebben een GC-gehalte van meer dan 50%, met een CpG-dichtheid hoger dan wat gemiddeld is voor het genoom.\n",
    "\n",
    "CpG-eilandjes spelen een cruciale rol bij de regulatie van genexpressie via hun invloed op DNA-methylatie, een epigenetisch mechanisme. Dit proces voegt een methylgroep toe aan het cytosine-residu in CpG-dinucleotiden, meestal door de werking van DNA-methyltransferasen. In promotorregio's is methylatie vaak geassocieerd met gen-silencing omdat het de binding van transcriptiefactoren en andere noodzakelijke eiwitten voor genexpressie ontmoedigt. Omgekeerd kan het demethyleren van CpG-eilandjes de expressie van geassocieerde genen activeren, aangezien het de toegankelijkheid van transcriptiefactoren en RNA-polymerase vergroot.\n",
    "\n",
    "<img src=\"https://media.licdn.com/dms/image/D4D22AQEdqGnu8ZC80Q/feedshare-shrink_2048_1536/0/1684682580953?e=2147483647&v=beta&t=r6jlPalFOi_YDqJ_tBSPkdZRlvfakvmH1DVf9bnTTEk\" width=\"40%\" heigth=\"40%\" />\n",
    "\n",
    "De epigenetische modificatie van CpG-eilandjes speelt een belangrijke rol in kankerontwikkeling door abnormale genexpressie. In kankercellen worden CpG-eilandjes in de promotorregio's van tumorsuppressorgenen vaak hypergemethyleerd. Dit leidt tot silencing van deze genen, wat bijdraagt aan ongecontroleerde celgroei en proliferatie. Voorbeelden van tumorsuppressorgenen die vaak gehypermethyleerd zijn in kanker omvatten *p16INK4a* en *BRCA1*. Globale hypomethylatie van het genoom kan ook voorkomen in kankercellen, wat resulteert in genomische instabiliteit en de activatie van oncogenen. Dit draagt bij aan tumorvorming en -progressie.\n",
    "\n",
    "Abnormale methylatiepatronen van CpG-eilandjes kunnen dienen als biomarkers voor de vroege detectie en diagnose van kanker. Epigenetische therapieën, zoals DNA-methylatie-inhibitoren (bijv. azacitidine en decitabine), worden gebruikt om abnormale methylatie om te keren en de normale expressie van tumorsuppressorgenen te herstellen.\n",
    "\n",
    "Bekijk onderstaande inleidende video en schrijf er een samenvatting van. Zoek zo nodig zelf uitgebreidere achtergrondinformatie over onbekende onderwerpen en vermeld deze bronnen in je samenvatting als referenties. Neem onder andere de bijbehorende [Wikipedia](https://en.wikipedia.org/wiki/CpG_site) pagina door."
   ]
  },
  {
   "cell_type": "code",
   "execution_count": 20,
   "id": "bf4d72b2",
   "metadata": {},
   "outputs": [
    {
     "data": {
      "text/html": [
       "<iframe width=\"560\" height=\"315\" src=\"https://www.youtube.com/embed/bc3wtVXyAXo\" title=\"YouTube video player\" frameborder=\"0\" allow=\"accelerometer; autoplay; clipboard-write; encrypted-media; gyroscope; picture-in-picture; web-share\" referrerpolicy=\"strict-origin-when-cross-origin\" allowfullscreen></iframe>\n"
      ],
      "text/plain": [
       "<IPython.core.display.HTML object>"
      ]
     },
     "metadata": {},
     "output_type": "display_data"
    }
   ],
   "source": [
    "%%html\n",
    "<iframe width=\"560\" height=\"315\" src=\"https://www.youtube.com/embed/bc3wtVXyAXo\" title=\"YouTube video player\" frameborder=\"0\" allow=\"accelerometer; autoplay; clipboard-write; encrypted-media; gyroscope; picture-in-picture; web-share\" referrerpolicy=\"strict-origin-when-cross-origin\" allowfullscreen></iframe>"
   ]
  },
  {
   "cell_type": "code",
   "execution_count": 21,
   "id": "9b9a71ee",
   "metadata": {},
   "outputs": [],
   "source": [
    "# UITWERKING"
   ]
  },
  {
   "cell_type": "markdown",
   "id": "327f0896",
   "metadata": {},
   "source": [
    "<a id=\"2\" href=\"#0\" style=\"text-align: right; display: block;\">Terug naar boven</a>\n",
    "\n",
    "### Hidden Markov Models\n",
    "\n",
    "CpG-eilandjes kunnen worden gedetecteerd met behulp van verschillende computationele methoden, waarvan een van de meest effectieve methoden het gebruik van Hidden Markov Models (HMMs) is.\n",
    "\n",
    "Een Hidden Markov Model is een krachtig hulpmiddel voor het modelleren van tijdreeksen en sequentiële data waarin de werkelijke toestanden niet direct zichtbaar zijn, maar waar de uitkomsten afhankelijk zijn van deze toestanden. HMMs maken gebruik van probabilistische berekeningen om te schatten welke verborgen toestanden het meest waarschijnlijk zijn gegeven de waargenomen data, wat ze tot een waardevol instrument maakt in een breed scala aan toepassingen. HMMs worden breed toegepast in verschillende domeinen van de bioinformatica, maar ook bijvoorbeeld in spraakherkenning en natuurlijke taalverwerking of financiële modellering van markttendensen.\n",
    "\n",
    "Hidden Markov Models zijn zeer geschikt voor de detectie van CpG-eilandjes vanwege hun vermogen om sequenties te modelleren en patronen te herkennen in biologische data. In het kader van CpG-eilandjes vormen de verschillende nucleotiden in het DNA de waargenomen data, en is de aanwezigheid van een CpG-eiland, al dan niet, de verborgen toestand. Door het toepassen van HMMs kunnen wetenschappers efficiënt de locatie van CpG-eilandjes bepalen, wat waardevolle inzichten biedt in genregulatie en kankeronderzoek.\n",
    "\n",
    "<img src=\"https://www.researchgate.net/profile/Tomer-Toledo/publication/245563174/figure/fig1/AS:669081116094471@1536532777801/State-transition-diagram-of-a-hidden-Markov-model.png\" width=\"40%\" height=\"40%\" />\n",
    "\n",
    "Een HMM wordt gekarakteriseerd door de volgende eigenschappen:\n",
    "\n",
    "* **Toestanden / States** Een gegeven aantal verschillende verborgen interne toestanden waarin een geobserveerd systeem zich kan bevinden. In de context van CpG-eilandjesdetectie kunnen de toestanden bijvoorbeeld \"in een CpG-eiland\" en \"buiten een CpG-eiland\" zijn.\n",
    "\n",
    "* **Overgangswaarschijnlijkheden / Transition probabilities** De kans dat het systeem van de ene toestand naar de andere overgaat. Bijvoorbeeld, de kansen om van \"buiten een CpG-eiland\" naar \"in een CpG-eiland\" te veranderen, en omgekeerd, of de kansen om binnen dezelfde toestand te blijven.\n",
    "\n",
    "* **Emissiekansen / Emission probabilities** De kans om een bepaalde uitkomst te observeren vanuit een gegeven toestand. Voor CpG-eilandjes zijn dit de kansen van het voorkomen van verschillende nucleotiden (A, T, C, G) zowel in als buiten de eilandjes.\n",
    "\n",
    "* **Begintoestandsverdeling / Start probabilities** De initiële waarschijnlijkheden dat het systeem dat zich in een bepaalde toestand bevindt. Een DNA-sequentie kan met zekere kans beginnen met een CpG-eilandje, of niet.\n",
    "\n",
    "Een HMM maakt, net als elk model, diverse aannamen die de analyse van gegevens vereenvoudigen. De belangrijkste aannamen van een HMM zijn dat (1) het waargenomen systeem zich alléén in een discreet (d.w.z. eindig) aantal verschillende toestanden kan bevinden die variëren in de loop van de reeks, (2) dat de waarnemingen die aan het systeem gedaan worden alléén afhangen van de huidige toestand van het systeem, en (3) dat de kansverdeling omtrent wat de toestand van het systeem op een volgend moment gaat zijn alléén afhangt van wat de toestand van het systeem op een voorgaand moment was.\n",
    "\n",
    "De toestand van het systeem is zelf niet rechtstreeks waarneembaar; wel waarneembaar zijn de emissies die afhangen van de toestand. De meestgestelde vraag die een HMM kan proberen te beantwoorden is: \"gegeven een serie waarnemingen, wat waren de meest waarschijnlijke onderliggende toestanden van het systeem\"? Bijvoorbeeld, in ons geval: \"gegeven een nucleotidesequentie, welke delen vallen in een CpG-eiland en welke vallen erbuiten\"?\n",
    "\n",
    "Bekijk onderstaande inleidende video en schrijf er een samenvatting van. Zoek zo nodig zelf uitgebreidere achtergrondinformatie over onbekende onderwerpen en vermeld deze bronnen in je samenvatting als referenties. Neem onder andere de bijbehorende [Wikipedia](https://en.wikipedia.org/wiki/Hidden_Markov_model) pagina door."
   ]
  },
  {
   "cell_type": "code",
   "execution_count": 22,
   "id": "7342e446",
   "metadata": {
    "scrolled": true
   },
   "outputs": [
    {
     "data": {
      "text/html": [
       "<iframe width=\"560\" height=\"315\" src=\"https://www.youtube.com/embed/fX5bYmnHqqE\" title=\"YouTube video player\" frameborder=\"0\" allow=\"accelerometer; autoplay; clipboard-write; encrypted-media; gyroscope; picture-in-picture; web-share\" referrerpolicy=\"strict-origin-when-cross-origin\" allowfullscreen></iframe>\n"
      ],
      "text/plain": [
       "<IPython.core.display.HTML object>"
      ]
     },
     "metadata": {},
     "output_type": "display_data"
    }
   ],
   "source": [
    "%%html\n",
    "<iframe width=\"560\" height=\"315\" src=\"https://www.youtube.com/embed/fX5bYmnHqqE\" title=\"YouTube video player\" frameborder=\"0\" allow=\"accelerometer; autoplay; clipboard-write; encrypted-media; gyroscope; picture-in-picture; web-share\" referrerpolicy=\"strict-origin-when-cross-origin\" allowfullscreen></iframe>"
   ]
  },
  {
   "cell_type": "code",
   "execution_count": 23,
   "id": "43f3ffe6",
   "metadata": {},
   "outputs": [],
   "source": [
    "# UITWERKING"
   ]
  },
  {
   "cell_type": "markdown",
   "id": "5d29da5e",
   "metadata": {},
   "source": [
    "<a id=\"3\" href=\"#0\" style=\"text-align: right; display: block;\">Terug naar boven</a>\n",
    "\n",
    "### CpG-eiland en non-CpG-eiland sequenties\n",
    "\n",
    "De onderstaande tabellen geven de experimentele waarschijnlijkheden aan dat een zekere nucleotide (in de rijen) gevolg wordt door een zekere andere nucleotide (in de kolommen) binnen en buiten CpG-eilanden.\n",
    "\n",
    "Bron: \"Biological sequence analysis - Probabilistic models of proteins and nucleic acids\", Durbin et al. (1998), hoofdstuk 3, p50-51 ([ref](http://www.mcb111.org/w06/durbin_book.pdf)).\n",
    "\n",
    "*CGI* (`+`)\n",
    "\n",
    "|  `+`  |   A   |   C   |   G   |   T   |\n",
    "| :---: | :---: | :---: | :---: | :---: |\n",
    "| **A** | 0.180 | 0.274 | 0.426 | 0.120 |\n",
    "| **C** | 0.171 | 0.368 | 0.274 | 0.188 |\n",
    "| **T** | 0.161 | 0.339 | 0.375 | 0.125 |\n",
    "| **G** | 0.079 | 0.355 | 0.384 | 0.182 |\n",
    "\n",
    "*non-CGI* (`-`)\n",
    "\n",
    "|  `-`  |   A   |   C   |   G   |   T   |\n",
    "| :---: | :---: | :---: | :---: | :---: |\n",
    "| **A** | 0.300 | 0.205 | 0.285 | 0.210 |\n",
    "| **C** | 0.322 | 0.298 | 0.078 | 0.302 |\n",
    "| **G** | 0.248 | 0.246 | 0.298 | 0.208 |\n",
    "| **T** | 0.177 | 0.239 | 0.292 | 0.292 |\n",
    "\n",
    "Bijvoorbeeld, de kans dat een gegeven C gevolgd wordt door een G is slechts 7.8 % buiten een CpG-eilandje, maar neemt toe tot maar liefst 27.4 % binnen een CpG-eilandje, hetgeen benadrukt hoe sterk CpG-dinucleotiden relatief oververtegenwoordigd zijn binnen CpG-eilandjes. Ga na dat de som van de kansen in elke rij van de tabel moet sommeren tot 100% (op afrondfouten na).\n",
    "\n",
    "Genereer met python-code een willekeurige sequentie van 300 baseparen lengte overeenkomend met een CpG-eiland en een soortgelijke sequentie van een non-CpG-eiland. Kies telkens het eerste nucleotide willekeurig, en gebruik dan de bovenstaande overgangswaarschijnlijkheden om de sequentie te verlengen. Bepaal van de gegenereerde complete sequenties de kansen op elk nucleotide ($P_A, P_C, P_G, P_T$) evenals de kansen op elk dinucleotide ($P_{AA}, P_{AC}, \\ldots, P_{TT}$). Bepaal voor elk dinucleotide ook de ratios $r$ tussen de waargenomen en de verwachte kans, zoals\n",
    "\n",
    "$$\n",
    "r_{AC} = \\frac{P_{AC}}{P_A \\cdot P_C}\n",
    "$$\n",
    "\n",
    "Wat kun je verhoudingsgewijs zeggen over hoe vaak C en G afzonderlijk voorkomen, en hoe vaak het CpG-dinucleotide voorkomt? Welke combinaties van nucleotiden zijn het sterkst over- of ondergerepresenteerd?"
   ]
  },
  {
   "cell_type": "code",
   "execution_count": 2,
   "id": "726056a7",
   "metadata": {},
   "outputs": [
    {
     "name": "stdout",
     "output_type": "stream",
     "text": [
      "Sequence:\n",
      "GAAGGTGACGCGCCCGGCTAGGCCGCATTAGCCCCAGCCTTACTTCCTCAGGGAAGCCCCCGGCTGCCCCCCTGCGACCACCAAGTAGTGGCTCAGCTCGCCTGGGCGTCGGCTCGCAGTCTGCGGTGTCCCCGGCCGGGTGGACGCAGGTTGGCGGCCCCAAAGCTAGGTCCCGTTCAGGGAATGGGGTGCCGGCTGCGGGCAGGTCGGCTCAGGTAGCCAGCCAGGCCTGGTGGGCCTAGAGGGCGCGTCTGGGCGCAGGCGGCGTAGGCTCGAGGTAGCGGGGGCGTAGTCCGCCGG\n",
      "\n",
      "Observed nucleotides (ACGT):\n",
      "[0.13, 0.327, 0.393, 0.15] \n",
      "\n",
      "Observed dinucleotides:\n",
      "[0.02, 0.017, 0.087, 0.007]\n",
      "[0.05, 0.12, 0.097, 0.06]\n",
      "[0.027, 0.14, 0.157, 0.067]\n",
      "[0.033, 0.05, 0.05, 0.017]\n",
      "\n",
      "Observed/Expected ratio:\n",
      "[1.187, 0.394, 1.701, 0.343]\n",
      "[1.181, 1.128, 0.755, 1.229]\n",
      "[0.523, 1.093, 1.016, 1.134]\n",
      "[1.715, 1.024, 0.85, 0.743]\n"
     ]
    }
   ],
   "source": [
    "import random\n",
    "from collections import Counter\n",
    "\n",
    "# Overgangswaarschijnlijkheden voor CpG-eiland\n",
    "transition_cgi = {\n",
    "    'A': {'A': 0.180, 'C': 0.274, 'G': 0.426, 'T': 0.120},\n",
    "    'C': {'A': 0.171, 'C': 0.368, 'G': 0.274, 'T': 0.188},\n",
    "    'G': {'A': 0.079, 'C': 0.355, 'G': 0.384, 'T': 0.182},\n",
    "    'T': {'A': 0.161, 'C': 0.339, 'G': 0.375, 'T': 0.125},\n",
    "}\n",
    "\n",
    "def generate_sequence(length, transition_probs):\n",
    "    nucleotides = list(transition_probs.keys())\n",
    "    sequence = [random.choice(nucleotides)]\n",
    "    \n",
    "    for _ in range(length - 1):\n",
    "        current_nucleotide = sequence[-1]\n",
    "        next_nucleotide = random.choices(\n",
    "            nucleotides, \n",
    "            weights=[transition_probs[current_nucleotide][nuc] for nuc in nucleotides]\n",
    "        )[0]\n",
    "        sequence.append(next_nucleotide)\n",
    "    \n",
    "    return ''.join(sequence)\n",
    "\n",
    "# Genereer een sequentie van 300 nucleotiden voor CpG-eiland\n",
    "cgi_sequence = generate_sequence(300, transition_cgi)\n",
    "\n",
    "def calculate_frequencies(sequence):\n",
    "    nucleotide_counts = Counter(sequence)\n",
    "    total_nucleotides = len(sequence)\n",
    "    \n",
    "    nucleotide_freqs = {nuc: count / total_nucleotides for nuc, count in nucleotide_counts.items()}\n",
    "    \n",
    "    dinucleotide_counts = Counter([sequence[i:i+2] for i in range(total_nucleotides - 1)])\n",
    "    total_dinucleotides = total_nucleotides - 1\n",
    "    \n",
    "    dinucleotide_freqs = {dinuc: count / total_dinucleotides for dinuc, count in dinucleotide_counts.items()}\n",
    "    \n",
    "    return nucleotide_freqs, dinucleotide_freqs\n",
    "\n",
    "# Bepaal kansen\n",
    "cgi_nucleotide_freqs, cgi_dinucleotide_freqs = calculate_frequencies(cgi_sequence)\n",
    "\n",
    "def calculate_ratios(dinucleotide_freqs, nucleotide_freqs):\n",
    "    ratios = {}\n",
    "    for dinuc, freq in dinucleotide_freqs.items():\n",
    "        first, second = dinuc\n",
    "        expected_freq = nucleotide_freqs[first] * nucleotide_freqs[second]\n",
    "        ratios[dinuc] = freq / expected_freq if expected_freq > 0 else 0\n",
    "    return ratios\n",
    "\n",
    "cgi_ratios = calculate_ratios(cgi_dinucleotide_freqs, cgi_nucleotide_freqs)\n",
    "\n",
    "def format_output(nucleotide_freqs, dinucleotide_freqs, ratios):\n",
    "    nucleotides = ['A', 'C', 'G', 'T']\n",
    "    nucleotide_list = [nucleotide_freqs.get(nuc, 0) for nuc in nucleotides]\n",
    "    \n",
    "    print(f\"Sequence:\\n{cgi_sequence}\\n\")\n",
    "    \n",
    "    print(\"Observed nucleotides (ACGT):\")\n",
    "    print([round(freq, 3) for freq in nucleotide_list], \"\\n\")\n",
    "    \n",
    "    print(\"Observed dinucleotides:\")\n",
    "    dinuc_matrix = [[round(dinucleotide_freqs.get(f\"{nuc1}{nuc2}\", 0), 3) for nuc2 in nucleotides] for nuc1 in nucleotides]\n",
    "    for row in dinuc_matrix:\n",
    "        print(row)\n",
    "    print()\n",
    "    \n",
    "    print(\"Observed/Expected ratio:\")\n",
    "    ratio_matrix = [[round(ratios.get(f\"{nuc1}{nuc2}\", 0), 3) for nuc2 in nucleotides] for nuc1 in nucleotides]\n",
    "    for row in ratio_matrix:\n",
    "        print(row)\n",
    "\n",
    "# Output weergeven in gevraagde vorm\n",
    "format_output(cgi_nucleotide_freqs, cgi_dinucleotide_freqs, cgi_ratios)\n"
   ]
  },
  {
   "cell_type": "markdown",
   "id": "1a845977",
   "metadata": {},
   "source": [
    "<a id=\"4\" href=\"#0\" style=\"text-align: right; display: block;\">Terug naar boven</a>\n",
    "\n",
    "### Toy-data\n",
    "\n",
    "Gegeven zijn drie tafels (overeenkomend met toestanden) die elk een grabbelton bevatten waaruit gekleurde knikkers kunnen worden getrokken (emissies) en met elk een dobbelsteen die bepaalt naar welke volgende tafel je gaat (overgangswaarschijnlijkheden).\n",
    "\n",
    "| Tafel: |  ❶  |  ❷  |  ❸  |\n",
    "| -----: | :-: | :-: | :-: |\n",
    "| **Grabbelton:** | 6x blauw | 2x blauw | 1x blauw |\n",
    "|                 | 3x geel  | 6x geel  | 0x geel  | \n",
    "|                 | 1x groen | 2x groen | 6x groen |\n",
    "|                 | 2x rood  | 2x rood  | 5x rood  |\n",
    "| **Dobbelsteen:** | ⚀→① | ⚀→① | ⚀→① |\n",
    "|                  | ⚁→② | ⚁→② | ⚁→① |\n",
    "|                  | ⚂→② | ⚂→② | ⚂→① |\n",
    "|                  | ⚃→② | ⚃→③ | ⚃→① |\n",
    "|                  | ⚄→③ | ⚄→③ | ⚄→② |\n",
    "|                  | ⚅→③ | ⚅→③ | ⚅→③ |\n",
    "\n",
    "Beginnend bij een willekeurige tafel, trek individueel een knikker en noteer de kleur samen met het nummer van de tafel. Gebruik de dobbelsteen om te bepalen naar welke volgende tafel je gaat. Herhaal dit tot je ongeveer een dertigtal waarnemingen hebt gegenereerd en je weer precies terug bent gekomen bij de tafel waar je was begonnen.\n",
    "\n",
    "Bijvoorbeeld:\n",
    "| **Beurt:** | 1     | 2     | 3     | 4     | 5     | 6     | 7     | ... | 30    |\n",
    "| ---------: | :---: | :---: | :---: | :---: | :---: | :---: | :---: | :-: | :---: |\n",
    "| **Tafel:** | ❷     | ❸     | ❶     | ❸     | ❷     | ❷     | ❶     | ... | ❸     |\n",
    "| **Kleur:** | geel  | groen | blauw | rood  | groen | geel  | blauw | ... | rood  |\n",
    "| **Worp:**  | ⚃     | ⚀     | ⚄     | ⚄     | ⚂     | ⚀     | ⚂     | ... | ⚄     |\n",
    "\n",
    "Naast het bepalen van je eigen sequentie, combineer de waarnemingen van al je klasgenoten tot één lange sequentie."
   ]
  },
  {
   "cell_type": "markdown",
   "id": "65e4c54a",
   "metadata": {},
   "source": [
    "<a id=\"5\" href=\"#0\" style=\"text-align: right; display: block;\">Terug naar boven</a>\n",
    "\n",
    "### Je eigen `HiddenMarkovModel` class\n",
    "\n",
    "Maak een eigen module-bestand genaamd `hmmmodel.py` aan en definieer daarin een klasse `HiddenMarkovModel`. Deze klasse dient een begintoestandsverdeling, overgangswaarschijnlijkheden, en emissiekansen te kunnen bevatten. De klasse dient verder een methode `sample()` te hebben die het mogelijk maakt om een gevraagd aantal waarnemingen te genereren op basis van een gegeven Hidden Markov Model. Voeg implementaties van een aantal standaard dunder-methoden toe (`__init__()`, `__str__()`, `__repr__()`).\n",
    "\n",
    "Implementeer de functionaliteit van je eigen module zodanig dat deze grotendeels compatibel is met de `CategoricalHMM` klasse van de `hmmlearn` module waarvan je de documentatie [online](https://hmmlearn.readthedocs.io/en/latest/api.html#categoricalhmm) kan vinden. Deze module zit niet in de standaard library van python en dien je zelf wellicht nog te installeren. Merk op dat niet alle functionaliteit uit deze klasse hoeft te worden geïmplementeerd. Vooralsnog gaat het voornamelijk om initialisatie en de `sample()` methode. Later voegen we nog meer methoden aan je klasse toe.\n",
    "\n",
    "Gebruik je eigen module om sequenties van 1200 toestanden en bijbehorende waarnemingen te genereren voor de eerdere toy-data. De tafelnummers zijn daarin de toestanden en de kleuren knikkers zijn de emissies. Dit zou moeten kunnen met code zoals hieronder.\n",
    "\n",
    "```python\n",
    "from hmmmodel import HiddenMarkovModel as HMM\n",
    "model = HMM(n_components=..., n_features=...)\n",
    "model.startprob_ = ...\n",
    "model.transmat_ = ...\n",
    "model.emissionprob_ = ...\n",
    "emissions, states = model.sample(1200)\n",
    "print(model)\n",
    "```\n",
    "\n",
    "Toon histogrammen van de toestanden en emissies voor al deze sequenties, en schat *op basis van de gegenereerde sequentie* de overgangswaarschijnlijkheden en emissiekansen. Ga na of deze goed overeenkomen met de instellingen van het Hidden Markov Model.\n",
    "\n",
    "Vergelijk tenslotte of je eigen klasse soortgelijke resultaten geeft als `hmmlearn.hmm.CategoricalHMM` (d.w.z. met soortgelijke code als hierboven, maar met `from hmmlearn.hmm import CategoricalHMM as HMM`)."
   ]
  },
  {
   "cell_type": "code",
   "execution_count": null,
   "id": "28d39ac3",
   "metadata": {},
   "outputs": [
    {
     "name": "stdout",
     "output_type": "stream",
     "text": [
      "All States: [1, 2, 1, 1, 2, 2, 0, 1, 2, 1, 1, 2, 2, 1, 1, 1, 0, 0, 0, 2, 2, 0, 2, 0, 1, 2, 2, 0, 1, 2, 1, 2, 1, 2, 0, 0, 0, 2, 0, 2, 0, 1, 1, 1, 2, 0, 1, 2, 0, 1, 0, 0, 2, 0, 0, 1, 1, 0, 2, 1, 2, 2, 2, 0, 1, 2, 2, 2, 2, 1, 0, 1, 1, 1, 1, 2, 1, 2, 2, 0, 1, 2, 1, 1, 2, 2, 2, 0, 0, 1, 1, 2, 0, 0, 0, 2, 2, 2, 1, 2, 2, 1, 2, 0, 1, 0, 0, 2, 2, 0, 1, 1, 1, 2, 0, 0, 1, 2, 0, 1, 2, 0, 0, 1, 0, 2, 0, 2, 2, 1, 1, 2, 1, 2, 1, 0, 2, 1, 2, 0, 2, 0, 2, 2, 0, 0, 1, 0, 0, 2, 0, 2, 2, 2, 2, 0, 1, 1, 1, 1, 2, 2, 1, 2, 0, 2, 0, 2, 2, 0, 1, 1, 0, 2, 0, 2, 2, 0, 1, 2, 0, 0, 2, 0, 0, 1, 2, 0, 2, 1, 2, 0, 1, 2, 2, 1, 2, 0, 0, 2, 2, 0, 0, 1, 2, 2, 0, 0, 1, 2, 0, 1, 2, 2, 0, 0, 2, 0, 0, 1, 0, 2, 0, 2, 0, 1, 0, 2, 2, 0, 1, 1, 1, 0, 1, 2, 2, 2, 0, 0, 2, 1, 1, 2, 0, 0, 1, 1, 2, 2, 0, 2, 1, 0, 2, 2, 2, 0, 1, 1, 0, 0, 0, 0, 0, 2, 0, 1, 2, 0, 2, 0, 2, 2, 1, 2, 2, 2, 1, 2, 2, 0, 2, 0, 1, 1, 2, 2, 0, 2, 0, 2, 2, 1, 0, 1, 1, 2, 2, 0, 2, 0, 0, 2, 0, 1, 2, 2, 1, 1, 1, 2, 0, 0, 0, 1, 2, 0, 1, 2, 2, 1, 1, 1, 2, 0, 1, 1, 1, 2, 2, 0, 1, 2, 2, 0, 1, 1, 2, 0, 2, 0, 1, 1, 1, 1, 0, 1, 2, 0, 0, 0, 1, 0, 2, 2, 0, 1, 2, 2, 0, 0, 2, 0, 2, 2, 1, 0, 0, 0, 0, 2, 2, 2, 0, 2, 0, 0, 1, 2, 0, 2, 1, 1, 1, 0, 0, 0, 0, 2, 2, 0, 0, 1, 2, 0, 0, 1, 2, 2, 0, 1, 2, 2, 2, 2, 0, 1, 1, 2, 2, 1, 1, 2, 0, 2, 2, 0, 1, 1, 2, 1, 0, 2, 0, 0, 2, 0, 1, 1, 2, 2, 2, 2, 2, 2, 0, 2, 0, 1, 1, 0, 1, 1, 2, 2, 0, 2, 2, 0, 1, 2, 0, 1, 0, 2, 0, 1, 2, 0, 1, 2, 0, 0, 2, 2, 2, 0, 0, 2, 0, 0, 0, 0, 0, 1, 1, 1, 0, 1, 2, 2, 0, 0, 0, 1, 2, 0, 0, 2, 2, 0, 2, 2, 0, 1, 2, 2, 0, 2, 0, 2, 0, 2, 2, 0, 2, 0, 2, 0, 2, 0, 0, 1, 2, 1, 2, 2, 0, 1, 1, 2, 0, 2, 0, 0, 0, 0, 2, 1, 2, 0, 1, 0, 1, 2, 2, 0, 0, 2, 0, 1, 1, 1, 1, 1, 1, 0, 2, 0, 2, 0, 2, 2, 0, 2, 0, 1, 1, 1, 2, 0, 1, 1, 2, 2, 0, 0, 0, 1, 2, 2, 0, 0, 1, 0, 2, 2, 0, 1, 2, 0, 2, 0, 0, 2, 0, 2, 0, 1, 2, 1, 0, 2, 0, 1, 2, 0, 1, 2, 0, 0, 0, 0, 2, 2, 0, 0, 1, 1, 2, 2, 0, 2, 2, 1, 2, 1, 2, 0, 0, 1, 2, 2, 1, 2, 1, 0, 0, 0, 2, 1, 1, 2, 0, 0, 0, 0, 0, 0, 0, 1, 2, 0, 0, 0, 2, 2, 1, 2, 0, 0, 0, 2, 2, 0, 1, 1, 1, 1, 0, 0, 1, 1, 0, 2, 2, 0, 2, 0, 0, 2, 0, 0, 2, 0, 1, 1, 1, 2, 2, 0, 2, 0, 1, 1, 2, 2, 1, 2, 0, 1, 1, 1, 2, 2, 2, 0, 0, 1, 2, 0, 2, 1, 2, 2, 2, 1, 1, 1, 1, 2, 2, 1, 1, 1, 1, 1, 1, 2, 2, 0, 2, 1, 2, 0, 1, 0, 0, 2, 0, 1, 1, 0, 1, 1, 2, 2, 0, 2, 0, 0, 2, 0, 0, 2, 2, 2, 1, 2, 2, 2, 2, 0, 2, 0, 2, 0, 2, 0, 1, 0, 1, 1, 2, 0, 2, 2, 2, 0, 2, 2, 0, 1, 2, 0, 2, 2, 0, 2, 2, 1, 2, 0, 1, 2, 0, 0, 1, 1, 1, 1, 2, 0, 2, 0, 1, 1, 2, 1, 2, 0, 1, 0, 2, 0, 0, 0, 0, 1, 1, 2, 2, 2, 1, 2, 2, 0, 0, 0, 0, 0, 2, 2, 0, 1, 2, 2, 0, 0, 2, 2, 0, 1, 2, 0, 0, 2, 0, 2, 1, 2, 0, 0, 0, 1, 1, 1, 1, 2, 2, 0, 1, 1, 1, 2, 1, 2, 2, 1, 2, 1, 0, 0, 1, 1, 0, 0, 0, 0, 2, 1, 1, 2, 2, 2, 0, 1, 2, 0, 0, 1, 1, 1, 0, 0, 0, 1, 1, 2, 2, 0, 2, 1, 2, 2, 0, 1, 1, 2, 0, 1, 1, 2, 2, 1, 1, 1, 1, 2, 2, 1, 1, 2, 2, 0, 1, 2, 0, 0, 0, 0, 0, 1, 2, 0, 1, 2, 1, 2, 1, 0, 0, 1, 1, 1, 2, 0, 0, 2, 1, 1, 2, 2, 1, 1, 1, 0, 2, 2, 0, 0, 0, 0, 1, 2, 1, 2, 1, 1, 0, 1, 1, 2, 2, 0, 2, 1, 2, 2, 2, 2, 1, 2, 0, 2, 0, 0, 1, 0, 0, 1, 2, 0, 2, 1, 0, 1, 2, 0, 0, 2, 1, 2, 2, 2, 0, 0, 0, 0, 2, 0, 0, 1, 2, 2, 2, 2, 1, 0, 1, 2, 0, 0, 0, 0, 0, 2, 0, 2, 0, 2, 2, 0, 1, 2, 2, 0, 1, 2, 1, 2, 0, 1, 1, 2, 1, 2, 2, 2, 2, 0, 1, 0, 2, 0, 0, 1, 2, 0, 0, 2, 0, 2, 2, 0, 1, 1, 1, 2, 2, 0, 2, 2, 0, 2, 2, 0, 2, 1, 2, 0, 1, 2, 2, 2, 2, 0, 1, 1, 0, 0, 1, 1, 2, 0, 0, 0, 1, 2, 0, 0, 2, 0, 1, 1, 1, 1, 1, 2, 0, 1, 2, 2, 0, 1, 2, 2, 0, 2, 2, 0, 1, 2, 0, 0, 1, 1, 2, 0, 0, 2, 2, 0, 0, 1, 2, 0, 0, 0, 2, 0, 0, 0, 0, 0, 1, 2, 2, 0, 1, 2, 2, 0, 0, 0, 0, 0, 0, 1, 1, 2, 0, 1, 2, 0, 0, 2, 2, 1, 0, 1, 1, 2, 0, 2, 1, 2, 0, 1, 1, 2, 0, 1, 1, 2, 0, 0, 0, 0, 1, 1, 0, 2, 0, 2, 0, 1, 2, 0, 0, 0, 1, 1, 2, 0, 1, 1, 1, 2]\n",
      "All Emissions: [0, 2, 1, 3, 3, 2, 0, 0, 3, 0, 1, 2, 2, 1, 1, 1, 1, 1, 0, 2, 2, 0, 3, 0, 1, 2, 3, 0, 2, 3, 1, 0, 2, 2, 0, 0, 1, 3, 0, 0, 2, 1, 1, 1, 3, 3, 1, 2, 0, 2, 0, 2, 3, 0, 1, 0, 2, 1, 3, 1, 3, 2, 2, 0, 2, 2, 2, 2, 2, 2, 0, 2, 2, 0, 0, 2, 0, 3, 0, 0, 3, 2, 1, 2, 3, 2, 2, 3, 1, 0, 2, 2, 0, 2, 3, 2, 3, 0, 1, 2, 2, 1, 2, 0, 1, 0, 3, 3, 2, 0, 1, 1, 3, 3, 3, 1, 2, 2, 1, 3, 3, 1, 0, 1, 1, 3, 0, 3, 3, 1, 1, 3, 1, 2, 2, 1, 2, 1, 0, 3, 2, 1, 0, 2, 0, 3, 3, 0, 2, 3, 1, 2, 2, 2, 3, 0, 1, 1, 2, 2, 2, 2, 0, 3, 3, 2, 3, 0, 3, 0, 0, 0, 1, 3, 1, 3, 0, 0, 1, 3, 3, 2, 3, 0, 0, 0, 3, 1, 0, 1, 3, 3, 0, 2, 3, 0, 0, 2, 0, 3, 2, 3, 0, 3, 3, 2, 0, 1, 1, 2, 0, 2, 2, 3, 0, 3, 3, 3, 1, 2, 3, 0, 1, 2, 1, 3, 1, 2, 2, 0, 0, 1, 2, 0, 3, 2, 2, 2, 0, 0, 3, 1, 1, 3, 1, 0, 1, 0, 2, 3, 0, 2, 1, 1, 2, 3, 2, 0, 2, 1, 1, 1, 0, 0, 3, 2, 3, 3, 3, 3, 2, 0, 3, 2, 3, 2, 2, 3, 1, 3, 2, 0, 0, 0, 1, 0, 2, 0, 0, 2, 0, 3, 2, 3, 0, 1, 0, 2, 3, 0, 3, 3, 0, 3, 1, 0, 3, 3, 3, 1, 1, 2, 3, 0, 0, 2, 2, 3, 1, 0, 2, 1, 1, 3, 2, 0, 0, 3, 1, 3, 3, 3, 1, 2, 3, 1, 1, 3, 3, 0, 3, 1, 2, 3, 3, 3, 0, 3, 2, 0, 0, 1, 1, 0, 3, 0, 0, 1, 2, 3, 0, 1, 2, 0, 2, 2, 1, 3, 1, 3, 1, 2, 0, 2, 0, 2, 1, 0, 2, 3, 1, 2, 1, 3, 1, 1, 1, 1, 3, 2, 3, 3, 0, 1, 2, 0, 1, 0, 2, 2, 1, 1, 3, 3, 2, 2, 0, 3, 1, 2, 2, 2, 1, 0, 0, 2, 2, 0, 1, 1, 2, 2, 1, 2, 0, 3, 2, 1, 3, 2, 0, 2, 3, 2, 2, 2, 2, 3, 0, 1, 3, 0, 2, 1, 2, 3, 2, 0, 0, 0, 2, 3, 0, 3, 1, 2, 0, 1, 2, 0, 1, 3, 1, 0, 3, 0, 0, 0, 3, 3, 2, 2, 0, 1, 0, 1, 2, 3, 0, 2, 3, 3, 1, 3, 0, 1, 0, 0, 3, 3, 0, 3, 2, 2, 0, 1, 3, 2, 0, 2, 0, 2, 2, 2, 0, 0, 2, 0, 0, 3, 0, 0, 1, 1, 2, 1, 2, 2, 0, 1, 1, 2, 0, 2, 0, 3, 1, 1, 2, 1, 3, 3, 0, 1, 3, 3, 0, 0, 1, 2, 0, 1, 1, 3, 1, 1, 1, 1, 3, 0, 2, 1, 2, 3, 1, 2, 0, 1, 2, 3, 2, 0, 1, 0, 3, 3, 0, 2, 0, 0, 0, 3, 1, 0, 1, 3, 2, 3, 0, 3, 2, 1, 3, 0, 0, 3, 0, 3, 0, 1, 0, 1, 1, 3, 1, 1, 3, 0, 1, 3, 3, 3, 0, 1, 2, 2, 1, 0, 1, 1, 3, 3, 2, 0, 3, 1, 2, 2, 3, 3, 0, 1, 2, 3, 1, 3, 1, 1, 0, 0, 2, 1, 1, 2, 3, 0, 1, 1, 0, 2, 3, 1, 2, 0, 2, 1, 2, 3, 2, 3, 0, 0, 2, 2, 3, 0, 2, 1, 0, 3, 3, 1, 1, 1, 3, 2, 2, 1, 3, 0, 0, 2, 3, 0, 2, 0, 2, 1, 3, 3, 2, 0, 3, 1, 1, 0, 2, 2, 1, 3, 0, 1, 1, 3, 2, 2, 2, 0, 1, 2, 2, 0, 3, 0, 2, 3, 2, 1, 3, 1, 2, 0, 3, 1, 1, 1, 2, 1, 1, 3, 2, 0, 2, 3, 2, 0, 1, 0, 2, 3, 0, 3, 1, 0, 2, 1, 3, 2, 0, 3, 2, 0, 2, 0, 0, 2, 3, 3, 2, 2, 0, 2, 3, 0, 2, 2, 3, 0, 2, 2, 3, 1, 1, 3, 2, 3, 3, 2, 2, 0, 2, 3, 1, 2, 2, 0, 2, 3, 1, 2, 3, 1, 2, 0, 1, 3, 1, 1, 1, 3, 3, 1, 3, 1, 3, 1, 2, 1, 2, 1, 0, 0, 1, 0, 3, 3, 1, 0, 1, 1, 1, 3, 3, 2, 2, 3, 2, 0, 1, 0, 3, 0, 2, 2, 1, 1, 2, 2, 0, 1, 3, 3, 3, 2, 0, 1, 3, 2, 1, 3, 3, 2, 3, 1, 3, 0, 3, 1, 0, 2, 3, 0, 0, 1, 1, 3, 1, 2, 0, 2, 3, 2, 3, 1, 3, 1, 1, 0, 3, 1, 0, 1, 1, 3, 2, 3, 0, 3, 2, 1, 0, 1, 0, 0, 1, 0, 1, 1, 0, 2, 2, 0, 3, 3, 2, 3, 0, 1, 0, 2, 3, 1, 0, 3, 2, 0, 1, 1, 0, 3, 3, 3, 0, 2, 3, 0, 0, 0, 3, 0, 1, 1, 0, 0, 3, 0, 1, 2, 2, 2, 1, 1, 0, 2, 3, 1, 2, 0, 0, 3, 2, 0, 3, 2, 0, 1, 0, 2, 2, 2, 0, 1, 0, 0, 2, 2, 2, 2, 0, 1, 1, 1, 1, 3, 2, 1, 0, 0, 3, 3, 2, 2, 2, 3, 0, 3, 0, 1, 1, 1, 0, 2, 3, 1, 3, 3, 2, 1, 2, 0, 0, 2, 2, 2, 2, 2, 2, 3, 0, 0, 3, 1, 1, 1, 3, 2, 2, 2, 0, 0, 3, 3, 1, 0, 1, 2, 1, 2, 1, 2, 0, 2, 2, 0, 3, 3, 3, 0, 1, 2, 1, 2, 1, 3, 0, 2, 1, 3, 3, 2, 2, 0, 3, 2, 3, 0, 0, 0, 2, 1, 0, 3, 1, 2, 3, 0, 1, 1, 1, 3, 3, 0, 2, 2, 0, 3, 2, 0, 2, 0, 2, 1, 2, 2, 3, 3, 0, 2, 1, 0, 3, 0, 1, 3, 3, 0, 0, 1, 0, 2, 3, 0, 2, 0, 3, 2, 2, 1, 0, 3, 0, 1, 2, 2, 0, 3, 2, 2, 0, 2, 3, 3, 3, 2, 0, 1, 3, 1, 3, 0, 0, 2, 2, 2, 0, 0, 3, 0, 3, 1, 2, 0, 3, 0, 0, 3, 3, 3, 2, 0, 1, 2, 3, 1, 3, 0, 1, 0, 0, 0, 0, 2, 3, 1, 2, 0, 0, 2, 2, 0, 3, 1, 1, 3, 2, 0, 1, 3, 0, 1, 1, 2, 0, 1, 0, 3, 0, 1, 3, 0, 0, 3, 0, 2, 1, 3, 1, 2, 3, 2, 1, 0, 1, 3, 0, 1, 1, 1, 1, 3]\n"
     ]
    }
   ],
   "source": [
    "import numpy as np\n",
    "\n",
    "class HiddenMarkovModel:\n",
    "    def __init__(self, n_components, n_features):\n",
    "        \n",
    "        self.n_components = n_components  # Aantal toestanden in dit geval 3 voor elke tafel 1 \n",
    "        self.n_features = n_features    # Aantal mogelijke emissies in dit geval 4 voor elke kleur \n",
    "        self.startprob_ = np.zeros(n_components)  # start kans, in dit geval 3 voor elke tafel\n",
    "        self.transmat_ = np.zeros((n_components, n_components))  # De kans om van een toestand naar een andere toestand te gaan \n",
    "        self.emissionprob_ = np.zeros((n_components, n_features))  # De kans om een kleur te krijgen bij een specifieke toestand \n",
    "\n",
    "    def __str__(self):\n",
    "        # in string mode om het leesbaar te maken \n",
    "        return (f\"HiddenMarkovModel(n_components={self.n_components}, \"\n",
    "                f\"n_features={self.n_features})\\n\"\n",
    "                f\"Startprobabilities: {self.startprob_}\\n\"\n",
    "                f\"Transition matrix:\\n{self.transmat_}\\n\"\n",
    "                f\"Emission matrix:\\n{self.emissionprob_}\")\n",
    "\n",
    "    def __repr__(self):\n",
    "        # geeft een samenvatting van het object dat leesbaar is.\n",
    "        return (f\"HiddenMarkovModel(n_components={self.n_components}, \"\n",
    "                f\"n_features={self.n_features})\")\n",
    "\n",
    "    \n",
    "    def sample(self, n_samples):\n",
    "        # deze functie genereerd de sample data aan de hand van wat de kansen zijn voor de overgangsmatrix/kansen. \n",
    "        states = []\n",
    "        emissions = []\n",
    "        \n",
    "        # de som moet altijd 1 zijn. \n",
    "        self.startprob_ = self.startprob_ / self.startprob_.sum()\n",
    "        self.transmat_ = np.array([row / row.sum() if row.sum() != 0 else row for row in self.transmat_])\n",
    "        self.emissionprob_ = np.array([row / row.sum() if row.sum() != 0 else row for row in self.emissionprob_])\n",
    "\n",
    "        # het random kiezen van een toestand\n",
    "        current_state = np.random.choice(self.n_components, p=self.startprob_)\n",
    "        states.append(current_state)\n",
    "        \n",
    "        for _ in range(n_samples):\n",
    "            \n",
    "            # per stap wordt de emissie gegenereerd \n",
    "            emission = np.random.choice(self.n_features, p=self.emissionprob_[current_state])\n",
    "            emissions.append(emission)\n",
    "            \n",
    "            # De current states met de random kansen \n",
    "            current_state = np.random.choice(self.n_components, p=self.transmat_[current_state])\n",
    "            states.append(current_state)\n",
    "        \n",
    "        return emissions, states[:-1]  # Laatste toestand verwijderen om gelijke lengte te hebben\n",
    "\n",
    "# Kansverdelingen\n",
    "# kans per starttafel\n",
    "startprob = np.array([1/3, 1/3, 1/3])\n",
    "# kans naar welke tafel je gaat \n",
    "transmat = np.array([\n",
    "    [1/3, 1/3, 1/3],\n",
    "    [1/6, 1/3, 1/2],\n",
    "    [1/2, 1/6, 1/3],\n",
    "])\n",
    "# De kansen per kleur, in dit geval zijn dat er 4 \n",
    "emissionprob = np.array([\n",
    "    [1/2, 1/4, 1/12, 1/6],  \n",
    "    [1/6, 1/2, 1/6, 1/6],   \n",
    "    [1/12, 0, 1/2, 5/12],    \n",
    "])\n",
    "\n",
    "# Start het model \n",
    "model = HiddenMarkovModel(n_components=3, n_features=4)\n",
    "model.startprob_ = startprob # Aan welke tafel je begint, elke is 1/3 \n",
    "model.transmat_ = transmat # De kans om van de ene toestand naar een andere toestand te gaan \n",
    "model.emissionprob_ = emissionprob # De kans dat een bepaalde kleur/emissie waartenemen is in een specifieke toestand \n",
    "\n",
    "# Kies hoeveel samples je hebt \n",
    "emissions, states = model.sample(1200)\n",
    "\n",
    "\n",
    "print(\"All States:\", states)\n",
    "print(\"All Emissions:\", emissions)\n",
    "\n",
    "\n",
    "# Om een of andere reden is het me niet gelukt om het eerste gedeelte van deze code in een apparte hmmmodel.py file te stoppen. Daarom staat nu alles in de jupyter notebook "
   ]
  },
  {
   "cell_type": "markdown",
   "id": "0a939ddc",
   "metadata": {},
   "source": [
    "***\n",
    "\n",
    "&copy; 2024 - Dave R.M. Langers <d.r.m.langers@pl.hanze.nl>"
   ]
  }
 ],
 "metadata": {
  "kernelspec": {
   "display_name": "Python 3",
   "language": "python",
   "name": "python3"
  },
  "language_info": {
   "codemirror_mode": {
    "name": "ipython",
    "version": 3
   },
   "file_extension": ".py",
   "mimetype": "text/x-python",
   "name": "python",
   "nbconvert_exporter": "python",
   "pygments_lexer": "ipython3",
   "version": "3.11.0"
  },
  "varInspector": {
   "cols": {
    "lenName": 16,
    "lenType": 16,
    "lenVar": 40
   },
   "kernels_config": {
    "python": {
     "delete_cmd_postfix": "",
     "delete_cmd_prefix": "del ",
     "library": "var_list.py",
     "varRefreshCmd": "print(var_dic_list())"
    },
    "r": {
     "delete_cmd_postfix": ") ",
     "delete_cmd_prefix": "rm(",
     "library": "var_list.r",
     "varRefreshCmd": "cat(var_dic_list()) "
    }
   },
   "types_to_exclude": [
    "module",
    "function",
    "builtin_function_or_method",
    "instance",
    "_Feature"
   ],
   "window_display": false
  }
 },
 "nbformat": 4,
 "nbformat_minor": 5
}
