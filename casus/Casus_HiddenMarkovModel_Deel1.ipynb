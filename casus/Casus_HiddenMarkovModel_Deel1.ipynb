{
 "cells": [
  {
   "cell_type": "markdown",
   "id": "e7b20649",
   "metadata": {},
   "source": [
    "# <span id=\"0\">Casus *Hidden Markov Model* - Deel I</span>\n",
    "\n",
    "Inhoud:\n",
    "\n",
    "* **<a href=\"#1\">CpG-islands (CGIs)</a>**\n",
    "\n",
    "* **<a href=\"#2\">Hidden Markov Models</a>**\n",
    "\n",
    "* **<a href=\"#3\">CpG-eiland en non-CpG-eiland sequenties</a>**\n",
    "\n",
    "* **<a href=\"#4\">Toy-data</a>**\n",
    "\n",
    "* **<a href=\"#5\">Je eigen `HiddenMarkovModel` class</a>**"
   ]
  },
  {
   "cell_type": "code",
   "execution_count": 1,
   "id": "1785ba0d",
   "metadata": {},
   "outputs": [],
   "source": [
    "%matplotlib inline\n",
    "%reload_ext autoreload\n",
    "%autoreload 2\n",
    "\n",
    "from matplotlib import pyplot as plt\n",
    "import numpy as np"
   ]
  },
  {
   "cell_type": "markdown",
   "id": "faf96e45",
   "metadata": {},
   "source": [
    "<a id=\"1\" href=\"#0\" style=\"text-align: right; display: block;\">Terug naar boven</a>\n",
    "\n",
    "### CpG-islands (CGIs)\n",
    "\n",
    "CpG-eilandjes zijn elementen in het genoom die een grote invloed uitoefenen op de regulatie van genexpressie door DNA-methylatie. Hun rol in kankerontwikkeling door abnormale methylatie van tumorsuppressorgenen en oncogenen maakt het een doelwit voor diagnostische en therapeutische benaderingen. Begrip van de dynamiek van CpG-eilandjes biedt inzicht in de moleculaire mechanismen van kanker en mogelijkheden voor innovatieve behandelingsstrategieën.\n",
    "\n",
    "CpG-eilandjes zijn gebieden in het DNA die een hoge dichtheid hebben aan CpG-dinucleotiden, waarbij \"CpG\" staat voor een cytosine nucleotide (C) gevolgd door een guanine nucleotide (G) verbonden door een fosfaatgroep (p). Deze eilanden zijn meestal ongewoon rijk aan de CG-combinatie en bevatten vaak geen gemethyleerde cytosines, wat hen onderscheidt van de rest van het genoom waar CpG dinucleotiden vaak gemethyleerd zijn en daardoor minder frequent voorkomen. CpG-eilandjes komen vaak voor in of nabij de promotorregio's van genen, die de expressie van de corresponderende genen reguleren. Ze zijn typisch een paar honderd tot een paar duizend basenparen lang en hebben een GC-gehalte van meer dan 50%, met een CpG-dichtheid hoger dan wat gemiddeld is voor het genoom.\n",
    "\n",
    "CpG-eilandjes spelen een cruciale rol bij de regulatie van genexpressie via hun invloed op DNA-methylatie, een epigenetisch mechanisme. Dit proces voegt een methylgroep toe aan het cytosine-residu in CpG-dinucleotiden, meestal door de werking van DNA-methyltransferasen. In promotorregio's is methylatie vaak geassocieerd met gen-silencing omdat het de binding van transcriptiefactoren en andere noodzakelijke eiwitten voor genexpressie ontmoedigt. Omgekeerd kan het demethyleren van CpG-eilandjes de expressie van geassocieerde genen activeren, aangezien het de toegankelijkheid van transcriptiefactoren en RNA-polymerase vergroot.\n",
    "\n",
    "<img src=\"https://media.licdn.com/dms/image/D4D22AQEdqGnu8ZC80Q/feedshare-shrink_2048_1536/0/1684682580953?e=2147483647&v=beta&t=r6jlPalFOi_YDqJ_tBSPkdZRlvfakvmH1DVf9bnTTEk\" width=\"40%\" heigth=\"40%\" />\n",
    "\n",
    "De epigenetische modificatie van CpG-eilandjes speelt een belangrijke rol in kankerontwikkeling door abnormale genexpressie. In kankercellen worden CpG-eilandjes in de promotorregio's van tumorsuppressorgenen vaak hypergemethyleerd. Dit leidt tot silencing van deze genen, wat bijdraagt aan ongecontroleerde celgroei en proliferatie. Voorbeelden van tumorsuppressorgenen die vaak gehypermethyleerd zijn in kanker omvatten *p16INK4a* en *BRCA1*. Globale hypomethylatie van het genoom kan ook voorkomen in kankercellen, wat resulteert in genomische instabiliteit en de activatie van oncogenen. Dit draagt bij aan tumorvorming en -progressie.\n",
    "\n",
    "Abnormale methylatiepatronen van CpG-eilandjes kunnen dienen als biomarkers voor de vroege detectie en diagnose van kanker. Epigenetische therapieën, zoals DNA-methylatie-inhibitoren (bijv. azacitidine en decitabine), worden gebruikt om abnormale methylatie om te keren en de normale expressie van tumorsuppressorgenen te herstellen.\n",
    "\n",
    "Bekijk onderstaande inleidende video en schrijf er een samenvatting van. Zoek zo nodig zelf uitgebreidere achtergrondinformatie over onbekende onderwerpen en vermeld deze bronnen in je samenvatting als referenties. Neem onder andere de bijbehorende [Wikipedia](https://en.wikipedia.org/wiki/CpG_site) pagina door."
   ]
  },
  {
   "cell_type": "code",
   "execution_count": 2,
   "id": "a0e282c0",
   "metadata": {},
   "outputs": [
    {
     "data": {
      "text/html": [
       "<iframe width=\"560\" height=\"315\" src=\"https://www.youtube.com/embed/bc3wtVXyAXo\" title=\"YouTube video player\" frameborder=\"0\" allow=\"accelerometer; autoplay; clipboard-write; encrypted-media; gyroscope; picture-in-picture; web-share\" referrerpolicy=\"strict-origin-when-cross-origin\" allowfullscreen></iframe>\n"
      ],
      "text/plain": [
       "<IPython.core.display.HTML object>"
      ]
     },
     "metadata": {},
     "output_type": "display_data"
    }
   ],
   "source": [
    "%%html\n",
    "<iframe width=\"560\" height=\"315\" src=\"https://www.youtube.com/embed/bc3wtVXyAXo\" title=\"YouTube video player\" frameborder=\"0\" allow=\"accelerometer; autoplay; clipboard-write; encrypted-media; gyroscope; picture-in-picture; web-share\" referrerpolicy=\"strict-origin-when-cross-origin\" allowfullscreen></iframe>"
   ]
  },
  {
   "cell_type": "markdown",
   "id": "087f8740",
   "metadata": {},
   "source": [
    "# UITWERKING\n",
    "\n",
    "- CpG-eilanden zijn DNA-regio's met een hoge concentratie van cytosine (C) en guanine (G) nucleotiden en hun rol in genexpressie, \n",
    "X-chromosoom-inactivatie en kanker. \n",
    "\n",
    "### Belangrijke punten:  \n",
    "\n",
    "1. **CpG-plaatsen en mutaties:**  \n",
    "   - CpG-plaatsen ontstaan wanneer cytosines direct gevolgd worden door guanines in een 5'-naar-3'-richting.  \n",
    "   - In menselijke genomen verwacht men dat 6,25% van de DNA-sequenties CpG-plaatsen zijn, maar in werkelijkheid is dit slechts 1%, \n",
    "   door mutaties veroorzaakt door enzymatische processen.  \n",
    "   - **Uracil DNA glycosylase** herkent en verwijdert uracil (U) die ontstaat door deaminatie van ongemethyleerde cytosines.  \n",
    "   - Bij gemethyleerde cytosines, die worden omgezet in thymine (T), kan herstel alleen plaatsvinden via mismatchreparatie, een inefficiënt proces.\n",
    "   **Thymine DNA glycosylase (TDG)** vervangt thymine bij T-G mismatches, maar dit is vaak niet snel genoeg om mutaties te voorkomen.  \n",
    "\n",
    "2. **CpG-eilanden:**  \n",
    "   - CpG-eilanden zijn DNA-regio’s van minimaal 200 basenparen, met een GC-gehalte van meer dan 50% en een \n",
    "   CpG-verhouding van meer dan 60% van het verwachte aantal.  \n",
    "   - Deze eilanden zijn meestal ongemethyleerd en worden vaak gevonden bij promoters van actieve genen, zoals housekeeping-genen. \n",
    "   Ongeveer 70% van de menselijke promoters bevinden zich in CpG-eilanden.  \n",
    "\n",
    "3. **Methylatie en ontwikkeling:**  \n",
    "   - Tijdens de vroege embryonale ontwikkeling (blastocyststadium) blijven promoters van actieve genen ongemethyleerd ondanks de \n",
    "   golven van **de novo methylatie** die door **DNA methyltransferases** worden uitgevoerd.  \n",
    "   - Bij vrouwelijke zoogdieren wordt één van de twee X-chromosomen geïnactiveerd door methylatie van CpG-eilanden, waardoor\n",
    "   genexpressie van dat chromosoom wordt gestopt.  \n",
    "\n",
    "4. **Rol in kanker:**  \n",
    "   - Hyper-methylatie van CpG-eilanden in promoters komt 10 keer vaker voor dan mutaties en kan leiden tot genstillegging.  \n",
    "   - Stilgelegde DNA-reparatiegenen door hyper-methylatie verhogen het risico op kanker aanzienlijk. Veel van deze methylatieverschillen\n",
    "   komen voor bij **CpG-eilandkusten**, gebieden net buiten de CpG-eilanden zelf.  \n",
    "\n",
    "5. **CpG-eilanden als promoters:**  \n",
    "   - Door hun hoge GC-gehalte en ongemethyleerde toestand binden transcriptiefactoren makkelijker aan CpG-eilanden.  \n",
    "   - Deze eilanden hebben unieke chromatinestructuren met hoge niveaus van H3- en H4-histon-acetylatie, kenmerkend voor transcriptioneel actieve chromatine.  \n",
    "\n"
   ]
  },
  {
   "cell_type": "markdown",
   "id": "6aba98f2",
   "metadata": {},
   "source": [
    "# <a id=\"2\" href=\"#0\" style=\"text-align: right; display: block;\">Terug naar boven</a>\n",
    "\n",
    "### Hidden Markov Models\n",
    "\n",
    "CpG-eilandjes kunnen worden gedetecteerd met behulp van verschillende computationele methoden, waarvan een van de meest effectieve methoden het gebruik van Hidden Markov Models (HMMs) is.\n",
    "\n",
    "Een Hidden Markov Model is een krachtig hulpmiddel voor het modelleren van tijdreeksen en sequentiële data waarin de werkelijke toestanden niet direct zichtbaar zijn, maar waar de uitkomsten afhankelijk zijn van deze toestanden. HMMs maken gebruik van probabilistische berekeningen om te schatten welke verborgen toestanden het meest waarschijnlijk zijn gegeven de waargenomen data, wat ze tot een waardevol instrument maakt in een breed scala aan toepassingen. HMMs worden breed toegepast in verschillende domeinen van de bioinformatica, maar ook bijvoorbeeld in spraakherkenning en natuurlijke taalverwerking of financiële modellering van markttendensen.\n",
    "\n",
    "Hidden Markov Models zijn zeer geschikt voor de detectie van CpG-eilandjes vanwege hun vermogen om sequenties te modelleren en patronen te herkennen in biologische data. In het kader van CpG-eilandjes vormen de verschillende nucleotiden in het DNA de waargenomen data, en is de aanwezigheid van een CpG-eiland, al dan niet, de verborgen toestand. Door het toepassen van HMMs kunnen wetenschappers efficiënt de locatie van CpG-eilandjes bepalen, wat waardevolle inzichten biedt in genregulatie en kankeronderzoek.\n",
    "\n",
    "<img src=\"https://www.researchgate.net/profile/Tomer-Toledo/publication/245563174/figure/fig1/AS:669081116094471@1536532777801/State-transition-diagram-of-a-hidden-Markov-model.png\" width=\"40%\" height=\"40%\" />\n",
    "\n",
    "Een HMM wordt gekarakteriseerd door de volgende eigenschappen:\n",
    "\n",
    "* **Toestanden / States** Een gegeven aantal verschillende verborgen interne toestanden waarin een geobserveerd systeem zich kan bevinden. In de context van CpG-eilandjesdetectie kunnen de toestanden bijvoorbeeld \"in een CpG-eiland\" en \"buiten een CpG-eiland\" zijn.\n",
    "\n",
    "* **Overgangswaarschijnlijkheden / Transition probabilities** De kans dat het systeem van de ene toestand naar de andere overgaat. Bijvoorbeeld, de kansen om van \"buiten een CpG-eiland\" naar \"in een CpG-eiland\" te veranderen, en omgekeerd, of de kansen om binnen dezelfde toestand te blijven.\n",
    "\n",
    "* **Emissiekansen / Emission probabilities** De kans om een bepaalde uitkomst te observeren vanuit een gegeven toestand. Voor CpG-eilandjes zijn dit de kansen van het voorkomen van verschillende nucleotiden (A, T, C, G) zowel in als buiten de eilandjes.\n",
    "\n",
    "* **Begintoestandsverdeling / Start probabilities** De initiële waarschijnlijkheden dat het systeem dat zich in een bepaalde toestand bevindt. Een DNA-sequentie kan met zekere kans beginnen met een CpG-eilandje, of niet.\n",
    "\n",
    "Een HMM maakt, net als elk model, diverse aannamen die de analyse van gegevens vereenvoudigen. De belangrijkste aannamen van een HMM zijn dat (1) het waargenomen systeem zich alléén in een discreet (d.w.z. eindig) aantal verschillende toestanden kan bevinden die variëren in de loop van de reeks, (2) dat de waarnemingen die aan het systeem gedaan worden alléén afhangen van de huidige toestand van het systeem, en (3) dat de kansverdeling omtrent wat de toestand van het systeem op een volgend moment gaat zijn alléén afhangt van wat de toestand van het systeem op een voorgaand moment was.\n",
    "\n",
    "De toestand van het systeem is zelf niet rechtstreeks waarneembaar; wel waarneembaar zijn de emissies die afhangen van de toestand. De meestgestelde vraag die een HMM kan proberen te beantwoorden is: \"gegeven een serie waarnemingen, wat waren de meest waarschijnlijke onderliggende toestanden van het systeem\"? Bijvoorbeeld, in ons geval: \"gegeven een nucleotidesequentie, welke delen vallen in een CpG-eiland en welke vallen erbuiten\"?\n",
    "\n",
    "Bekijk onderstaande inleidende video en schrijf er een samenvatting van. Zoek zo nodig zelf uitgebreidere achtergrondinformatie over onbekende onderwerpen en vermeld deze bronnen in je samenvatting als referenties. Neem onder andere de bijbehorende [Wikipedia](https://en.wikipedia.org/wiki/Hidden_Markov_model) pagina door."
   ]
  },
  {
   "cell_type": "code",
   "execution_count": 4,
   "id": "817ba0c0",
   "metadata": {
    "scrolled": true
   },
   "outputs": [
    {
     "data": {
      "text/html": [
       "<iframe width=\"560\" height=\"315\" src=\"https://www.youtube.com/embed/fX5bYmnHqqE\" title=\"YouTube video player\" frameborder=\"0\" allow=\"accelerometer; autoplay; clipboard-write; encrypted-media; gyroscope; picture-in-picture; web-share\" referrerpolicy=\"strict-origin-when-cross-origin\" allowfullscreen></iframe>\n"
      ],
      "text/plain": [
       "<IPython.core.display.HTML object>"
      ]
     },
     "metadata": {},
     "output_type": "display_data"
    }
   ],
   "source": [
    "%%html\n",
    "<iframe width=\"560\" height=\"315\" src=\"https://www.youtube.com/embed/fX5bYmnHqqE\" title=\"YouTube video player\" frameborder=\"0\" allow=\"accelerometer; autoplay; clipboard-write; encrypted-media; gyroscope; picture-in-picture; web-share\" referrerpolicy=\"strict-origin-when-cross-origin\" allowfullscreen></iframe>"
   ]
  },
  {
   "cell_type": "markdown",
   "id": "6f0e1f36",
   "metadata": {},
   "source": [
    "# UITWERKING\n",
    "\n",
    "#### Example Scenario\n",
    "\n",
    "Imagine you're taking a university course, and your professor has one of two moods each day: **happy** or **sad**. The professor's mood on any given day depends only on their mood on the **previous day** (the Markov property).\n",
    "\n",
    "There are two types of probabilities that describe the model's behavior:\n",
    "\n",
    "1. **Transition Probabilities**:  \n",
    "   If the professor is happy on day \\( t-1 \\):\n",
    "   $$\n",
    "   P(\\text{happy on day } t \\mid \\text{happy on day } t-1) = 0.7\n",
    "   $$\n",
    "   $$\n",
    "   P(\\text{sad on day } t \\mid \\text{happy on day } t-1) = 0.3\n",
    "   $$\n",
    "\n",
    "   If the professor is sad on day \\( t-1 \\):\n",
    "   $$\n",
    "   P(\\text{happy on day } t \\mid \\text{sad on day } t-1) = 0.5\n",
    "   $$\n",
    "   $$\n",
    "   P(\\text{sad on day } t \\mid \\text{sad on day } t-1) = 0.5\n",
    "   $$\n",
    "\n",
    "2. **Emission Probabilities**:  \n",
    "   The professor wears a shirt in one of three colors: red, green, or blue. The probability of wearing a specific color depends on their mood:\n",
    "   - **Happy:**\n",
    "     $$\n",
    "     P(\\text{red} \\mid \\text{happy}) = 0.8, \\quad P(\\text{green} \\mid \\text{happy}) = 0.1, \\quad P(\\text{blue} \\mid \\text{happy}) = 0.1\n",
    "     $$\n",
    "\n",
    "   - **Sad:**\n",
    "     $$\n",
    "     P(\\text{red} \\mid \\text{sad}) = 0.2, \\quad P(\\text{green} \\mid \\text{sad}) = 0.3, \\quad P(\\text{blue} \\mid \\text{sad}) = 0.5\n",
    "     $$\n",
    "\n",
    "---\n",
    "\n",
    "#### Observations and Hidden States\n",
    "\n",
    "- **Hidden states**: The professor's mood: happy/sad\n",
    "- **Observed states**: The shirt color: red/green/blue\n",
    "\n",
    "---\n",
    "\n",
    "#### Problem Statement\n",
    "\n",
    "After three days, you observe the shirt colors:\n",
    "- Day 1: green\n",
    "- Day 2: blue\n",
    "- Day 3: red\n",
    "\n",
    "**Question**: What are the most likely moods of the professor on these days, based on the transition and emission probabilities?\n",
    "\n",
    "---\n",
    "\n",
    "#### Model Calculations\n",
    "\n",
    "The solution involves **maximizing** the joint probability of:\n",
    "1. The observed states (shirt colors).\n",
    "2. The hidden states (moods).\n",
    "\n",
    "##### Simplifying with Assumptions\n",
    "\n",
    "1. **Markov Property**:  \n",
    "   $$\n",
    "   P(\\text{Mood}_t \\mid \\text{Mood}_{t-1}, \\dots, \\text{Mood}_0) = P(\\text{Mood}_t \\mid \\text{Mood}_{t-1})\n",
    "   $$\n",
    "\n",
    "2. **Independent Emissions**:  \n",
    "   $$\n",
    "   P(\\text{Shirt Color}_t \\mid \\text{Mood}_t, \\dots, \\text{Mood}_0) = P(\\text{Shirt Color}_t \\mid \\text{Mood}_t)\n",
    "   $$\n",
    "\n",
    "These assumptions simplify the complex joint probability into a product of terms that can be calculated separately:\n",
    "\n",
    "- **Transition probabilities**:  \n",
    "  $$\n",
    "  P(\\text{happy on day } 2 \\mid \\text{happy on day } 1) = 0.7\n",
    "  $$\n",
    "\n",
    "- **Emission probabilities**:  \n",
    "  $$\n",
    "  P(\\text{green shirt} \\mid \\text{happy}) = 0.1\n",
    "  $$\n",
    "\n",
    "By computing all possible mood combinations (\\( 2^3 = 8 \\)), we identify the sequence of moods that maximizes the probability of the observations.\n",
    "- Transition probabilities tell you how likely it is for the professor to move from one mood to another.\n",
    "- Emission probabilities tell you how likely it is for the professor to wear a specific shirt color given their mood.\n",
    "- The joint probability combines these factors to help predict the most likely sequence of hidden states (moods) given the observations (shirt colors).\n",
    "\n",
    "---\n",
    "\n",
    "#### Applications of HMM\n",
    "\n",
    "1. **Natural Language Processing**:  \n",
    "   - Example: Assigning parts of speech (e.g., verb or noun) to words in a sentence.  \n",
    "   - Observed states: words.  \n",
    "   - Hidden states: grammatical categories.\n",
    "\n",
    "2. **Speech Recognition**:  \n",
    "   - HMM is used to map spoken words to hidden phonemes.\n",
    "\n"
   ]
  },
  {
   "cell_type": "markdown",
   "id": "c0a06ea3",
   "metadata": {},
   "source": [
    "<a id=\"3\" href=\"#0\" style=\"text-align: right; display: block;\">Terug naar boven</a>\n",
    "\n",
    "### CpG-eiland en non-CpG-eiland sequenties\n",
    "\n",
    "De onderstaande tabellen geven de experimentele waarschijnlijkheden aan dat een zekere nucleotide (in de rijen) gevolg wordt door een zekere andere nucleotide (in de kolommen) binnen en buiten CpG-eilanden.\n",
    "\n",
    "Bron: \"Biological sequence analysis - Probabilistic models of proteins and nucleic acids\", Durbin et al. (1998), hoofdstuk 3, p50-51 ([ref](http://www.mcb111.org/w06/durbin_book.pdf)).\n",
    "\n",
    "*CGI* (`+`)\n",
    "\n",
    "|  `+`  |   A   |   C   |   G   |   T   |\n",
    "| :---: | :---: | :---: | :---: | :---: |\n",
    "| **A** | 0.180 | 0.274 | 0.426 | 0.120 |\n",
    "| **C** | 0.171 | 0.368 | 0.274 | 0.188 |\n",
    "| **T** | 0.161 | 0.339 | 0.375 | 0.125 |\n",
    "| **G** | 0.079 | 0.355 | 0.384 | 0.182 |\n",
    "\n",
    "*non-CGI* (`-`)\n",
    "\n",
    "|  `-`  |   A   |   C   |   G   |   T   |\n",
    "| :---: | :---: | :---: | :---: | :---: |\n",
    "| **A** | 0.300 | 0.205 | 0.285 | 0.210 |\n",
    "| **C** | 0.322 | 0.298 | 0.078 | 0.302 |\n",
    "| **G** | 0.248 | 0.246 | 0.298 | 0.208 |\n",
    "| **T** | 0.177 | 0.239 | 0.292 | 0.292 |\n",
    "\n",
    "Bijvoorbeeld, de kans dat een gegeven C gevolgd wordt door een G is slechts 7.8 % buiten een CpG-eilandje, maar neemt toe tot maar liefst 27.4 % binnen een CpG-eilandje, hetgeen benadrukt hoe sterk CpG-dinucleotiden relatief oververtegenwoordigd zijn binnen CpG-eilandjes. Ga na dat de som van de kansen in elke rij van de tabel moet sommeren tot 100% (op afrondfouten na).\n",
    "\n",
    "Genereer met python-code een willekeurige sequentie van 300 baseparen lengte overeenkomend met een CpG-eiland en een soortgelijke sequentie van een non-CpG-eiland. Kies telkens het eerste nucleotide willekeurig, en gebruik dan de bovenstaande overgangswaarschijnlijkheden om de sequentie te verlengen. Bepaal van de gegenereerde complete sequenties de kansen op elk nucleotide ($P_A, P_C, P_G, P_T$) evenals de kansen op elk dinucleotide ($P_{AA}, P_{AC}, \\ldots, P_{TT}$). Bepaal voor elk dinucleotide ook de ratios $r$ tussen de waargenomen en de verwachte kans, zoals\n",
    "\n",
    "$$\n",
    "r_{AC} = \\frac{P_{AC}}{P_A \\cdot P_C}\n",
    "$$\n",
    "\n",
    "Wat kun je verhoudingsgewijs zeggen over hoe vaak C en G afzonderlijk voorkomen, en hoe vaak het CpG-dinucleotide voorkomt? Welke combinaties van nucleotiden zijn het sterkst over- of ondergerepresenteerd?"
   ]
  },
  {
   "cell_type": "code",
   "execution_count": 32,
   "id": "fe7d4f58",
   "metadata": {},
   "outputs": [
    {
     "ename": "KeyError",
     "evalue": "0",
     "output_type": "error",
     "traceback": [
      "\u001b[0;31m---------------------------------------------------------------------------\u001b[0m",
      "\u001b[0;31mKeyError\u001b[0m                                  Traceback (most recent call last)",
      "Cell \u001b[0;32mIn [32], line 33\u001b[0m\n\u001b[1;32m     31\u001b[0m \u001b[38;5;66;03m# Genereer sequenties\u001b[39;00m\n\u001b[1;32m     32\u001b[0m length \u001b[38;5;241m=\u001b[39m \u001b[38;5;241m300\u001b[39m\n\u001b[0;32m---> 33\u001b[0m sequence_cpg \u001b[38;5;241m=\u001b[39m \u001b[43mgenerate_sequence\u001b[49m\u001b[43m(\u001b[49m\u001b[43mlength\u001b[49m\u001b[43m,\u001b[49m\u001b[43m \u001b[49m\u001b[43mprob_cpg\u001b[49m\u001b[43m)\u001b[49m\n\u001b[1;32m     34\u001b[0m sequence_noncpg \u001b[38;5;241m=\u001b[39m generate_sequence(length, prob_noncpg)\n\u001b[1;32m     36\u001b[0m \u001b[38;5;28mprint\u001b[39m(\u001b[38;5;124m\"\u001b[39m\u001b[38;5;124mCpG-eiland sequentie:\u001b[39m\u001b[38;5;124m\"\u001b[39m)\n",
      "Cell \u001b[0;32mIn [32], line 26\u001b[0m, in \u001b[0;36mgenerate_sequence\u001b[0;34m(length, transition_matrix)\u001b[0m\n\u001b[1;32m     24\u001b[0m \u001b[38;5;28;01mfor\u001b[39;00m i \u001b[38;5;129;01min\u001b[39;00m \u001b[38;5;28mrange\u001b[39m(length \u001b[38;5;241m-\u001b[39m \u001b[38;5;241m1\u001b[39m):\n\u001b[1;32m     25\u001b[0m     current \u001b[38;5;241m=\u001b[39m sequence[\u001b[38;5;241m-\u001b[39m\u001b[38;5;241m1\u001b[39m]\n\u001b[0;32m---> 26\u001b[0m     weights \u001b[38;5;241m=\u001b[39m \u001b[43mtransition_matrix\u001b[49m\u001b[43m[\u001b[49m\u001b[43mi\u001b[49m\u001b[43m]\u001b[49m\n\u001b[1;32m     27\u001b[0m     sequence\u001b[38;5;241m.\u001b[39mappend(np\u001b[38;5;241m.\u001b[39mrandom\u001b[38;5;241m.\u001b[39mchoice(nucleotides, p\u001b[38;5;241m=\u001b[39mweights \u001b[38;5;241m/\u001b[39m np\u001b[38;5;241m.\u001b[39msum(weights)))\n\u001b[1;32m     29\u001b[0m \u001b[38;5;28;01mreturn\u001b[39;00m \u001b[38;5;124m'\u001b[39m\u001b[38;5;124m'\u001b[39m\u001b[38;5;241m.\u001b[39mjoin(sequence)\n",
      "\u001b[0;31mKeyError\u001b[0m: 0"
     ]
    }
   ],
   "source": [
    "# UITWERKING\n",
    "\n",
    "import numpy as np\n",
    "\n",
    "prob_cpg = {\n",
    "    'A': [0.180, 0.274, 0.426, 0.120],\n",
    "    'C': [0.171, 0.368, 0.274, 0.188],\n",
    "    'G': [0.079, 0.355, 0.384, 0.182],\n",
    "    'T': [0.161, 0.339, 0.375, 0.125],\n",
    "}\n",
    "prob_noncpg = {\n",
    "    'A': [0.300, 0.205, 0.285, 0.210],\n",
    "    'C': [0.322, 0.298, 0.078, 0.302],\n",
    "    'G': [0.248, 0.246, 0.298, 0.208],\n",
    "    'T': [0.177, 0.239, 0.292, 0.292],\n",
    "}\n",
    "\n",
    "def generate_sequence(length, transition_matrix):\n",
    "    nucleotides = ['A', 'C', 'G', 'T']\n",
    "    sequence = [np.random.choice(nucleotides)] \n",
    "    \n",
    "    for i in range(length - 1):\n",
    "        current = sequence[-1]\n",
    "        weights = transition_matrix[i]\n",
    "        sequence.append(np.random.choice(nucleotides, p=weights / np.sum(weights)))\n",
    "    \n",
    "    return ''.join(sequence)\n",
    "\n",
    "length = 300\n",
    "sequence_cpg = generate_sequence(length, prob_cpg)\n",
    "sequence_noncpg = generate_sequence(length, prob_noncpg)\n",
    "\n",
    "print(\"CpG-eiland sequentie:\")\n",
    "print(sequence_cpg)\n",
    "print(\"\\nNon-CpG-eiland sequentie:\")\n",
    "print(sequence_noncpg)\n"
   ]
  },
  {
   "cell_type": "markdown",
   "id": "667aed08",
   "metadata": {},
   "source": [
    "<a id=\"4\" href=\"#0\" style=\"text-align: right; display: block;\">Terug naar boven</a>\n",
    "\n",
    "### Toy-data\n",
    "\n",
    "Gegeven zijn drie tafels (overeenkomend met toestanden) die elk een grabbelton bevatten waaruit gekleurde knikkers kunnen worden getrokken (emissies) en met elk een dobbelsteen die bepaalt naar welke volgende tafel je gaat (overgangswaarschijnlijkheden).\n",
    "\n",
    "| Tafel: |  ❶  |  ❷  |  ❸  |\n",
    "| -----: | :-: | :-: | :-: |\n",
    "| **Grabbelton:** | 6x blauw | 2x blauw | 1x blauw |\n",
    "|                 | 3x geel  | 6x geel  | 0x geel  | \n",
    "|                 | 1x groen | 2x groen | 6x groen |\n",
    "|                 | 2x rood  | 2x rood  | 5x rood  |\n",
    "| **Dobbelsteen:** | ⚀→① | ⚀→① | ⚀→① |\n",
    "|                  | ⚁→② | ⚁→② | ⚁→① |\n",
    "|                  | ⚂→② | ⚂→② | ⚂→① |\n",
    "|                  | ⚃→② | ⚃→③ | ⚃→① |\n",
    "|                  | ⚄→③ | ⚄→③ | ⚄→② |\n",
    "|                  | ⚅→③ | ⚅→③ | ⚅→③ |\n",
    "\n",
    "Beginnend bij een willekeurige tafel, trek individueel een knikker en noteer de kleur samen met het nummer van de tafel. Gebruik de dobbelsteen om te bepalen naar welke volgende tafel je gaat. Herhaal dit tot je ongeveer een dertigtal waarnemingen hebt gegenereerd en je weer precies terug bent gekomen bij de tafel waar je was begonnen.\n",
    "\n",
    "Bijvoorbeeld:\n",
    "| **Beurt:** | 1     | 2     | 3     | 4     | 5     | 6     | 7     | ... | 30    |\n",
    "| ---------: | :---: | :---: | :---: | :---: | :---: | :---: | :---: | :-: | :---: |\n",
    "| **Tafel:** | ❷     | ❸     | ❶     | ❸     | ❷     | ❷     | ❶     | ... | ❸     |\n",
    "| **Kleur:** | geel  | groen | blauw | rood  | groen | geel  | blauw | ... | rood  |\n",
    "| **Worp:**  | ⚃     | ⚀     | ⚄     | ⚄     | ⚂     | ⚀     | ⚂     | ... | ⚄     |\n",
    "\n",
    "Naast het bepalen van je eigen sequentie, combineer de waarnemingen van al je klasgenoten tot één lange sequentie."
   ]
  },
  {
   "cell_type": "markdown",
   "id": "ad5a1444",
   "metadata": {},
   "source": [
    "<a id=\"5\" href=\"#0\" style=\"text-align: right; display: block;\">Terug naar boven</a>\n",
    "\n",
    "### Je eigen `HiddenMarkovModel` class\n",
    "\n",
    "Maak een eigen module-bestand genaamd `hmmmodel.py` aan en definieer daarin een klasse `HiddenMarkovModel`. Deze klasse dient een begintoestandsverdeling, overgangswaarschijnlijkheden, en emissiekansen te kunnen bevatten. De klasse dient verder een methode `sample()` te hebben die het mogelijk maakt om een gevraagd aantal waarnemingen te genereren op basis van een gegeven Hidden Markov Model. Voeg implementaties van een aantal standaard dunder-methoden toe (`__init__()`, `__str__()`, `__repr__()`).\n",
    "\n",
    "Implementeer de functionaliteit van je eigen module zodanig dat deze grotendeels compatibel is met de `CategoricalHMM` klasse van de `hmmlearn` module waarvan je de documentatie [online](https://hmmlearn.readthedocs.io/en/latest/api.html#categoricalhmm) kan vinden. Deze module zit niet in de standaard library van python en dien je zelf wellicht nog te installeren. Merk op dat niet alle functionaliteit uit deze klasse hoeft te worden geïmplementeerd. Vooralsnog gaat het voornamelijk om initialisatie en de `sample()` methode. Later voegen we nog meer methoden aan je klasse toe.\n",
    "\n",
    "Gebruik je eigen module om sequenties van 1200 toestanden en bijbehorende waarnemingen te genereren voor de eerdere toy-data. De tafelnummers zijn daarin de toestanden en de kleuren knikkers zijn de emissies. Dit zou moeten kunnen met code zoals hieronder.\n",
    "\n",
    "```python\n",
    "from hmmmodel import HiddenMarkovModel as HMM\n",
    "model = HMM(n_components=..., n_features=...)\n",
    "model.startprob_ = ...\n",
    "model.transmat_ = ...\n",
    "model.emissionprob_ = ...\n",
    "emissions, states = model.sample(1200)\n",
    "print(model)\n",
    "```\n",
    "\n",
    "Toon histogrammen van de toestanden en emissies voor al deze sequenties, en schat *op basis van de gegenereerde sequentie* de overgangswaarschijnlijkheden en emissiekansen. Ga na of deze goed overeenkomen met de instellingen van het Hidden Markov Model.\n",
    "\n",
    "Vergelijk tenslotte of je eigen klasse soortgelijke resultaten geeft als `hmmlearn.hmm.CategoricalHMM` (d.w.z. met soortgelijke code als hierboven, maar met `from hmmlearn.hmm import CategoricalHMM as HMM`)."
   ]
  },
  {
   "cell_type": "code",
   "execution_count": 7,
   "id": "d50f1198",
   "metadata": {},
   "outputs": [
    {
     "name": "stdout",
     "output_type": "stream",
     "text": [
      "HiddenMarkovModel(n_components=3, n_features=4)\n",
      "States    : [0 1 1 0 1 2 2 1 1 2 0 2 0 1 2 0 2 1 1 2 0 0 2 0 1 2 0 2 0 2 1 1 2 0 1 2] ...\n",
      "Emissions : [0 2 1 0 0 3 2 1 2 2 1 0 0 1 2 1 2 1 1 3 3 1 3 0 1 2 3 2 0 2 1 1 2 0 3 3] ...\n"
     ]
    },
    {
     "data": {
      "image/png": "[encoded data removed]",
      "text/plain": [
       "<Figure size 640x200 with 2 Axes>"
      ]
     },
     "metadata": {},
     "output_type": "display_data"
    },
    {
     "data": {
      "image/png": "[encoded data removed]",
      "text/plain": [
       "<Figure size 640x200 with 4 Axes>"
      ]
     },
     "metadata": {},
     "output_type": "display_data"
    },
    {
     "data": {
      "image/png": "[encoded data removed]",
      "text/plain": [
       "<Figure size 640x200 with 4 Axes>"
      ]
     },
     "metadata": {},
     "output_type": "display_data"
    }
   ],
   "source": [
    "# UITWERKING\n",
    "\n"
   ]
  },
  {
   "cell_type": "markdown",
   "id": "c1249ea8",
   "metadata": {},
   "source": [
    "***\n",
    "\n",
    "&copy; 2024 - Dave R.M. Langers <d.r.m.langers@pl.hanze.nl>"
   ]
  }
 ],
 "metadata": {
  "kernelspec": {
   "display_name": "Python 3 (ipykernel)",
   "language": "python",
   "name": "python3"
  },
  "language_info": {
   "codemirror_mode": {
    "name": "ipython",
    "version": 3
   },
   "file_extension": ".py",
   "mimetype": "text/x-python",
   "name": "python",
   "nbconvert_exporter": "python",
   "pygments_lexer": "ipython3",
   "version": "3.11.2"
  },
  "varInspector": {
   "cols": {
    "lenName": 16,
    "lenType": 16,
    "lenVar": 40
   },
   "kernels_config": {
    "python": {
     "delete_cmd_postfix": "",
     "delete_cmd_prefix": "del ",
     "library": "var_list.py",
     "varRefreshCmd": "print(var_dic_list())"
    },
    "r": {
     "delete_cmd_postfix": ") ",
     "delete_cmd_prefix": "rm(",
     "library": "var_list.r",
     "varRefreshCmd": "cat(var_dic_list()) "
    }
   },
   "types_to_exclude": [
    "module",
    "function",
    "builtin_function_or_method",
    "instance",
    "_Feature"
   ],
   "window_display": false
  }
 },
 "nbformat": 4,
 "nbformat_minor": 5
}
