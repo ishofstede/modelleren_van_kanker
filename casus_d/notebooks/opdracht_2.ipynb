{
 "cells": [
  {
   "cell_type": "markdown",
   "metadata": {},
   "source": [
    "# Deel 1 Exploratory data analysis"
   ]
  },
  {
   "cell_type": "markdown",
   "metadata": {},
   "source": [
    "### Achtergrond"
   ]
  },
  {
   "cell_type": "markdown",
   "metadata": {},
   "source": [
    "We gaan werken aan het opsporen van Invasief ductaal carcinoom (Invasive ductal carcinoma, IDC). De oorspronkelijke dataset bestond uit 279 scans van borsten met en dergelijk carcicoom. Van deze oorspronkelijke data zijn 277.524 uitsneden gemaakt: 198.738 IDC-negatief and 78.786 IDC positief. Elke patiënt heeft z'n eigen directory die genoemd is naar het patiëntnummer. In deze directories vind je telkens weer twee andere directories: 0 en 1 met hierin de uiteindelijke uitsneden. De namen van al deze plaatjes hebben hetzelfde algemene formaat:\n",
    "\n",
    "<patiennr>_idx5_<x-coord>_<y_coord>_class[01].png\n",
    "\n",
    "De uitsneden die in de klasse 0 zitten betreffen gezond weefsel, de uitsneden in de directory 1 bevatten (delen van) tumoren. De bedoeling van deze opdracht is om een netwerk te creëren dat in staat is het gezonde van het ongezonde weefsteld te onderscheiden."
   ]
  },
  {
   "cell_type": "markdown",
   "metadata": {},
   "source": [
    "### Laad Libraries "
   ]
  },
  {
   "cell_type": "code",
   "execution_count": 1,
   "metadata": {},
   "outputs": [],
   "source": [
    "# Voor mappenbeheer\n",
    "import os \n",
    "# Voor machine learning\n",
    "import tensorflow as tf \n",
    "from keras.utils import to_categorical\n",
    "from sklearn.model_selection import train_test_split\n",
    "# Voor visualisaties\n",
    "import matplotlib.pyplot as plt  \n",
    "# Voor datamanipulatie\n",
    "import numpy as np  \n",
    "import shutil\n",
    "import random\n",
    "# Voor laden en bewerken van afbeeldingen\n",
    "from PIL import Image "
   ]
  },
  {
   "cell_type": "markdown",
   "metadata": {},
   "source": [
    "### Laad de dataset"
   ]
  },
  {
   "cell_type": "markdown",
   "metadata": {},
   "source": [
    "We checken eerst het aantal patienten waar we mee werken:"
   ]
  },
  {
   "cell_type": "code",
   "execution_count": null,
   "metadata": {},
   "outputs": [],
   "source": [
    "data_path = \"../data/idc_regular\"\n",
    "# Controleer aantal patiënten\n",
    "patient_dirs = [d for d in os.listdir(data_path) if os.path.isdir(os.path.join(data_path, d))]\n",
    "print(f\"Aantal patiënten: {len(patient_dirs)}\")"
   ]
  },
  {
   "cell_type": "markdown",
   "metadata": {},
   "source": [
    "Er zijn inderdaad 279 directories aanwezig. We kiezen eerst 1 patient om de structuur van de data te bekijken. We gebruiken de library PIL met de module Image om RGB afbeeldingen (kleurenafbeeldingen) te openen en zetten het gelijk om in een array:"
   ]
  },
  {
   "cell_type": "code",
   "execution_count": null,
   "metadata": {},
   "outputs": [],
   "source": [
    "# Stel patiënt ID in\n",
    "patient_id = '../data/idc_regular/8863'\n",
    "\n",
    "# Lijsten voor positieve en negatieve afbeeldingen\n",
    "imgs_positive = []\n",
    "imgs_negative = []\n",
    "\n",
    "# Vul de lijsten met bestanden\n",
    "imgs_negative.extend(os.listdir(f'{patient_id}/0/'))\n",
    "imgs_positive.extend(os.listdir(f'{patient_id}/1/'))\n",
    "\n",
    "# Kies een willekeurige positieve afbeelding\n",
    "idx = np.random.choice(len(imgs_positive))\n",
    "img = Image.open(f'{patient_id}/1/{imgs_positive[idx]}') \n",
    "\n",
    "# Toon details van de afbeelding\n",
    "print(img.format)\n",
    "print(img.size)\n",
    "print(img.mode)\n",
    "\n",
    "# Zet afbeelding om naar een numpy-array en toon de vorm\n",
    "print(np.asarray(img).shape)"
   ]
  },
  {
   "cell_type": "markdown",
   "metadata": {},
   "source": [
    "De output is PNG (50, 50) en RGB (50, 50, 3). De eerste twee values zijn hoogte en breedte en de derde input zijn de kleurkanalen. Er staat dus  (50 pixels, 50 pixels, [rood, blauw, groen]). Laaten we voor deze ene patient kijken hoeveel afbeeldingen er in elke map zitten en wat de maximale en minimale pixelwaardes zijn:"
   ]
  },
  {
   "cell_type": "code",
   "execution_count": null,
   "metadata": {},
   "outputs": [],
   "source": [
    "# Stel patiënt ID in\n",
    "patient_id = '../data/idc_regular/8863'  # Specifieke patiëntenmap\n",
    "\n",
    "# Lijsten voor positieve en negatieve afbeeldingen\n",
    "imgs_positive = []\n",
    "imgs_negative = []\n",
    "\n",
    "# Vul de lijsten met bestanden\n",
    "imgs_negative.extend(os.listdir(f'{patient_id}/0/'))\n",
    "imgs_positive.extend(os.listdir(f'{patient_id}/1/'))\n",
    "\n",
    "# Check hoeveel afbeeldingen er zijn\n",
    "print(f\"Aantal afbeeldingen in map 0 (gezond weefsel): {len(imgs_negative)}\")\n",
    "print(f\"Aantal afbeeldingen in map 1 (ongezond weefsel): {len(imgs_positive)}\")\n",
    "\n",
    "# Kies een willekeurige positieve afbeelding en controleer\n",
    "idx = np.random.choice(len(imgs_positive))\n",
    "img = Image.open(f'{patient_id}/1/{imgs_positive[idx]}') \n",
    "\n",
    "# Zet afbeelding om naar een numpy-array en toon minimale en maximale waarden\n",
    "img_array = np.asarray(img)\n",
    "print(f\"Minimale pixelwaarde: {np.min(img_array)}\")\n",
    "print(f\"Maximale pixelwaarde: {np.max(img_array)}\")"
   ]
  },
  {
   "cell_type": "markdown",
   "metadata": {},
   "source": [
    "Er zit bij patient 8863 significant minder ongezond weefsel dan gezond weefsel. Dit kan misschien een trend zijn voor elke patient. "
   ]
  },
  {
   "cell_type": "markdown",
   "metadata": {},
   "source": [
    "### Missende waarden"
   ]
  },
  {
   "cell_type": "markdown",
   "metadata": {},
   "source": [
    "Sinds de dataset zo groot is, laten we eerst een subset maken:"
   ]
  },
  {
   "cell_type": "code",
   "execution_count": null,
   "metadata": {},
   "outputs": [],
   "source": [
    "# Originele dataset path en doel voor subset\n",
    "original_dataset_path = \"../data/idc_regular\"\n",
    "subset_path = \"../data/subset_data\"\n",
    "\n",
    "# Parameters voor subset\n",
    "num_patients = 100  # Aantal patiëntenfolders om te selecteren\n",
    "num_images_per_class = 1400  # Aantal afbeeldingen per klasse (0 en 1)\n",
    "\n",
    "# Functie om subset te maken\n",
    "def create_subset(original_path, subset_path, num_patients, num_images_per_class):\n",
    "    # Verwijder bestaande subset map als die bestaat\n",
    "    if os.path.exists(subset_path):\n",
    "        shutil.rmtree(subset_path)\n",
    "    os.makedirs(subset_path)\n",
    "\n",
    "    # Selecteer willekeurige patiëntenfolders\n",
    "    patient_folders = [f for f in os.listdir(original_path) if os.path.isdir(os.path.join(original_path, f))]\n",
    "    selected_patients = random.sample(patient_folders, min(num_patients, len(patient_folders)))\n",
    "\n",
    "    for patient in selected_patients:\n",
    "        patient_original_path = os.path.join(original_path, patient)\n",
    "        patient_subset_path = os.path.join(subset_path, patient)\n",
    "\n",
    "        os.makedirs(patient_subset_path, exist_ok=True)\n",
    "\n",
    "        for class_folder in [\"0\", \"1\"]:\n",
    "            class_original_path = os.path.join(patient_original_path, class_folder)\n",
    "            class_subset_path = os.path.join(patient_subset_path, class_folder)\n",
    "\n",
    "            if os.path.exists(class_original_path):\n",
    "                os.makedirs(class_subset_path, exist_ok=True)\n",
    "\n",
    "                # Selecteer willekeurige afbeeldingen\n",
    "                images = [f for f in os.listdir(class_original_path) if f.endswith(\".png\")]\n",
    "                selected_images = random.sample(images, min(num_images_per_class, len(images)))\n",
    "\n",
    "                # Kopieer geselecteerde afbeeldingen naar subset\n",
    "                for image in selected_images:\n",
    "                    src = os.path.join(class_original_path, image)\n",
    "                    dst = os.path.join(class_subset_path, image)\n",
    "                    shutil.copyfile(src, dst)\n",
    "\n",
    "    print(f\"Subset created at: {subset_path}\")\n",
    "\n",
    "# Run de subset generator\n",
    "create_subset(original_dataset_path, subset_path, num_patients, num_images_per_class)"
   ]
  },
  {
   "cell_type": "markdown",
   "metadata": {},
   "source": [
    "We gaan nu de missende waarden checken van de dataset:"
   ]
  },
  {
   "cell_type": "code",
   "execution_count": null,
   "metadata": {},
   "outputs": [],
   "source": [
    "# Path naar de dataset\n",
    "dataset_path = \"../data/subset_data\"  # Of de originele dataset\n",
    "\n",
    "# Functie om afwijkingen te controleren\n",
    "def detect_invalid_images_with_shape(dataset_path):\n",
    "    invalid_images = []  # Hier slaan we alle afwijkende afbeeldingen op\n",
    "\n",
    "    for root, _, files in os.walk(dataset_path):\n",
    "        for file in files:\n",
    "            if file.endswith(\".png\"):\n",
    "                file_path = os.path.join(root, file)\n",
    "                try:\n",
    "                    with Image.open(file_path) as img:\n",
    "                        # Converteer afbeelding naar een numpy-array\n",
    "                        img_array = np.array(img)\n",
    "                        \n",
    "                        # Controleer vorm\n",
    "                        if img_array.shape[:2] != (50, 50):\n",
    "                            invalid_images.append((file_path, f\"Invalid shape: {img_array.shape[:2]}\"))\n",
    "                        \n",
    "                        # Controleer modus (grijswaarden is 'L')\n",
    "                        if img.mode == 'L':  # Grijswaarden zijn niet toegestaan\n",
    "                            invalid_images.append((file_path, f\"Invalid mode: {img.mode}\"))\n",
    "                except Exception as e:\n",
    "                    invalid_images.append((file_path, f\"Error: {str(e)}\"))\n",
    "\n",
    "    return invalid_images\n",
    "\n",
    "invalid_images = detect_invalid_images_with_shape(dataset_path)\n",
    "\n",
    "# Resultaten tonen\n",
    "if invalid_images:\n",
    "    print(f\"Found {len(invalid_images)} invalid images:\")\n",
    "    for file_path, issue in invalid_images:\n",
    "        print(f\"{file_path}: {issue}\")\n",
    "else:\n",
    "    print(\"All images meet the requirements!\")\n"
   ]
  },
  {
   "cell_type": "markdown",
   "metadata": {},
   "source": [
    "Er zijn dus images die niet voldoen aan de waarde van 50 bij 50 pixels. Deze moeten verwijderd worden in de uiteindelijke subset die gebruikt wordt voor het model. "
   ]
  },
  {
   "cell_type": "code",
   "execution_count": null,
   "metadata": {},
   "outputs": [],
   "source": [
    "# Path naar de dataset\n",
    "dataset_path = \"../data/subset_data\"  \n",
    "\n",
    "# Functie om ongeldige afbeeldingen te detecteren en te verwijderen\n",
    "def remove_invalid_images(dataset_path):\n",
    "    removed_images = []  # Lijst met paden van verwijderde afbeeldingen\n",
    "    errors = []  # Lijst met afbeeldingen die niet verwijderd konden worden\n",
    "\n",
    "    for root, _, files in os.walk(dataset_path):\n",
    "        for file in files:\n",
    "            if file.endswith(\".png\"):\n",
    "                file_path = os.path.join(root, file)\n",
    "                try:\n",
    "                    with Image.open(file_path) as img:\n",
    "                        # Converteer afbeelding naar een numpy-array\n",
    "                        img_array = np.array(img)\n",
    "\n",
    "                        # Controleer of de afbeelding ongeldig is\n",
    "                        if img_array.shape[:2] != (50, 50) or img.mode == 'L':\n",
    "                            # Verwijder de afbeelding\n",
    "                            os.remove(file_path)\n",
    "                            removed_images.append(file_path)\n",
    "                except Exception as e:\n",
    "                    errors.append((file_path, str(e)))\n",
    "\n",
    "    return removed_images, errors\n",
    "\n",
    "# Run de controle en verwijdering\n",
    "removed_images, errors = remove_invalid_images(dataset_path)\n",
    "\n",
    "# Resultaten tonen\n",
    "if removed_images:\n",
    "    print(f\"Removed {len(removed_images)} invalid images:\")\n",
    "    for file_path in removed_images:\n",
    "        print(f\"Removed: {file_path}\")\n",
    "else:\n",
    "    print(\"No invalid images found!\")\n",
    "\n",
    "if errors:\n",
    "    print(f\"Encountered {len(errors)} errors while trying to remove images:\")\n",
    "    for file_path, error in errors:\n",
    "        print(f\"{file_path}: {error}\")\n"
   ]
  },
  {
   "cell_type": "markdown",
   "metadata": {},
   "source": [
    "De subset_data is nu opgeschoond. "
   ]
  },
  {
   "cell_type": "markdown",
   "metadata": {},
   "source": [
    "### Verhouding gezonde en ongezonde weefsels"
   ]
  },
  {
   "cell_type": "markdown",
   "metadata": {},
   "source": [
    "De breakdown tussen gezonde en ongezonde weefsels gaat ons helpen om beslissingen te maken hoe we de training data gaan splitsen. "
   ]
  },
  {
   "cell_type": "code",
   "execution_count": null,
   "metadata": {},
   "outputs": [],
   "source": [
    "# hoofdmap\n",
    "patient_id = '../data/idc_regular/'\n",
    "\n",
    "# Lijsten voor positieve en negatieve afbeeldingen\n",
    "imgs_positive = []\n",
    "imgs_negative = []\n",
    "\n",
    "# Loop door alle subdirectories in 'idc_regular'\n",
    "for subdir in os.listdir(patient_id):\n",
    "    subdir_path = os.path.join(patient_id, subdir)\n",
    "    # Controleer of het een directory is\n",
    "    if os.path.isdir(subdir_path):\n",
    "        # Voeg bestanden toe aan de juiste lijst\n",
    "        try:\n",
    "            imgs_negative.extend([os.path.join(subdir_path, '0', file) \n",
    "                                  for file in os.listdir(os.path.join(subdir_path, '0'))])\n",
    "            imgs_positive.extend([os.path.join(subdir_path, '1', file) \n",
    "                                  for file in os.listdir(os.path.join(subdir_path, '1'))])\n",
    "        except FileNotFoundError:\n",
    "            # Sla over als de subdirectory geen '0' of '1' bevat\n",
    "            pass\n",
    "\n",
    "# Controleer het aantal afbeeldingen\n",
    "total_negative = len(imgs_negative)\n",
    "total_positive = len(imgs_positive)\n",
    "\n",
    "# Bereken de verhouding\n",
    "ratio = total_negative / total_positive if total_positive > 0 else \"Onbepaald\"\n",
    "\n",
    "# Toon de resultaten\n",
    "print(f\"Totaal aantal gezonde afbeeldingen: {total_negative}\")\n",
    "print(f\"Totaal aantal ongezonde afbeeldingen: {total_positive}\")\n",
    "print(f\"Verhouding gezonde tot ongezonde afbeeldingen: {ratio:.2f}:1\" if total_positive > 0 else \"Geen ongezonde afbeeldingen\")\n",
    "print(f\"Percentage ongezonde afbeeldingen: {total_positive / (total_negative + total_positive) * 100:.2f}%\" if total_positive > 0 else \"0.00%\")\n",
    "print(f\"Percentage gezonde afbeeldingen: {total_negative / (total_negative + total_positive) * 100:.2f}%\" if total_positive > 0 else \"100.00%\")\n"
   ]
  },
  {
   "cell_type": "markdown",
   "metadata": {},
   "source": [
    "We zien hier dat we significant meer gezond weefsel hebben dan ongezond weefsel. Voor elke afbeelding van ongezond weefsel hebben we 2.52 afbeeldingen van gezond weefsel. De dataset bestaat voor 28.39% uit ongezond weefsel en voor 71.61% uit gezond weefsel."
   ]
  },
  {
   "cell_type": "markdown",
   "metadata": {},
   "source": [
    "### Ongezond weefsel per patient tov gemiddelde"
   ]
  },
  {
   "cell_type": "markdown",
   "metadata": {},
   "source": [
    "Dan laten we nu de weefselpercentages zien van de scan, maar nu per patient en ten opzichte van het gemiddelde. "
   ]
  },
  {
   "cell_type": "code",
   "execution_count": null,
   "metadata": {},
   "outputs": [],
   "source": [
    "# Pad naar de hoofdmap\n",
    "patient_id = '../data/idc_regular/'\n",
    "\n",
    "# Lijsten voor positieve en negatieve afbeeldingen\n",
    "patient_data = {}\n",
    "\n",
    "# Loop door alle subdirectories in 'idc_regular'\n",
    "for subdir in os.listdir(patient_id):\n",
    "    subdir_path = os.path.join(patient_id, subdir)\n",
    "    # Controleer of het een directory is\n",
    "    if os.path.isdir(subdir_path):\n",
    "        try:\n",
    "            # Haal positieve en negatieve afbeeldingen op\n",
    "            imgs_negative = [os.path.join(subdir_path, '0', file) \n",
    "                             for file in os.listdir(os.path.join(subdir_path, '0'))]\n",
    "            imgs_positive = [os.path.join(subdir_path, '1', file) \n",
    "                             for file in os.listdir(os.path.join(subdir_path, '1'))]\n",
    "\n",
    "            # Bereken aantallen en percentage\n",
    "            total_negative = len(imgs_negative)\n",
    "            total_positive = len(imgs_positive)\n",
    "            total_images = total_negative + total_positive\n",
    "            percentage_positive = (total_positive / total_images * 100) if total_images > 0 else 0\n",
    "\n",
    "            # Voeg data toe aan patient_data\n",
    "            patient_data[subdir] = {\n",
    "                \"total_negative\": total_negative,\n",
    "                \"total_positive\": total_positive,\n",
    "                \"percentage_positive\": percentage_positive\n",
    "            }\n",
    "        except FileNotFoundError:\n",
    "            # Sla over als de subdirectory geen '0' of '1' bevat\n",
    "            pass\n",
    "\n",
    "# Bereken gemiddelde percentage ongezonde afbeeldingen\n",
    "all_positive = sum(data[\"total_positive\"] for data in patient_data.values())\n",
    "all_images = sum(data[\"total_negative\"] + data[\"total_positive\"] for data in patient_data.values())\n",
    "average_positive_percentage = (all_positive / all_images * 100) if all_images > 0 else 0\n",
    "\n",
    "# Toon resultaten per patiënt\n",
    "print(\"Resultaten per patiënt:\")\n",
    "for patient, data in patient_data.items():\n",
    "    print(f\"Patiënt: {patient}\")\n",
    "    print(f\"  Totaal gezonde afbeeldingen: {data['total_negative']}\")\n",
    "    print(f\"  Totaal ongezonde afbeeldingen: {data['total_positive']}\")\n",
    "    print(f\"  Percentage ongezonde afbeeldingen: {data['percentage_positive']:.2f}%\")\n",
    "    comparison = \"boven\" if data['percentage_positive'] > average_positive_percentage else \"onder\"\n",
    "    print(f\"  Dit percentage is {comparison} het gemiddelde ({average_positive_percentage:.2f}%).\")\n",
    "\n",
    "# Toon algemene resultaten\n",
    "print(\"\\nAlgemene resultaten:\")\n",
    "print(f\"Totaal aantal afbeeldingen: {all_images}\")\n",
    "print(f\"Totaal ongezonde afbeeldingen: {all_positive}\")\n",
    "print(f\"Gemiddelde percentage ongezonde afbeeldingen: {average_positive_percentage:.2f}%\")\n"
   ]
  },
  {
   "cell_type": "markdown",
   "metadata": {},
   "source": [
    "We zien dat verschillende patienten verschillende mate van tumorgroei hebben in hun weefsel. Het gemiddelde van ongezonde afbeeldingen is 28.39%. We kunnen zien welke gebieden van de totale scan (x-y-coördinaten) het meest worden geïnfecteerd met IDC. Op basis van dit gegeven kunnen we iets zeggen dat tumoren op elke plek in de scan voor kunnen komen. Dit is echter al voor de hand liggend, dus gaan we verder naar de visualisaties:"
   ]
  },
  {
   "cell_type": "markdown",
   "metadata": {},
   "source": [
    "### Visualisaties"
   ]
  },
  {
   "cell_type": "markdown",
   "metadata": {},
   "source": [
    "We tonen nu een aantal uitsneden van zowel gezond als ongezond weefsel:"
   ]
  },
  {
   "cell_type": "code",
   "execution_count": null,
   "metadata": {},
   "outputs": [],
   "source": [
    "# Stel patiënt ID in\n",
    "patient_id = '../data/idc_regular/8863'\n",
    "\n",
    "# Lijsten voor positieve en negatieve afbeeldingen\n",
    "imgs_positive = []\n",
    "imgs_negative = []\n",
    "\n",
    "# Vul de lijsten met bestanden\n",
    "imgs_negative.extend(os.listdir(f'{patient_id}/0/'))\n",
    "imgs_positive.extend(os.listdir(f'{patient_id}/1/'))\n",
    "\n",
    "# Kies een willekeurige positieve afbeelding\n",
    "idx = np.random.choice(len(imgs_positive))\n",
    "img = Image.open(f'{patient_id}/1/{imgs_positive[idx]}') \n",
    "\n",
    "# Plot 3x3 positieve afbeeldingen (directory 1)\n",
    "fig, ax = plt.subplots(3, 3, figsize=(8, 6))\n",
    "for r in range(3):\n",
    "    for c in range(3):\n",
    "        idx = np.random.choice(len(imgs_positive))\n",
    "        img = Image.open(f'{patient_id}/1/{imgs_positive[idx]}')\n",
    "        ax[c, r].imshow(img, cmap='gray')\n",
    "print(\"cancerous:\")\n",
    "plt.show()\n",
    "\n",
    "# Plot 3x3 negatieve afbeeldingen (directory 0)\n",
    "fig, ax = plt.subplots(3, 3, figsize=(8, 6))\n",
    "for r in range(3):\n",
    "    for c in range(3):\n",
    "        idx = np.random.choice(len(imgs_negative))\n",
    "        img = Image.open(f'{patient_id}/0/{imgs_negative[idx]}')\n",
    "        ax[c, r].imshow(img, cmap='gray')\n",
    "print(\"healthy:\")\n",
    "plt.show()"
   ]
  },
  {
   "cell_type": "markdown",
   "metadata": {},
   "source": [
    "Bij het bekijken van weefselafbeeldingen valt op dat kankercellen doorgaans een intensere paarse kleur hebben, veroorzaakt door een hogere kernendichtheid (donkerpaarse kleuring door hematoxyline). Gezond weefsel bevat meer witte gebieden door extracellulaire ruimtes of vetweefsel en heeft een meer georganiseerde structuur. Deze kleurverschillen zijn nuttig voor classificatie tussen kankercellen en gezond weefsel. Dit klopt met de literatuur. "
   ]
  },
  {
   "cell_type": "markdown",
   "metadata": {},
   "source": [
    "# Deel 2 Een model trainen"
   ]
  },
  {
   "cell_type": "markdown",
   "metadata": {},
   "source": [
    "### Preprocess de data"
   ]
  },
  {
   "cell_type": "markdown",
   "metadata": {},
   "source": [
    "Eerst moeten we de data splitten. Je kunt de data splitsen op twee manieren:\n",
    "\n",
    "- Horizontaal (per patiënt een deel weghalen)\n",
    "    Hierbij splits je de afbeeldingen binnen dezelfde patiënt in trainings- en testsets.\n",
    "    Afbeeldingen uit elke patiëntmap willekeurig worden verdeeld tussen de train- en testsets.\n",
    "    Voordeel: Meer data beschikbaar in beide sets, maar kan leiden tot overfitting als patiëntenvariatie niet goed wordt meegenomen.\n",
    "- Verticaal (een deel van de patiënten als testset)\n",
    "    Hierbij splits je de patiënten zelf in trainings- en testsets.\n",
    "    Hele patiëntmappen toewijzen aan de train- of testset\n",
    "    Voordeel: Realistischere evaluatie, omdat het model leert generaliseren naar nieuwe patiënten.\n",
    "\n",
    "De onderstaande code implementeert een horizontale splitsing. Het doel is om het model te laten leren op basis van kenmerken die aanwezig zijn in individuele uitsneden (bijvoorbeeld textuur of kleurverandering), dan is horizontale splitsing logisch. Het model leert dan patronen herkennen die indicatief zijn voor IDC, onafhankelijk van de patiënt. Als het doel is om niet patiënten te classificeren, maar uitsneden (bijvoorbeeld voor specifieke onderzoeken naar micro-locaties in weefsel), dan past horizontale splitsing beter bij deze vraagstelling."
   ]
  },
  {
   "cell_type": "code",
   "execution_count": null,
   "metadata": {},
   "outputs": [],
   "source": [
    "# Het datapad is nog steeds \"..data/subset_data\"\n",
    "def collect_images(patient_paths):\n",
    "    images, labels = [], []\n",
    "    for patient_path in patient_paths:\n",
    "        for label in ['0', '1']:\n",
    "            folder_path = os.path.join(patient_path, label)\n",
    "            if os.path.exists(folder_path):\n",
    "                for file in os.listdir(folder_path):\n",
    "                    file_path = os.path.join(folder_path, file)\n",
    "                    img = Image.open(file_path)\n",
    "                    images.append(np.array(img))  # Afbeelding opslaan als numpy array\n",
    "                    labels.append(int(label))  # Label is 0 (gezond) of 1 (ongezond)\n",
    "    return images, labels\n",
    "\n",
    "# Verzamelen van alle patiëntmappen\n",
    "patient_folders = [os.path.join(dataset_path, subdir) for subdir in os.listdir(dataset_path) if os.path.isdir(os.path.join(dataset_path, subdir))]\n",
    "\n",
    "# Splits patiënten in train- en testgroepen\n",
    "train_patients, test_patients = train_test_split(patient_folders, test_size=0.2, random_state=42)\n",
    "\n",
    "# Verzamel afbeeldingen en labels voor train- en testgroepen\n",
    "train_images, train_labels = collect_images(train_patients)\n",
    "test_images, test_labels = collect_images(test_patients)\n",
    "\n",
    "# Inspectie van de vorm van afbeeldingen\n",
    "print(f\"Train images shape: {np.array(train_images).shape}\")\n",
    "print(f\"Test images shape: {np.array(test_images).shape}\")\n",
    "\n",
    "# Gezonde (label 0) en ongezonde (label 1) foto's tellen\n",
    "num_train_healthy = sum(label == 0 for label in train_labels)\n",
    "num_train_unhealthy = sum(label == 1 for label in train_labels)\n",
    "\n",
    "num_test_healthy = sum(label == 0 for label in test_labels)\n",
    "num_test_unhealthy = sum(label == 1 for label in test_labels)\n",
    "\n",
    "# Resultaten tonen\n",
    "print(f\"Train healthy images: {num_train_healthy}, Train unhealthy images: {num_train_unhealthy}\")\n",
    "print(f\"Test healthy images: {num_test_healthy}, Test unhealthy images: {num_test_unhealthy}\")\n"
   ]
  },
  {
   "cell_type": "code",
   "execution_count": null,
   "metadata": {},
   "outputs": [],
   "source": [
    "print(type(train_images))\n",
    "print(type(train_labels))\n",
    "print(type(test_images))\n",
    "print(type(test_labels))"
   ]
  },
  {
   "cell_type": "markdown",
   "metadata": {},
   "source": [
    "We werken voor nu dus met een training data waarvan de verdeling te zien is in het bovenstaande codeblock (aantal images, pixel 1, pixel 2, RGB waarde). Alle images zijn 50x50 pixels en hebben een RGB waarde die 3 is (rood, blauw groen). Hieronder zijn de pixel values te zien:"
   ]
  },
  {
   "cell_type": "code",
   "execution_count": null,
   "metadata": {},
   "outputs": [],
   "source": [
    "plt.figure()\n",
    "plt.imshow(train_images[0])\n",
    "plt.colorbar()\n",
    "plt.grid(False)\n",
    "plt.show()\n",
    "\n",
    "print(f\"Minimale pixelvalue: {np.min(train_images[0])}\")\n",
    "print(f\"Maximale pixelvalue: {np.max(train_images[0])}\")"
   ]
  },
  {
   "cell_type": "markdown",
   "metadata": {},
   "source": [
    "De maximale pixelvalue van deze specifieke afbeelding is dus 247. We moeten deze schaalen naar een getal van 0 tot 1. We delen de pixelvalues door 255 omdat dit de maximale waarde is voor een min-max normalisatie. "
   ]
  },
  {
   "cell_type": "code",
   "execution_count": null,
   "metadata": {},
   "outputs": [],
   "source": [
    "\n",
    "\n",
    "\n",
    "# Normaliseer de pixelwaarden van de afbeeldingen tussen 0 en 1\n",
    "train_images = np.array(train_images) / 255.0\n",
    "test_images = np.array(test_images) / 255.0\n",
    "\n",
    "# Zet labels om naar numpy-arrays\n",
    "train_labels = np.array(train_labels)\n",
    "test_labels = np.array(test_labels)\n",
    "\n",
    "# Converteer labels naar one-hot encoding (aantal klassen aanpassen indien nodig)\n",
    "num_classes = 2  # Pas dit aan als je meer dan twee klassen hebt\n",
    "#train_labels = to_categorical(train_labels, num_classes=num_classes)\n",
    "#test_labels = to_categorical(test_labels, num_classes=num_classes)\n",
    "\n",
    "# Controleer de vorm en het bereik van de data\n",
    "print(f\"Train images shape: {train_images.shape}, range: {train_images.min()} - {train_images.max()}\")\n",
    "print(f\"Test images shape: {test_images.shape}, range: {test_images.min()} - {test_images.max()}\")\n",
    "print(f\"Train labels shape: {train_labels.shape}, example: {train_labels[0]}\")\n",
    "print(f\"Test labels shape: {test_labels.shape}, example: {test_labels[0]}\")\n"
   ]
  },
  {
   "cell_type": "markdown",
   "metadata": {},
   "source": [
    "Om te verivieren dat de data in het juiste format staat gaan we eerst checken:"
   ]
  },
  {
   "cell_type": "markdown",
   "metadata": {},
   "source": [
    "### Modeltraining"
   ]
  },
  {
   "cell_type": "code",
   "execution_count": null,
   "metadata": {},
   "outputs": [],
   "source": [
    "# Create a simple model\n",
    "model = tf.keras.Sequential([\n",
    "    tf.keras.layers.Flatten(input_shape=(50, 50, 3)),  # Input shape should match your image data\n",
    "    tf.keras.layers.Dense(128, activation='relu'),\n",
    "    tf.keras.layers.Dense(1, activation='sigmoid')  # Binary classification output\n",
    "])"
   ]
  },
  {
   "cell_type": "markdown",
   "metadata": {},
   "source": [
    "### Compile model"
   ]
  },
  {
   "cell_type": "code",
   "execution_count": 16,
   "metadata": {},
   "outputs": [],
   "source": [
    "# Compile the model\n",
    "model.compile(\n",
    "    optimizer='adam',\n",
    "    loss='binary_crossentropy',\n",
    "    metrics=['accuracy']\n",
    ")\n"
   ]
  },
  {
   "cell_type": "code",
   "execution_count": null,
   "metadata": {},
   "outputs": [],
   "source": [
    "print(f\"Train labels shape: {train_labels.shape}\")\n",
    "print(f\"Test labels shape: {test_labels.shape}\")\n"
   ]
  },
  {
   "cell_type": "markdown",
   "metadata": {},
   "source": [
    "### Fit de data"
   ]
  },
  {
   "cell_type": "code",
   "execution_count": null,
   "metadata": {},
   "outputs": [],
   "source": [
    "# Fit the model\n",
    "history = model.fit(\n",
    "    train_images, \n",
    "    train_labels, \n",
    "    epochs=10,  # Adjust epochs as needed\n",
    "    batch_size=8,\n",
    "    validation_data=(test_images, test_labels)\n",
    ")\n"
   ]
  },
  {
   "cell_type": "markdown",
   "metadata": {},
   "source": [
    "### Evaluatie"
   ]
  },
  {
   "cell_type": "code",
   "execution_count": null,
   "metadata": {},
   "outputs": [],
   "source": [
    "# Evaluate the model\n",
    "test_loss, test_accuracy = model.evaluate(test_images, test_labels)\n",
    "print(f\"Test Accuracy: {test_accuracy}\")\n"
   ]
  }
 ],
 "metadata": {
  "kernelspec": {
   "display_name": "modelleren_van_kanker",
   "language": "python",
   "name": "python3"
  },
  "language_info": {
   "codemirror_mode": {
    "name": "ipython",
    "version": 3
   },
   "file_extension": ".py",
   "mimetype": "text/x-python",
   "name": "python",
   "nbconvert_exporter": "python",
   "pygments_lexer": "ipython3",
   "version": "3.12.7"
  }
 },
 "nbformat": 4,
 "nbformat_minor": 2
}
