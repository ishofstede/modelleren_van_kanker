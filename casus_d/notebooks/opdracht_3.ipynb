{
 "cells": [
  {
   "cell_type": "markdown",
   "metadata": {
    "vscode": {
     "languageId": "plaintext"
    }
   },
   "source": [
    "# Opdracht 3 Soort van YOLO"
   ]
  },
  {
   "cell_type": "markdown",
   "metadata": {},
   "source": [
    "YOLO\n",
    "je hebt een grid en bepaald wat is de kans dat dit celletje de centrale cel is van bijvoorbeedl een plaatsje van een hond. Het model doet een voorspelling. YOLO is een pytorch ding. we gebruiken het model dat al gebruikt is om images te detecteren. Kijken waar er bounding boxes zijn. missende data, de totale oppervlak van het plaatjem hoeveel wordt opgevuld door tegels?\n",
    "Oppervlak keer 250? en dan krijg je de opvulling, check of dit correct is. per plaatje breedte en hoogte bepalen. Per afbeelding een bestand maken voor de labels directory. Coords-idc.txt is een plaatje en de bounding box van tumoren. linksboven naar rechtsonder. "
   ]
  },
  {
   "cell_type": "markdown",
   "metadata": {},
   "source": [
    "### Laad libraries"
   ]
  },
  {
   "cell_type": "code",
   "execution_count": null,
   "metadata": {},
   "outputs": [],
   "source": [
    "import os\n",
    "import pandas as pd\n",
    "import shutil\n",
    "import random"
   ]
  },
  {
   "cell_type": "markdown",
   "metadata": {},
   "source": [
    "### Data omzetten naar YOLO-formaat"
   ]
  },
  {
   "cell_type": "code",
   "execution_count": null,
   "metadata": {},
   "outputs": [],
   "source": [
    "# Functie om annotaties om te zetten naar YOLO-formaat\n",
    "def convert_to_yolo_format(coords_file, images_folder, output_folder):\n",
    "    \"\"\"\n",
    "    Converteert annotaties van een CSV-bestand naar YOLO-formaat.\n",
    "\n",
    "    Parameters:\n",
    "    - coords_file (str): Pad naar het CSV-bestand met annotaties.\n",
    "    - images_folder (str): Map met afbeeldingsbestanden.\n",
    "    - output_folder (str): Map om de YOLO-annotaties op te slaan.\n",
    "\n",
    "    Returns:\n",
    "    None\n",
    "    \"\"\"\n",
    "    # Maak output map aan als die nog niet bestaat\n",
    "    os.makedirs(output_folder, exist_ok=True)\n",
    "\n",
    "    # Laad annotaties\n",
    "    coords = pd.read_csv(coords_file, header=None, names=[\"image_id\", \"xmin\", \"ymin\", \"xmax\", \"ymax\"])\n",
    "\n",
    "    for image_id in coords[\"image_id\"].unique():\n",
    "        # Selecteer alle annotaties voor een afbeelding\n",
    "        image_coords = coords[coords[\"image_id\"] == image_id]\n",
    "        \n",
    "        # Bereken de afmetingen van de afbeelding\n",
    "        image_path = os.path.join(images_folder, f\"{image_id}.jpeg\")\n",
    "        if not os.path.exists(image_path):\n",
    "            print(f\"Afbeelding {image_path} niet gevonden.\")\n",
    "            continue\n",
    "        \n",
    "        from PIL import Image\n",
    "        with Image.open(image_path) as img:\n",
    "            width, height = img.size\n",
    "\n",
    "        # Genereer YOLO-annotaties\n",
    "        yolo_annotations = []\n",
    "        for _, row in image_coords.iterrows():\n",
    "            x_center = ((row[\"xmin\"] + row[\"xmax\"]) / 2) / width\n",
    "            y_center = ((row[\"ymin\"] + row[\"ymax\"]) / 2) / height\n",
    "            bbox_width = (row[\"xmax\"] - row[\"xmin\"]) / width\n",
    "            bbox_height = (row[\"ymax\"] - row[\"ymin\"]) / height\n",
    "            yolo_annotations.append(f\"1 {x_center} {y_center} {bbox_width} {bbox_height}\")\n",
    "\n",
    "        # Schrijf annotaties naar bestand\n",
    "        annotation_path = os.path.join(output_folder, f\"{image_id}.txt\")\n",
    "        with open(annotation_path, \"w\") as f:\n",
    "            f.write(\"\\n\".join(yolo_annotations))\n",
    "\n",
    "# Bestandspaden\n",
    "coords_file = \"../data/coords-idc.txt\"\n",
    "images_folder = \"../data/complete_images\"\n",
    "output_folder = \"../yolo_labels\"\n",
    "convert_to_yolo_format(coords_file, images_folder, output_folder)"
   ]
  },
  {
   "cell_type": "markdown",
   "metadata": {},
   "source": [
    "### Directory-structuur creëren"
   ]
  },
  {
   "cell_type": "code",
   "execution_count": null,
   "metadata": {},
   "outputs": [],
   "source": [
    "def create_dataset_structure(images_folder, labels_folder, output_folder, train_ratio=0.8):\n",
    "    \"\"\"\n",
    "    Creëert een gestructureerde dataset met een training- en validatieset.\n",
    "\n",
    "    Parameters:\n",
    "    - images_folder (str): Map met afbeeldingsbestanden.\n",
    "    - labels_folder (str): Map met YOLO-annotaties.\n",
    "    - output_folder (str): Doelmap voor gestructureerde dataset.\n",
    "    - train_ratio (float): Ratio van training-data tot validatie-data.\n",
    "\n",
    "    Returns:\n",
    "    None\n",
    "    \"\"\"\n",
    "    # Maak mapstructuur\n",
    "    for split in [\"train\", \"val\"]:\n",
    "        os.makedirs(os.path.join(output_folder, \"images\", split), exist_ok=True)\n",
    "        os.makedirs(os.path.join(output_folder, \"labels\", split), exist_ok=True)\n",
    "\n",
    "    # Verdeel data in training- en validatiesets\n",
    "    image_files = [f for f in os.listdir(images_folder) if f.endswith(\".jpeg\")]\n",
    "    random.shuffle(image_files)\n",
    "    train_split = int(len(image_files) * train_ratio)\n",
    "\n",
    "    splits = {\n",
    "        \"train\": image_files[:train_split],\n",
    "        \"val\": image_files[train_split:]\n",
    "    }\n",
    "\n",
    "    for split, files in splits.items():\n",
    "        for image_file in files:\n",
    "            # Verplaats afbeelding\n",
    "            src_image = os.path.join(images_folder, image_file)\n",
    "            dest_image = os.path.join(output_folder, \"images\", split, image_file)\n",
    "            shutil.copy(src_image, dest_image)\n",
    "\n",
    "            # Verplaats corresponderend label\n",
    "            label_file = image_file.replace(\".jpeg\", \".txt\")\n",
    "            src_label = os.path.join(labels_folder, label_file)\n",
    "            dest_label = os.path.join(output_folder, \"labels\", split, label_file)\n",
    "            if os.path.exists(src_label):\n",
    "                shutil.copy(src_label, dest_label)\n",
    "\n",
    "images_folder = \"../data/complete_images\"\n",
    "labels_folder = \"../yolo_labels\"\n",
    "output_folder = \"../dataset\"\n",
    "create_dataset_structure(images_folder, labels_folder, output_folder)"
   ]
  },
  {
   "cell_type": "markdown",
   "metadata": {},
   "source": [
    "### YOLO-configuratiebestand"
   ]
  },
  {
   "cell_type": "code",
   "execution_count": 4,
   "metadata": {},
   "outputs": [],
   "source": [
    "with open(\"../dataset.yaml\", \"w\") as f:\n",
    "    f.write(\n",
    "        f\"\"\"train: {os.path.abspath(output_folder)}/images/train\n",
    "val: {os.path.abspath(output_folder)}/images/val\n",
    "\n",
    "nc: 1\n",
    "names: ['tumor']\n",
    "\"\"\"\n",
    "    )"
   ]
  },
  {
   "cell_type": "markdown",
   "metadata": {},
   "source": [
    "### YOLOv5 trainen"
   ]
  },
  {
   "cell_type": "code",
   "execution_count": null,
   "metadata": {},
   "outputs": [],
   "source": [
    "from ultralytics import YOLO\n",
    "\n",
    "model = YOLO(\"yolov5n.pt\")\n",
    "model.train(data=\"dataset.yaml\", epochs=50, single_cls=True)"
   ]
  },
  {
   "cell_type": "markdown",
   "metadata": {},
   "source": [
    "### Voorspellingen doen"
   ]
  },
  {
   "cell_type": "code",
   "execution_count": null,
   "metadata": {},
   "outputs": [],
   "source": [
    "def make_predictions(model_path, test_images_folder, output_folder):\n",
    "    os.makedirs(output_folder, exist_ok=True)\n",
    "    model = YOLO(model_path)\n",
    "    results = model.predict(source=test_images_folder, save=True)\n",
    "    return results\n",
    "\n",
    "make_predictions(\"runs/detect/train/weights/best.pt\", \"test_images\", \"predictions\")"
   ]
  }
 ],
 "metadata": {
  "kernelspec": {
   "display_name": "modelleren_van_kanker",
   "language": "python",
   "name": "python3"
  },
  "language_info": {
   "codemirror_mode": {
    "name": "ipython",
    "version": 3
   },
   "file_extension": ".py",
   "mimetype": "text/x-python",
   "name": "python",
   "nbconvert_exporter": "python",
   "pygments_lexer": "ipython3",
   "version": "3.12.7"
  }
 },
 "nbformat": 4,
 "nbformat_minor": 2
}
